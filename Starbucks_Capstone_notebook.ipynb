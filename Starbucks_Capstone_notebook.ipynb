{
  "cells": [
    {
      "cell_type": "markdown",
      "metadata": {
        "id": "smS9wEyVOSeN"
      },
      "source": [
        "# Starbucks Capstone Challenge\n",
        "\n",
        "### Introduction\n",
        "\n",
        "This data set contains simulated data that mimics customer behavior on the Starbucks rewards mobile app. Once every few days, Starbucks sends out an offer to users of the mobile app. An offer can be merely an advertisement for a drink or an actual offer such as a discount or BOGO (buy one get one free). Some users might not receive any offer during certain weeks. \n",
        "\n",
        "Not all users receive the same offer, and that is the challenge to solve with this data set.\n",
        "\n",
        "Your task is to combine transaction, demographic and offer data to determine which demographic groups respond best to which offer type. This data set is a simplified version of the real Starbucks app because the underlying simulator only has one product whereas Starbucks actually sells dozens of products.\n",
        "\n",
        "Every offer has a validity period before the offer expires. As an example, a BOGO offer might be valid for only 5 days. You'll see in the data set that informational offers have a validity period even though these ads are merely providing information about a product; for example, if an informational offer has 7 days of validity, you can assume the customer is feeling the influence of the offer for 7 days after receiving the advertisement.\n",
        "\n",
        "You'll be given transactional data showing user purchases made on the app including the timestamp of purchase and the amount of money spent on a purchase. This transactional data also has a record for each offer that a user receives as well as a record for when a user actually views the offer. There are also records for when a user completes an offer. \n",
        "\n",
        "Keep in mind as well that someone using the app might make a purchase through the app without having received an offer or seen an offer.\n",
        "\n",
        "### Example\n",
        "\n",
        "To give an example, a user could receive a discount offer buy 10 dollars get 2 off on Monday. The offer is valid for 10 days from receipt. If the customer accumulates at least 10 dollars in purchases during the validity period, the customer completes the offer.\n",
        "\n",
        "However, there are a few things to watch out for in this data set. Customers do not opt into the offers that they receive; in other words, a user can receive an offer, never actually view the offer, and still complete the offer. For example, a user might receive the \"buy 10 dollars get 2 dollars off offer\", but the user never opens the offer during the 10 day validity period. The customer spends 15 dollars during those ten days. There will be an offer completion record in the data set; however, the customer was not influenced by the offer because the customer never viewed the offer.\n",
        "\n",
        "### Cleaning\n",
        "\n",
        "This makes data cleaning especially important and tricky.\n",
        "\n",
        "You'll also want to take into account that some demographic groups will make purchases even if they don't receive an offer. From a business perspective, if a customer is going to make a 10 dollar purchase without an offer anyway, you wouldn't want to send a buy 10 dollars get 2 dollars off offer. You'll want to try to assess what a certain demographic group will buy when not receiving any offers.\n",
        "\n",
        "### Final Advice\n",
        "\n",
        "Because this is a capstone project, you are free to analyze the data any way you see fit. For example, you could build a machine learning model that predicts how much someone will spend based on demographics and offer type. Or you could build a model that predicts whether or not someone will respond to an offer. Or, you don't need to build a machine learning model at all. You could develop a set of heuristics that determine what offer you should send to each customer (i.e., 75 percent of women customers who were 35 years old responded to offer A vs 40 percent from the same demographic to offer B, so send offer A)."
      ]
    },
    {
      "cell_type": "markdown",
      "metadata": {
        "id": "K1z3uHNMOSeU"
      },
      "source": [
        "# Data Sets\n",
        "\n",
        "The data is contained in three files:\n",
        "\n",
        "* portfolio.json - containing offer ids and meta data about each offer (duration, type, etc.)\n",
        "* profile.json - demographic data for each customer\n",
        "* transcript.json - records for transactions, offers received, offers viewed, and offers completed\n",
        "\n",
        "Here is the schema and explanation of each variable in the files:\n",
        "\n",
        "**portfolio.json**\n",
        "* id (string) - offer id\n",
        "* offer_type (string) - type of offer ie BOGO, discount, informational\n",
        "* difficulty (int) - minimum required spend to complete an offer\n",
        "* reward (int) - reward given for completing an offer\n",
        "* duration (int) - time for offer to be open, in days\n",
        "* channels (list of strings)\n",
        "\n",
        "**profile.json**\n",
        "* age (int) - age of the customer \n",
        "* became_member_on (int) - date when customer created an app account\n",
        "* gender (str) - gender of the customer (note some entries contain 'O' for other rather than M or F)\n",
        "* id (str) - customer id\n",
        "* income (float) - customer's income\n",
        "\n",
        "**transcript.json**\n",
        "* event (str) - record description (ie transaction, offer received, offer viewed, etc.)\n",
        "* person (str) - customer id\n",
        "* time (int) - time in hours since start of test. The data begins at time t=0\n",
        "* value - (dict of strings) - either an offer id or transaction amount depending on the record\n",
        "\n",
        "**Note:** If you are using the workspace, you will need to go to the terminal and run the command `conda update pandas` before reading in the files. This is because the version of pandas in the workspace cannot read in the transcript.json file correctly, but the newest version of pandas can. You can access the termnal from the orange icon in the top left of this notebook.  \n",
        "\n",
        "You can see how to access the terminal and how the install works using the two images below.  First you need to access the terminal:\n",
        "\n",
        "<img src=\"pic1.png\"/>\n",
        "\n",
        "Then you will want to run the above command:\n",
        "\n",
        "<img src=\"pic2.png\"/>\n",
        "\n",
        "Finally, when you enter back into the notebook (use the jupyter icon again), you should be able to run the below cell without any errors."
      ]
    },
    {
      "cell_type": "code",
      "execution_count": null,
      "metadata": {
        "id": "u22h8CINOSeW"
      },
      "outputs": [],
      "source": [
        "import pandas as pd\n",
        "import numpy as np\n",
        "import math\n",
        "import json\n",
        "% matplotlib inline\n",
        "import matplotlib.pyplot as plt\n",
        "import seaborn as sns\n",
        "\n",
        "# read in the json files\n",
        "portfolio = pd.read_json('data/portfolio.json', orient='records', lines=True)\n",
        "profile = pd.read_json('data/profile.json', orient='records', lines=True)\n",
        "transcript = pd.read_json('data/transcript.json', orient='records', lines=True)"
      ]
    },
    {
      "cell_type": "code",
      "execution_count": null,
      "metadata": {
        "id": "LdKiQf5eOSeY"
      },
      "outputs": [],
      "source": [
        "\n",
        "#importing all the required ML packages\n",
        "from sklearn.linear_model import LogisticRegression #logistic regression\n",
        "from sklearn import svm #support vector Machine\n",
        "from sklearn.ensemble import RandomForestClassifier #Random Forest\n",
        "from sklearn.tree import DecisionTreeClassifier #Decision Tree\n",
        "from sklearn.model_selection import train_test_split #training and testing data split\n",
        "from sklearn import metrics #accuracy measure\n",
        "from sklearn.metrics import mean_squared_error\n",
        "from sklearn.metrics import classification_report\n",
        "from sklearn import decomposition, datasets\n",
        "from sklearn import tree\n",
        "from sklearn.pipeline import Pipeline\n",
        "from sklearn.model_selection import GridSearchCV\n",
        "from sklearn.preprocessing import StandardScaler"
      ]
    },
    {
      "cell_type": "markdown",
      "metadata": {
        "id": "_OifdDtaOSeZ"
      },
      "source": [
        "## **Data Exploration**"
      ]
    },
    {
      "cell_type": "markdown",
      "metadata": {
        "id": "enXH4ccsOSeZ"
      },
      "source": [
        "**1. Portfolio Dataset**"
      ]
    },
    {
      "cell_type": "code",
      "execution_count": null,
      "metadata": {
        "id": "Cfj0oKYAOSea",
        "outputId": "bbe408cf-457b-42e2-ec82-486ccf3904c6"
      },
      "outputs": [
        {
          "data": {
            "text/html": [
              "<div>\n",
              "<style scoped>\n",
              "    .dataframe tbody tr th:only-of-type {\n",
              "        vertical-align: middle;\n",
              "    }\n",
              "\n",
              "    .dataframe tbody tr th {\n",
              "        vertical-align: top;\n",
              "    }\n",
              "\n",
              "    .dataframe thead th {\n",
              "        text-align: right;\n",
              "    }\n",
              "</style>\n",
              "<table border=\"1\" class=\"dataframe\">\n",
              "  <thead>\n",
              "    <tr style=\"text-align: right;\">\n",
              "      <th></th>\n",
              "      <th>channels</th>\n",
              "      <th>difficulty</th>\n",
              "      <th>duration</th>\n",
              "      <th>id</th>\n",
              "      <th>offer_type</th>\n",
              "      <th>reward</th>\n",
              "    </tr>\n",
              "  </thead>\n",
              "  <tbody>\n",
              "    <tr>\n",
              "      <th>0</th>\n",
              "      <td>[email, mobile, social]</td>\n",
              "      <td>10</td>\n",
              "      <td>7</td>\n",
              "      <td>ae264e3637204a6fb9bb56bc8210ddfd</td>\n",
              "      <td>bogo</td>\n",
              "      <td>10</td>\n",
              "    </tr>\n",
              "    <tr>\n",
              "      <th>1</th>\n",
              "      <td>[web, email, mobile, social]</td>\n",
              "      <td>10</td>\n",
              "      <td>5</td>\n",
              "      <td>4d5c57ea9a6940dd891ad53e9dbe8da0</td>\n",
              "      <td>bogo</td>\n",
              "      <td>10</td>\n",
              "    </tr>\n",
              "    <tr>\n",
              "      <th>2</th>\n",
              "      <td>[web, email, mobile]</td>\n",
              "      <td>0</td>\n",
              "      <td>4</td>\n",
              "      <td>3f207df678b143eea3cee63160fa8bed</td>\n",
              "      <td>informational</td>\n",
              "      <td>0</td>\n",
              "    </tr>\n",
              "    <tr>\n",
              "      <th>3</th>\n",
              "      <td>[web, email, mobile]</td>\n",
              "      <td>5</td>\n",
              "      <td>7</td>\n",
              "      <td>9b98b8c7a33c4b65b9aebfe6a799e6d9</td>\n",
              "      <td>bogo</td>\n",
              "      <td>5</td>\n",
              "    </tr>\n",
              "    <tr>\n",
              "      <th>4</th>\n",
              "      <td>[web, email]</td>\n",
              "      <td>20</td>\n",
              "      <td>10</td>\n",
              "      <td>0b1e1539f2cc45b7b9fa7c272da2e1d7</td>\n",
              "      <td>discount</td>\n",
              "      <td>5</td>\n",
              "    </tr>\n",
              "    <tr>\n",
              "      <th>5</th>\n",
              "      <td>[web, email, mobile, social]</td>\n",
              "      <td>7</td>\n",
              "      <td>7</td>\n",
              "      <td>2298d6c36e964ae4a3e7e9706d1fb8c2</td>\n",
              "      <td>discount</td>\n",
              "      <td>3</td>\n",
              "    </tr>\n",
              "    <tr>\n",
              "      <th>6</th>\n",
              "      <td>[web, email, mobile, social]</td>\n",
              "      <td>10</td>\n",
              "      <td>10</td>\n",
              "      <td>fafdcd668e3743c1bb461111dcafc2a4</td>\n",
              "      <td>discount</td>\n",
              "      <td>2</td>\n",
              "    </tr>\n",
              "    <tr>\n",
              "      <th>7</th>\n",
              "      <td>[email, mobile, social]</td>\n",
              "      <td>0</td>\n",
              "      <td>3</td>\n",
              "      <td>5a8bc65990b245e5a138643cd4eb9837</td>\n",
              "      <td>informational</td>\n",
              "      <td>0</td>\n",
              "    </tr>\n",
              "    <tr>\n",
              "      <th>8</th>\n",
              "      <td>[web, email, mobile, social]</td>\n",
              "      <td>5</td>\n",
              "      <td>5</td>\n",
              "      <td>f19421c1d4aa40978ebb69ca19b0e20d</td>\n",
              "      <td>bogo</td>\n",
              "      <td>5</td>\n",
              "    </tr>\n",
              "    <tr>\n",
              "      <th>9</th>\n",
              "      <td>[web, email, mobile]</td>\n",
              "      <td>10</td>\n",
              "      <td>7</td>\n",
              "      <td>2906b810c7d4411798c6938adc9daaa5</td>\n",
              "      <td>discount</td>\n",
              "      <td>2</td>\n",
              "    </tr>\n",
              "  </tbody>\n",
              "</table>\n",
              "</div>"
            ],
            "text/plain": [
              "                       channels  difficulty  duration  \\\n",
              "0       [email, mobile, social]          10         7   \n",
              "1  [web, email, mobile, social]          10         5   \n",
              "2          [web, email, mobile]           0         4   \n",
              "3          [web, email, mobile]           5         7   \n",
              "4                  [web, email]          20        10   \n",
              "5  [web, email, mobile, social]           7         7   \n",
              "6  [web, email, mobile, social]          10        10   \n",
              "7       [email, mobile, social]           0         3   \n",
              "8  [web, email, mobile, social]           5         5   \n",
              "9          [web, email, mobile]          10         7   \n",
              "\n",
              "                                 id     offer_type  reward  \n",
              "0  ae264e3637204a6fb9bb56bc8210ddfd           bogo      10  \n",
              "1  4d5c57ea9a6940dd891ad53e9dbe8da0           bogo      10  \n",
              "2  3f207df678b143eea3cee63160fa8bed  informational       0  \n",
              "3  9b98b8c7a33c4b65b9aebfe6a799e6d9           bogo       5  \n",
              "4  0b1e1539f2cc45b7b9fa7c272da2e1d7       discount       5  \n",
              "5  2298d6c36e964ae4a3e7e9706d1fb8c2       discount       3  \n",
              "6  fafdcd668e3743c1bb461111dcafc2a4       discount       2  \n",
              "7  5a8bc65990b245e5a138643cd4eb9837  informational       0  \n",
              "8  f19421c1d4aa40978ebb69ca19b0e20d           bogo       5  \n",
              "9  2906b810c7d4411798c6938adc9daaa5       discount       2  "
            ]
          },
          "execution_count": 3,
          "metadata": {},
          "output_type": "execute_result"
        }
      ],
      "source": [
        "portfolio"
      ]
    },
    {
      "cell_type": "code",
      "execution_count": null,
      "metadata": {
        "id": "SEub2iBiOSeb",
        "outputId": "c0cd3bdc-151f-472a-f8fc-4e56c4cc042f"
      },
      "outputs": [
        {
          "name": "stdout",
          "output_type": "stream",
          "text": [
            "<class 'pandas.core.frame.DataFrame'>\n",
            "RangeIndex: 10 entries, 0 to 9\n",
            "Data columns (total 6 columns):\n",
            "channels      10 non-null object\n",
            "difficulty    10 non-null int64\n",
            "duration      10 non-null int64\n",
            "id            10 non-null object\n",
            "offer_type    10 non-null object\n",
            "reward        10 non-null int64\n",
            "dtypes: int64(3), object(3)\n",
            "memory usage: 560.0+ bytes\n"
          ]
        }
      ],
      "source": [
        "portfolio.info()"
      ]
    },
    {
      "cell_type": "code",
      "execution_count": null,
      "metadata": {
        "id": "k-Qa-iu2OSec",
        "outputId": "28c70cc7-1822-496f-de3e-f9c4ed3c00de"
      },
      "outputs": [
        {
          "data": {
            "text/plain": [
              "channels      0\n",
              "difficulty    0\n",
              "duration      0\n",
              "id            0\n",
              "offer_type    0\n",
              "reward        0\n",
              "dtype: int64"
            ]
          },
          "execution_count": 5,
          "metadata": {},
          "output_type": "execute_result"
        }
      ],
      "source": [
        "#chechking if the data is missing\n",
        "portfolio.isnull().sum()"
      ]
    },
    {
      "cell_type": "markdown",
      "metadata": {
        "id": "AV7w7SZvOSed"
      },
      "source": [
        "There is no null values, and the dataset includes 10 types of offers"
      ]
    },
    {
      "cell_type": "code",
      "execution_count": null,
      "metadata": {
        "id": "yTK_BHj2OSed",
        "outputId": "6c5b1d2d-188d-4af7-e01d-51503e007dc4"
      },
      "outputs": [
        {
          "data": {
            "text/plain": [
              "offer_type\n",
              "bogo             4\n",
              "discount         4\n",
              "informational    2\n",
              "Name: id, dtype: int64"
            ]
          },
          "execution_count": 6,
          "metadata": {},
          "output_type": "execute_result"
        }
      ],
      "source": [
        "# Offers of each type\n",
        "portfolio.groupby('offer_type')['id'].count()"
      ]
    },
    {
      "cell_type": "markdown",
      "metadata": {
        "id": "mVoUg4SJOSee"
      },
      "source": [
        "There are 3 offers' categories: bogo, discount and informational. Each one is then subcategorized based on other feature such as duration difficulty"
      ]
    },
    {
      "cell_type": "code",
      "execution_count": null,
      "metadata": {
        "id": "GmCw7U06OSee",
        "outputId": "0dd129c6-952e-405a-a3b2-0efa63d85e31"
      },
      "outputs": [
        {
          "data": {
            "text/plain": [
              "0         [email, mobile, social]\n",
              "1    [web, email, mobile, social]\n",
              "2            [web, email, mobile]\n",
              "3            [web, email, mobile]\n",
              "4                    [web, email]\n",
              "5    [web, email, mobile, social]\n",
              "6    [web, email, mobile, social]\n",
              "7         [email, mobile, social]\n",
              "8    [web, email, mobile, social]\n",
              "9            [web, email, mobile]\n",
              "Name: channels, dtype: object"
            ]
          },
          "execution_count": 7,
          "metadata": {},
          "output_type": "execute_result"
        }
      ],
      "source": [
        "#types of channels\n",
        "portfolio['channels']"
      ]
    },
    {
      "cell_type": "markdown",
      "metadata": {
        "id": "fI-N_r9pOSee"
      },
      "source": [
        "There are 4 channels: web, email, mobile, social. It is better to divise this column into 4 columns where values are 0 or 1."
      ]
    },
    {
      "cell_type": "markdown",
      "metadata": {
        "id": "EooPcH7dOSef"
      },
      "source": [
        "**2. Profile Dataset**"
      ]
    },
    {
      "cell_type": "code",
      "execution_count": null,
      "metadata": {
        "id": "57wueEE5OSef",
        "outputId": "95b07c72-59c4-4274-9ff1-ad2fb4bc4ce3"
      },
      "outputs": [
        {
          "data": {
            "text/plain": [
              "(17000, 5)"
            ]
          },
          "execution_count": 8,
          "metadata": {},
          "output_type": "execute_result"
        }
      ],
      "source": [
        "profile.shape"
      ]
    },
    {
      "cell_type": "code",
      "execution_count": null,
      "metadata": {
        "id": "86z-pWa8OSef",
        "outputId": "327c6d16-ba6b-4da3-bd1d-cb15e6b1c0ea"
      },
      "outputs": [
        {
          "data": {
            "text/html": [
              "<div>\n",
              "<style scoped>\n",
              "    .dataframe tbody tr th:only-of-type {\n",
              "        vertical-align: middle;\n",
              "    }\n",
              "\n",
              "    .dataframe tbody tr th {\n",
              "        vertical-align: top;\n",
              "    }\n",
              "\n",
              "    .dataframe thead th {\n",
              "        text-align: right;\n",
              "    }\n",
              "</style>\n",
              "<table border=\"1\" class=\"dataframe\">\n",
              "  <thead>\n",
              "    <tr style=\"text-align: right;\">\n",
              "      <th></th>\n",
              "      <th>age</th>\n",
              "      <th>became_member_on</th>\n",
              "      <th>gender</th>\n",
              "      <th>id</th>\n",
              "      <th>income</th>\n",
              "    </tr>\n",
              "  </thead>\n",
              "  <tbody>\n",
              "    <tr>\n",
              "      <th>0</th>\n",
              "      <td>118</td>\n",
              "      <td>20170212</td>\n",
              "      <td>None</td>\n",
              "      <td>68be06ca386d4c31939f3a4f0e3dd783</td>\n",
              "      <td>NaN</td>\n",
              "    </tr>\n",
              "    <tr>\n",
              "      <th>1</th>\n",
              "      <td>55</td>\n",
              "      <td>20170715</td>\n",
              "      <td>F</td>\n",
              "      <td>0610b486422d4921ae7d2bf64640c50b</td>\n",
              "      <td>112000.0</td>\n",
              "    </tr>\n",
              "    <tr>\n",
              "      <th>2</th>\n",
              "      <td>118</td>\n",
              "      <td>20180712</td>\n",
              "      <td>None</td>\n",
              "      <td>38fe809add3b4fcf9315a9694bb96ff5</td>\n",
              "      <td>NaN</td>\n",
              "    </tr>\n",
              "    <tr>\n",
              "      <th>3</th>\n",
              "      <td>75</td>\n",
              "      <td>20170509</td>\n",
              "      <td>F</td>\n",
              "      <td>78afa995795e4d85b5d9ceeca43f5fef</td>\n",
              "      <td>100000.0</td>\n",
              "    </tr>\n",
              "    <tr>\n",
              "      <th>4</th>\n",
              "      <td>118</td>\n",
              "      <td>20170804</td>\n",
              "      <td>None</td>\n",
              "      <td>a03223e636434f42ac4c3df47e8bac43</td>\n",
              "      <td>NaN</td>\n",
              "    </tr>\n",
              "  </tbody>\n",
              "</table>\n",
              "</div>"
            ],
            "text/plain": [
              "   age  became_member_on gender                                id    income\n",
              "0  118          20170212   None  68be06ca386d4c31939f3a4f0e3dd783       NaN\n",
              "1   55          20170715      F  0610b486422d4921ae7d2bf64640c50b  112000.0\n",
              "2  118          20180712   None  38fe809add3b4fcf9315a9694bb96ff5       NaN\n",
              "3   75          20170509      F  78afa995795e4d85b5d9ceeca43f5fef  100000.0\n",
              "4  118          20170804   None  a03223e636434f42ac4c3df47e8bac43       NaN"
            ]
          },
          "execution_count": 9,
          "metadata": {},
          "output_type": "execute_result"
        }
      ],
      "source": [
        "profile.head(5)"
      ]
    },
    {
      "cell_type": "code",
      "execution_count": null,
      "metadata": {
        "id": "IZdT_5dWOSeg",
        "outputId": "fdede839-a535-4da1-ac16-b35fdc732e8d"
      },
      "outputs": [
        {
          "name": "stdout",
          "output_type": "stream",
          "text": [
            "<class 'pandas.core.frame.DataFrame'>\n",
            "RangeIndex: 17000 entries, 0 to 16999\n",
            "Data columns (total 5 columns):\n",
            "age                 17000 non-null int64\n",
            "became_member_on    17000 non-null int64\n",
            "gender              14825 non-null object\n",
            "id                  17000 non-null object\n",
            "income              14825 non-null float64\n",
            "dtypes: float64(1), int64(2), object(2)\n",
            "memory usage: 664.1+ KB\n"
          ]
        }
      ],
      "source": [
        "profile.info()"
      ]
    },
    {
      "cell_type": "code",
      "execution_count": null,
      "metadata": {
        "scrolled": true,
        "id": "E-zg7hiUOSeg",
        "outputId": "9cf6165e-53d4-4423-a40f-fadcf0fe01b8"
      },
      "outputs": [
        {
          "data": {
            "text/plain": [
              "age                    0\n",
              "became_member_on       0\n",
              "gender              2175\n",
              "id                     0\n",
              "income              2175\n",
              "dtype: int64"
            ]
          },
          "execution_count": 11,
          "metadata": {},
          "output_type": "execute_result"
        }
      ],
      "source": [
        "#checking missing values\n",
        "profile.isnull().sum()"
      ]
    },
    {
      "cell_type": "markdown",
      "metadata": {
        "id": "YC7NP4rcOSeh"
      },
      "source": [
        "There is 2175 null values in gender and icome"
      ]
    },
    {
      "cell_type": "code",
      "execution_count": null,
      "metadata": {
        "id": "lRMxySgtOSeh",
        "outputId": "52dd6b78-aed5-4ea1-956a-faf3f89d9b8c"
      },
      "outputs": [
        {
          "data": {
            "text/html": [
              "<div>\n",
              "<style scoped>\n",
              "    .dataframe tbody tr th:only-of-type {\n",
              "        vertical-align: middle;\n",
              "    }\n",
              "\n",
              "    .dataframe tbody tr th {\n",
              "        vertical-align: top;\n",
              "    }\n",
              "\n",
              "    .dataframe thead th {\n",
              "        text-align: right;\n",
              "    }\n",
              "</style>\n",
              "<table border=\"1\" class=\"dataframe\">\n",
              "  <thead>\n",
              "    <tr style=\"text-align: right;\">\n",
              "      <th></th>\n",
              "      <th>age</th>\n",
              "      <th>became_member_on</th>\n",
              "      <th>income</th>\n",
              "    </tr>\n",
              "  </thead>\n",
              "  <tbody>\n",
              "    <tr>\n",
              "      <th>count</th>\n",
              "      <td>17000.000000</td>\n",
              "      <td>1.700000e+04</td>\n",
              "      <td>14825.000000</td>\n",
              "    </tr>\n",
              "    <tr>\n",
              "      <th>mean</th>\n",
              "      <td>62.531412</td>\n",
              "      <td>2.016703e+07</td>\n",
              "      <td>65404.991568</td>\n",
              "    </tr>\n",
              "    <tr>\n",
              "      <th>std</th>\n",
              "      <td>26.738580</td>\n",
              "      <td>1.167750e+04</td>\n",
              "      <td>21598.299410</td>\n",
              "    </tr>\n",
              "    <tr>\n",
              "      <th>min</th>\n",
              "      <td>18.000000</td>\n",
              "      <td>2.013073e+07</td>\n",
              "      <td>30000.000000</td>\n",
              "    </tr>\n",
              "    <tr>\n",
              "      <th>25%</th>\n",
              "      <td>45.000000</td>\n",
              "      <td>2.016053e+07</td>\n",
              "      <td>49000.000000</td>\n",
              "    </tr>\n",
              "    <tr>\n",
              "      <th>50%</th>\n",
              "      <td>58.000000</td>\n",
              "      <td>2.017080e+07</td>\n",
              "      <td>64000.000000</td>\n",
              "    </tr>\n",
              "    <tr>\n",
              "      <th>75%</th>\n",
              "      <td>73.000000</td>\n",
              "      <td>2.017123e+07</td>\n",
              "      <td>80000.000000</td>\n",
              "    </tr>\n",
              "    <tr>\n",
              "      <th>max</th>\n",
              "      <td>118.000000</td>\n",
              "      <td>2.018073e+07</td>\n",
              "      <td>120000.000000</td>\n",
              "    </tr>\n",
              "  </tbody>\n",
              "</table>\n",
              "</div>"
            ],
            "text/plain": [
              "                age  became_member_on         income\n",
              "count  17000.000000      1.700000e+04   14825.000000\n",
              "mean      62.531412      2.016703e+07   65404.991568\n",
              "std       26.738580      1.167750e+04   21598.299410\n",
              "min       18.000000      2.013073e+07   30000.000000\n",
              "25%       45.000000      2.016053e+07   49000.000000\n",
              "50%       58.000000      2.017080e+07   64000.000000\n",
              "75%       73.000000      2.017123e+07   80000.000000\n",
              "max      118.000000      2.018073e+07  120000.000000"
            ]
          },
          "execution_count": 12,
          "metadata": {},
          "output_type": "execute_result"
        }
      ],
      "source": [
        "profile.describe()"
      ]
    },
    {
      "cell_type": "markdown",
      "metadata": {
        "id": "Knk-v_UBOSei"
      },
      "source": [
        "As we can notice in the age column, the maximum is 118 which is a wrong value.\n",
        "In the next cell we will check rows where the age 118 figures"
      ]
    },
    {
      "cell_type": "code",
      "execution_count": null,
      "metadata": {
        "id": "VrzoOAufOSei",
        "outputId": "805094c9-0d76-4641-8d78-0f78e6dbd960"
      },
      "outputs": [
        {
          "data": {
            "text/html": [
              "<div>\n",
              "<style scoped>\n",
              "    .dataframe tbody tr th:only-of-type {\n",
              "        vertical-align: middle;\n",
              "    }\n",
              "\n",
              "    .dataframe tbody tr th {\n",
              "        vertical-align: top;\n",
              "    }\n",
              "\n",
              "    .dataframe thead th {\n",
              "        text-align: right;\n",
              "    }\n",
              "</style>\n",
              "<table border=\"1\" class=\"dataframe\">\n",
              "  <thead>\n",
              "    <tr style=\"text-align: right;\">\n",
              "      <th></th>\n",
              "      <th>age</th>\n",
              "      <th>became_member_on</th>\n",
              "      <th>gender</th>\n",
              "      <th>id</th>\n",
              "      <th>income</th>\n",
              "    </tr>\n",
              "  </thead>\n",
              "  <tbody>\n",
              "    <tr>\n",
              "      <th>0</th>\n",
              "      <td>118</td>\n",
              "      <td>20170212</td>\n",
              "      <td>None</td>\n",
              "      <td>68be06ca386d4c31939f3a4f0e3dd783</td>\n",
              "      <td>NaN</td>\n",
              "    </tr>\n",
              "    <tr>\n",
              "      <th>2</th>\n",
              "      <td>118</td>\n",
              "      <td>20180712</td>\n",
              "      <td>None</td>\n",
              "      <td>38fe809add3b4fcf9315a9694bb96ff5</td>\n",
              "      <td>NaN</td>\n",
              "    </tr>\n",
              "    <tr>\n",
              "      <th>4</th>\n",
              "      <td>118</td>\n",
              "      <td>20170804</td>\n",
              "      <td>None</td>\n",
              "      <td>a03223e636434f42ac4c3df47e8bac43</td>\n",
              "      <td>NaN</td>\n",
              "    </tr>\n",
              "    <tr>\n",
              "      <th>6</th>\n",
              "      <td>118</td>\n",
              "      <td>20170925</td>\n",
              "      <td>None</td>\n",
              "      <td>8ec6ce2a7e7949b1bf142def7d0e0586</td>\n",
              "      <td>NaN</td>\n",
              "    </tr>\n",
              "    <tr>\n",
              "      <th>7</th>\n",
              "      <td>118</td>\n",
              "      <td>20171002</td>\n",
              "      <td>None</td>\n",
              "      <td>68617ca6246f4fbc85e91a2a49552598</td>\n",
              "      <td>NaN</td>\n",
              "    </tr>\n",
              "    <tr>\n",
              "      <th>9</th>\n",
              "      <td>118</td>\n",
              "      <td>20161122</td>\n",
              "      <td>None</td>\n",
              "      <td>8974fc5686fe429db53ddde067b88302</td>\n",
              "      <td>NaN</td>\n",
              "    </tr>\n",
              "    <tr>\n",
              "      <th>10</th>\n",
              "      <td>118</td>\n",
              "      <td>20170824</td>\n",
              "      <td>None</td>\n",
              "      <td>c4863c7985cf408faee930f111475da3</td>\n",
              "      <td>NaN</td>\n",
              "    </tr>\n",
              "    <tr>\n",
              "      <th>11</th>\n",
              "      <td>118</td>\n",
              "      <td>20150919</td>\n",
              "      <td>None</td>\n",
              "      <td>148adfcaa27d485b82f323aaaad036bd</td>\n",
              "      <td>NaN</td>\n",
              "    </tr>\n",
              "    <tr>\n",
              "      <th>17</th>\n",
              "      <td>118</td>\n",
              "      <td>20170801</td>\n",
              "      <td>None</td>\n",
              "      <td>744d603ef08c4f33af5a61c8c7628d1c</td>\n",
              "      <td>NaN</td>\n",
              "    </tr>\n",
              "    <tr>\n",
              "      <th>23</th>\n",
              "      <td>118</td>\n",
              "      <td>20170907</td>\n",
              "      <td>None</td>\n",
              "      <td>2b826eba31074a059d63b0ae8f50b7d5</td>\n",
              "      <td>NaN</td>\n",
              "    </tr>\n",
              "    <tr>\n",
              "      <th>26</th>\n",
              "      <td>118</td>\n",
              "      <td>20170330</td>\n",
              "      <td>None</td>\n",
              "      <td>65aba5c617294649aeb624da249e1ee5</td>\n",
              "      <td>NaN</td>\n",
              "    </tr>\n",
              "    <tr>\n",
              "      <th>36</th>\n",
              "      <td>118</td>\n",
              "      <td>20160707</td>\n",
              "      <td>None</td>\n",
              "      <td>4beeb3ed64dd4898b0edf2f6b67426d3</td>\n",
              "      <td>NaN</td>\n",
              "    </tr>\n",
              "    <tr>\n",
              "      <th>39</th>\n",
              "      <td>118</td>\n",
              "      <td>20180113</td>\n",
              "      <td>None</td>\n",
              "      <td>25c906289d154b66bf579693f89481c9</td>\n",
              "      <td>NaN</td>\n",
              "    </tr>\n",
              "    <tr>\n",
              "      <th>44</th>\n",
              "      <td>118</td>\n",
              "      <td>20141111</td>\n",
              "      <td>None</td>\n",
              "      <td>5b8f1f0e0930464f93bb55e59b5a04e0</td>\n",
              "      <td>NaN</td>\n",
              "    </tr>\n",
              "    <tr>\n",
              "      <th>45</th>\n",
              "      <td>118</td>\n",
              "      <td>20170511</td>\n",
              "      <td>None</td>\n",
              "      <td>8be4463721e14d7fa600686bf8c8b2ed</td>\n",
              "      <td>NaN</td>\n",
              "    </tr>\n",
              "    <tr>\n",
              "      <th>54</th>\n",
              "      <td>118</td>\n",
              "      <td>20170528</td>\n",
              "      <td>None</td>\n",
              "      <td>81ac76e4f2fe4a6bb5ebdc0f19cecc56</td>\n",
              "      <td>NaN</td>\n",
              "    </tr>\n",
              "    <tr>\n",
              "      <th>56</th>\n",
              "      <td>118</td>\n",
              "      <td>20171013</td>\n",
              "      <td>None</td>\n",
              "      <td>020d3a52b9ce432ea5f98fc58e9bfcc4</td>\n",
              "      <td>NaN</td>\n",
              "    </tr>\n",
              "    <tr>\n",
              "      <th>57</th>\n",
              "      <td>118</td>\n",
              "      <td>20151220</td>\n",
              "      <td>None</td>\n",
              "      <td>4be1127413db496d8103c783ae72058b</td>\n",
              "      <td>NaN</td>\n",
              "    </tr>\n",
              "    <tr>\n",
              "      <th>80</th>\n",
              "      <td>118</td>\n",
              "      <td>20170918</td>\n",
              "      <td>None</td>\n",
              "      <td>9d8d6bb2fc544a9c802888971ee3e8b1</td>\n",
              "      <td>NaN</td>\n",
              "    </tr>\n",
              "    <tr>\n",
              "      <th>84</th>\n",
              "      <td>118</td>\n",
              "      <td>20150920</td>\n",
              "      <td>None</td>\n",
              "      <td>a89752cdfdf24779aa22faa2bc24e7c2</td>\n",
              "      <td>NaN</td>\n",
              "    </tr>\n",
              "    <tr>\n",
              "      <th>96</th>\n",
              "      <td>118</td>\n",
              "      <td>20160806</td>\n",
              "      <td>None</td>\n",
              "      <td>53bac762af27471eb294ff89ca1bae2c</td>\n",
              "      <td>NaN</td>\n",
              "    </tr>\n",
              "    <tr>\n",
              "      <th>103</th>\n",
              "      <td>118</td>\n",
              "      <td>20170223</td>\n",
              "      <td>None</td>\n",
              "      <td>488773cae11f4b71875bfccd4e3e99f2</td>\n",
              "      <td>NaN</td>\n",
              "    </tr>\n",
              "    <tr>\n",
              "      <th>104</th>\n",
              "      <td>118</td>\n",
              "      <td>20170823</td>\n",
              "      <td>None</td>\n",
              "      <td>182e68952b474700b171e21b85c258ac</td>\n",
              "      <td>NaN</td>\n",
              "    </tr>\n",
              "    <tr>\n",
              "      <th>108</th>\n",
              "      <td>118</td>\n",
              "      <td>20160130</td>\n",
              "      <td>None</td>\n",
              "      <td>5e9c83e8ab4d4e9ca83f3256d83ca756</td>\n",
              "      <td>NaN</td>\n",
              "    </tr>\n",
              "    <tr>\n",
              "      <th>121</th>\n",
              "      <td>118</td>\n",
              "      <td>20150730</td>\n",
              "      <td>None</td>\n",
              "      <td>c099206f76b1414db7552f163520053c</td>\n",
              "      <td>NaN</td>\n",
              "    </tr>\n",
              "    <tr>\n",
              "      <th>122</th>\n",
              "      <td>118</td>\n",
              "      <td>20171125</td>\n",
              "      <td>None</td>\n",
              "      <td>e6d3eebb535e44aca1323edde5c346fa</td>\n",
              "      <td>NaN</td>\n",
              "    </tr>\n",
              "    <tr>\n",
              "      <th>128</th>\n",
              "      <td>118</td>\n",
              "      <td>20160418</td>\n",
              "      <td>None</td>\n",
              "      <td>baba98dba43e42ae8e86cbd70725e201</td>\n",
              "      <td>NaN</td>\n",
              "    </tr>\n",
              "    <tr>\n",
              "      <th>143</th>\n",
              "      <td>118</td>\n",
              "      <td>20161018</td>\n",
              "      <td>None</td>\n",
              "      <td>58748c1cf9f746838c6ec62acdff28ad</td>\n",
              "      <td>NaN</td>\n",
              "    </tr>\n",
              "    <tr>\n",
              "      <th>169</th>\n",
              "      <td>118</td>\n",
              "      <td>20150905</td>\n",
              "      <td>None</td>\n",
              "      <td>770df32893694100afc703ea9c9df401</td>\n",
              "      <td>NaN</td>\n",
              "    </tr>\n",
              "    <tr>\n",
              "      <th>172</th>\n",
              "      <td>118</td>\n",
              "      <td>20180114</td>\n",
              "      <td>None</td>\n",
              "      <td>50b92ea51e2649dfbf7120d5e554e991</td>\n",
              "      <td>NaN</td>\n",
              "    </tr>\n",
              "    <tr>\n",
              "      <th>...</th>\n",
              "      <td>...</td>\n",
              "      <td>...</td>\n",
              "      <td>...</td>\n",
              "      <td>...</td>\n",
              "      <td>...</td>\n",
              "    </tr>\n",
              "    <tr>\n",
              "      <th>16820</th>\n",
              "      <td>118</td>\n",
              "      <td>20151015</td>\n",
              "      <td>None</td>\n",
              "      <td>64257cb56316491fae38e62f2687a66c</td>\n",
              "      <td>NaN</td>\n",
              "    </tr>\n",
              "    <tr>\n",
              "      <th>16829</th>\n",
              "      <td>118</td>\n",
              "      <td>20171007</td>\n",
              "      <td>None</td>\n",
              "      <td>56a0b671fa0347beb8b60011a15800aa</td>\n",
              "      <td>NaN</td>\n",
              "    </tr>\n",
              "    <tr>\n",
              "      <th>16831</th>\n",
              "      <td>118</td>\n",
              "      <td>20170910</td>\n",
              "      <td>None</td>\n",
              "      <td>060c0b9181674d03aa181b75353b9422</td>\n",
              "      <td>NaN</td>\n",
              "    </tr>\n",
              "    <tr>\n",
              "      <th>16835</th>\n",
              "      <td>118</td>\n",
              "      <td>20161211</td>\n",
              "      <td>None</td>\n",
              "      <td>587453e2944b4c6699519a217bf87de6</td>\n",
              "      <td>NaN</td>\n",
              "    </tr>\n",
              "    <tr>\n",
              "      <th>16839</th>\n",
              "      <td>118</td>\n",
              "      <td>20180626</td>\n",
              "      <td>None</td>\n",
              "      <td>d6063a30185b4e60b58a445bacec5f56</td>\n",
              "      <td>NaN</td>\n",
              "    </tr>\n",
              "    <tr>\n",
              "      <th>16842</th>\n",
              "      <td>118</td>\n",
              "      <td>20151110</td>\n",
              "      <td>None</td>\n",
              "      <td>a225189b10a141d5bb1ff0a05265da4c</td>\n",
              "      <td>NaN</td>\n",
              "    </tr>\n",
              "    <tr>\n",
              "      <th>16844</th>\n",
              "      <td>118</td>\n",
              "      <td>20170228</td>\n",
              "      <td>None</td>\n",
              "      <td>4342cb3414534aaca96ac523edc82654</td>\n",
              "      <td>NaN</td>\n",
              "    </tr>\n",
              "    <tr>\n",
              "      <th>16845</th>\n",
              "      <td>118</td>\n",
              "      <td>20150815</td>\n",
              "      <td>None</td>\n",
              "      <td>d1477e69857f42d18929f6f29b3be427</td>\n",
              "      <td>NaN</td>\n",
              "    </tr>\n",
              "    <tr>\n",
              "      <th>16852</th>\n",
              "      <td>118</td>\n",
              "      <td>20140605</td>\n",
              "      <td>None</td>\n",
              "      <td>6c0df9b1d3b8401c8098c7c7f9977d89</td>\n",
              "      <td>NaN</td>\n",
              "    </tr>\n",
              "    <tr>\n",
              "      <th>16853</th>\n",
              "      <td>118</td>\n",
              "      <td>20171123</td>\n",
              "      <td>None</td>\n",
              "      <td>7b3b8100d6444861803cefc6b13c9a43</td>\n",
              "      <td>NaN</td>\n",
              "    </tr>\n",
              "    <tr>\n",
              "      <th>16856</th>\n",
              "      <td>118</td>\n",
              "      <td>20150729</td>\n",
              "      <td>None</td>\n",
              "      <td>3a02d786fbc143edb257665ad54c5c09</td>\n",
              "      <td>NaN</td>\n",
              "    </tr>\n",
              "    <tr>\n",
              "      <th>16861</th>\n",
              "      <td>118</td>\n",
              "      <td>20171212</td>\n",
              "      <td>None</td>\n",
              "      <td>8f4364144e0548f885b390f28aabe2b8</td>\n",
              "      <td>NaN</td>\n",
              "    </tr>\n",
              "    <tr>\n",
              "      <th>16869</th>\n",
              "      <td>118</td>\n",
              "      <td>20160607</td>\n",
              "      <td>None</td>\n",
              "      <td>1efb4a45f5c34db4b07ebd19bdfc1b41</td>\n",
              "      <td>NaN</td>\n",
              "    </tr>\n",
              "    <tr>\n",
              "      <th>16875</th>\n",
              "      <td>118</td>\n",
              "      <td>20170129</td>\n",
              "      <td>None</td>\n",
              "      <td>113f3f07ac2b4f8b940d6136233ae3ee</td>\n",
              "      <td>NaN</td>\n",
              "    </tr>\n",
              "    <tr>\n",
              "      <th>16877</th>\n",
              "      <td>118</td>\n",
              "      <td>20180307</td>\n",
              "      <td>None</td>\n",
              "      <td>b6f74fc8e1664cfb9b44834dd9f7cf48</td>\n",
              "      <td>NaN</td>\n",
              "    </tr>\n",
              "    <tr>\n",
              "      <th>16885</th>\n",
              "      <td>118</td>\n",
              "      <td>20150804</td>\n",
              "      <td>None</td>\n",
              "      <td>123ec648e228460589182607c0db4dd5</td>\n",
              "      <td>NaN</td>\n",
              "    </tr>\n",
              "    <tr>\n",
              "      <th>16906</th>\n",
              "      <td>118</td>\n",
              "      <td>20170729</td>\n",
              "      <td>None</td>\n",
              "      <td>09f61d1d6e05402ca923d614dda52d57</td>\n",
              "      <td>NaN</td>\n",
              "    </tr>\n",
              "    <tr>\n",
              "      <th>16915</th>\n",
              "      <td>118</td>\n",
              "      <td>20171021</td>\n",
              "      <td>None</td>\n",
              "      <td>7b32b3085ad540a58482c091b1dca914</td>\n",
              "      <td>NaN</td>\n",
              "    </tr>\n",
              "    <tr>\n",
              "      <th>16923</th>\n",
              "      <td>118</td>\n",
              "      <td>20160209</td>\n",
              "      <td>None</td>\n",
              "      <td>54ed2d25754a486fba36eb5c7541203a</td>\n",
              "      <td>NaN</td>\n",
              "    </tr>\n",
              "    <tr>\n",
              "      <th>16931</th>\n",
              "      <td>118</td>\n",
              "      <td>20170913</td>\n",
              "      <td>None</td>\n",
              "      <td>e6843a4996574eb693ab864ecc406d56</td>\n",
              "      <td>NaN</td>\n",
              "    </tr>\n",
              "    <tr>\n",
              "      <th>16942</th>\n",
              "      <td>118</td>\n",
              "      <td>20170728</td>\n",
              "      <td>None</td>\n",
              "      <td>ba12d53863b3456f930ac62e2503fe48</td>\n",
              "      <td>NaN</td>\n",
              "    </tr>\n",
              "    <tr>\n",
              "      <th>16951</th>\n",
              "      <td>118</td>\n",
              "      <td>20171029</td>\n",
              "      <td>None</td>\n",
              "      <td>5ca2620962114246ab218fc648eb3934</td>\n",
              "      <td>NaN</td>\n",
              "    </tr>\n",
              "    <tr>\n",
              "      <th>16953</th>\n",
              "      <td>118</td>\n",
              "      <td>20170901</td>\n",
              "      <td>None</td>\n",
              "      <td>653d8f383fab43d4a93b10b02bd67266</td>\n",
              "      <td>NaN</td>\n",
              "    </tr>\n",
              "    <tr>\n",
              "      <th>16969</th>\n",
              "      <td>118</td>\n",
              "      <td>20131212</td>\n",
              "      <td>None</td>\n",
              "      <td>f19d9482309d4e93ad74935f9e46e44c</td>\n",
              "      <td>NaN</td>\n",
              "    </tr>\n",
              "    <tr>\n",
              "      <th>16977</th>\n",
              "      <td>118</td>\n",
              "      <td>20160609</td>\n",
              "      <td>None</td>\n",
              "      <td>eb7dd979f4644052a5c401a01f129132</td>\n",
              "      <td>NaN</td>\n",
              "    </tr>\n",
              "    <tr>\n",
              "      <th>16980</th>\n",
              "      <td>118</td>\n",
              "      <td>20160901</td>\n",
              "      <td>None</td>\n",
              "      <td>5c686d09ca4d475a8f750f2ba07e0440</td>\n",
              "      <td>NaN</td>\n",
              "    </tr>\n",
              "    <tr>\n",
              "      <th>16982</th>\n",
              "      <td>118</td>\n",
              "      <td>20160415</td>\n",
              "      <td>None</td>\n",
              "      <td>d9ca82f550ac4ee58b6299cf1e5c824a</td>\n",
              "      <td>NaN</td>\n",
              "    </tr>\n",
              "    <tr>\n",
              "      <th>16989</th>\n",
              "      <td>118</td>\n",
              "      <td>20180305</td>\n",
              "      <td>None</td>\n",
              "      <td>ca45ee1883624304bac1e4c8a114f045</td>\n",
              "      <td>NaN</td>\n",
              "    </tr>\n",
              "    <tr>\n",
              "      <th>16991</th>\n",
              "      <td>118</td>\n",
              "      <td>20160116</td>\n",
              "      <td>None</td>\n",
              "      <td>a9a20fa8b5504360beb4e7c8712f8306</td>\n",
              "      <td>NaN</td>\n",
              "    </tr>\n",
              "    <tr>\n",
              "      <th>16994</th>\n",
              "      <td>118</td>\n",
              "      <td>20151211</td>\n",
              "      <td>None</td>\n",
              "      <td>c02b10e8752c4d8e9b73f918558531f7</td>\n",
              "      <td>NaN</td>\n",
              "    </tr>\n",
              "  </tbody>\n",
              "</table>\n",
              "<p>2175 rows × 5 columns</p>\n",
              "</div>"
            ],
            "text/plain": [
              "       age  became_member_on gender                                id  income\n",
              "0      118          20170212   None  68be06ca386d4c31939f3a4f0e3dd783     NaN\n",
              "2      118          20180712   None  38fe809add3b4fcf9315a9694bb96ff5     NaN\n",
              "4      118          20170804   None  a03223e636434f42ac4c3df47e8bac43     NaN\n",
              "6      118          20170925   None  8ec6ce2a7e7949b1bf142def7d0e0586     NaN\n",
              "7      118          20171002   None  68617ca6246f4fbc85e91a2a49552598     NaN\n",
              "9      118          20161122   None  8974fc5686fe429db53ddde067b88302     NaN\n",
              "10     118          20170824   None  c4863c7985cf408faee930f111475da3     NaN\n",
              "11     118          20150919   None  148adfcaa27d485b82f323aaaad036bd     NaN\n",
              "17     118          20170801   None  744d603ef08c4f33af5a61c8c7628d1c     NaN\n",
              "23     118          20170907   None  2b826eba31074a059d63b0ae8f50b7d5     NaN\n",
              "26     118          20170330   None  65aba5c617294649aeb624da249e1ee5     NaN\n",
              "36     118          20160707   None  4beeb3ed64dd4898b0edf2f6b67426d3     NaN\n",
              "39     118          20180113   None  25c906289d154b66bf579693f89481c9     NaN\n",
              "44     118          20141111   None  5b8f1f0e0930464f93bb55e59b5a04e0     NaN\n",
              "45     118          20170511   None  8be4463721e14d7fa600686bf8c8b2ed     NaN\n",
              "54     118          20170528   None  81ac76e4f2fe4a6bb5ebdc0f19cecc56     NaN\n",
              "56     118          20171013   None  020d3a52b9ce432ea5f98fc58e9bfcc4     NaN\n",
              "57     118          20151220   None  4be1127413db496d8103c783ae72058b     NaN\n",
              "80     118          20170918   None  9d8d6bb2fc544a9c802888971ee3e8b1     NaN\n",
              "84     118          20150920   None  a89752cdfdf24779aa22faa2bc24e7c2     NaN\n",
              "96     118          20160806   None  53bac762af27471eb294ff89ca1bae2c     NaN\n",
              "103    118          20170223   None  488773cae11f4b71875bfccd4e3e99f2     NaN\n",
              "104    118          20170823   None  182e68952b474700b171e21b85c258ac     NaN\n",
              "108    118          20160130   None  5e9c83e8ab4d4e9ca83f3256d83ca756     NaN\n",
              "121    118          20150730   None  c099206f76b1414db7552f163520053c     NaN\n",
              "122    118          20171125   None  e6d3eebb535e44aca1323edde5c346fa     NaN\n",
              "128    118          20160418   None  baba98dba43e42ae8e86cbd70725e201     NaN\n",
              "143    118          20161018   None  58748c1cf9f746838c6ec62acdff28ad     NaN\n",
              "169    118          20150905   None  770df32893694100afc703ea9c9df401     NaN\n",
              "172    118          20180114   None  50b92ea51e2649dfbf7120d5e554e991     NaN\n",
              "...    ...               ...    ...                               ...     ...\n",
              "16820  118          20151015   None  64257cb56316491fae38e62f2687a66c     NaN\n",
              "16829  118          20171007   None  56a0b671fa0347beb8b60011a15800aa     NaN\n",
              "16831  118          20170910   None  060c0b9181674d03aa181b75353b9422     NaN\n",
              "16835  118          20161211   None  587453e2944b4c6699519a217bf87de6     NaN\n",
              "16839  118          20180626   None  d6063a30185b4e60b58a445bacec5f56     NaN\n",
              "16842  118          20151110   None  a225189b10a141d5bb1ff0a05265da4c     NaN\n",
              "16844  118          20170228   None  4342cb3414534aaca96ac523edc82654     NaN\n",
              "16845  118          20150815   None  d1477e69857f42d18929f6f29b3be427     NaN\n",
              "16852  118          20140605   None  6c0df9b1d3b8401c8098c7c7f9977d89     NaN\n",
              "16853  118          20171123   None  7b3b8100d6444861803cefc6b13c9a43     NaN\n",
              "16856  118          20150729   None  3a02d786fbc143edb257665ad54c5c09     NaN\n",
              "16861  118          20171212   None  8f4364144e0548f885b390f28aabe2b8     NaN\n",
              "16869  118          20160607   None  1efb4a45f5c34db4b07ebd19bdfc1b41     NaN\n",
              "16875  118          20170129   None  113f3f07ac2b4f8b940d6136233ae3ee     NaN\n",
              "16877  118          20180307   None  b6f74fc8e1664cfb9b44834dd9f7cf48     NaN\n",
              "16885  118          20150804   None  123ec648e228460589182607c0db4dd5     NaN\n",
              "16906  118          20170729   None  09f61d1d6e05402ca923d614dda52d57     NaN\n",
              "16915  118          20171021   None  7b32b3085ad540a58482c091b1dca914     NaN\n",
              "16923  118          20160209   None  54ed2d25754a486fba36eb5c7541203a     NaN\n",
              "16931  118          20170913   None  e6843a4996574eb693ab864ecc406d56     NaN\n",
              "16942  118          20170728   None  ba12d53863b3456f930ac62e2503fe48     NaN\n",
              "16951  118          20171029   None  5ca2620962114246ab218fc648eb3934     NaN\n",
              "16953  118          20170901   None  653d8f383fab43d4a93b10b02bd67266     NaN\n",
              "16969  118          20131212   None  f19d9482309d4e93ad74935f9e46e44c     NaN\n",
              "16977  118          20160609   None  eb7dd979f4644052a5c401a01f129132     NaN\n",
              "16980  118          20160901   None  5c686d09ca4d475a8f750f2ba07e0440     NaN\n",
              "16982  118          20160415   None  d9ca82f550ac4ee58b6299cf1e5c824a     NaN\n",
              "16989  118          20180305   None  ca45ee1883624304bac1e4c8a114f045     NaN\n",
              "16991  118          20160116   None  a9a20fa8b5504360beb4e7c8712f8306     NaN\n",
              "16994  118          20151211   None  c02b10e8752c4d8e9b73f918558531f7     NaN\n",
              "\n",
              "[2175 rows x 5 columns]"
            ]
          },
          "execution_count": 13,
          "metadata": {},
          "output_type": "execute_result"
        }
      ],
      "source": [
        "profile[profile['age']==118]"
      ]
    },
    {
      "cell_type": "code",
      "execution_count": null,
      "metadata": {
        "id": "7DI-iu4uOSei",
        "outputId": "f3dada28-2efe-46e8-b860-b45bd7393dbb"
      },
      "outputs": [
        {
          "data": {
            "text/plain": [
              "age                    0\n",
              "became_member_on       0\n",
              "gender              2175\n",
              "id                     0\n",
              "income              2175\n",
              "dtype: int64"
            ]
          },
          "execution_count": 14,
          "metadata": {},
          "output_type": "execute_result"
        }
      ],
      "source": [
        "profile[profile['age']==118].isnull().sum()"
      ]
    },
    {
      "cell_type": "markdown",
      "metadata": {
        "id": "UDz26NniOSej"
      },
      "source": [
        "We notice here that all the rows with the wrong age value have null values in both gender and income. We then drop and clean these rows"
      ]
    },
    {
      "cell_type": "code",
      "execution_count": null,
      "metadata": {
        "id": "WzKQZUjLOSej",
        "outputId": "a41b3d49-662c-4cd0-eed0-b185e8b3ff95"
      },
      "outputs": [
        {
          "data": {
            "text/plain": [
              "M    8484\n",
              "F    6129\n",
              "O     212\n",
              "Name: gender, dtype: int64"
            ]
          },
          "execution_count": 15,
          "metadata": {},
          "output_type": "execute_result"
        }
      ],
      "source": [
        "profile.gender.value_counts()"
      ]
    },
    {
      "cell_type": "code",
      "execution_count": null,
      "metadata": {
        "id": "mq1hiJejOSej",
        "outputId": "64d6e30d-0a85-4737-c601-8b149b73c336"
      },
      "outputs": [
        {
          "data": {
            "image/png": "[encoded data removed]",
            "text/plain": [
              "<matplotlib.figure.Figure at 0x7feb0b454780>"
            ]
          },
          "metadata": {
            "needs_background": "light"
          },
          "output_type": "display_data"
        }
      ],
      "source": [
        "ax = profile.gender.value_counts()\n",
        "ax.plot(kind='bar')\n",
        "plt.ylabel('Number of Profiles')\n",
        "plt.xlabel('Gender')\n",
        "plt.title('Gender Distribution');"
      ]
    },
    {
      "cell_type": "markdown",
      "metadata": {
        "id": "1GccnY96OSej"
      },
      "source": [
        "profile users are more man than female, whereas others represent a small sample of our data"
      ]
    },
    {
      "cell_type": "code",
      "execution_count": null,
      "metadata": {
        "id": "GOdYXLk4OSek",
        "outputId": "7e003028-18d4-4d88-937a-151ada81c6ed"
      },
      "outputs": [
        {
          "data": {
            "image/png": "[encoded data removed]",
            "text/plain": [
              "<matplotlib.figure.Figure at 0x7feb0b4767f0>"
            ]
          },
          "metadata": {
            "needs_background": "light"
          },
          "output_type": "display_data"
        }
      ],
      "source": [
        "# distribution of ages\n",
        "profile.age.hist();"
      ]
    },
    {
      "cell_type": "markdown",
      "metadata": {
        "id": "HRiNAgBPOSek"
      },
      "source": [
        "The majority of users are between the age of 40 and 75"
      ]
    },
    {
      "cell_type": "code",
      "execution_count": null,
      "metadata": {
        "id": "9u898YEpOSek",
        "outputId": "40399d7d-9f97-411e-82e8-4938fb48ddfb"
      },
      "outputs": [
        {
          "data": {
            "image/png": "[encoded data removed]",
            "text/plain": [
              "<matplotlib.figure.Figure at 0x7feb0b1cd9b0>"
            ]
          },
          "metadata": {
            "needs_background": "light"
          },
          "output_type": "display_data"
        }
      ],
      "source": [
        "# distribution of income\n",
        "profile.income.hist();"
      ]
    },
    {
      "cell_type": "markdown",
      "metadata": {
        "id": "yGE8jgAOOSek"
      },
      "source": [
        "Incomes vary between 20000 and 120000 but most users get between 50000 and 75000"
      ]
    },
    {
      "cell_type": "markdown",
      "metadata": {
        "id": "S0PtFEf1OSel"
      },
      "source": [
        "**3. Transcript Dataset**"
      ]
    },
    {
      "cell_type": "code",
      "execution_count": null,
      "metadata": {
        "id": "FC2RWCDXOSel",
        "outputId": "d70c5c8a-46f8-4c6a-a679-ec878bc744f5"
      },
      "outputs": [
        {
          "data": {
            "text/html": [
              "<div>\n",
              "<style scoped>\n",
              "    .dataframe tbody tr th:only-of-type {\n",
              "        vertical-align: middle;\n",
              "    }\n",
              "\n",
              "    .dataframe tbody tr th {\n",
              "        vertical-align: top;\n",
              "    }\n",
              "\n",
              "    .dataframe thead th {\n",
              "        text-align: right;\n",
              "    }\n",
              "</style>\n",
              "<table border=\"1\" class=\"dataframe\">\n",
              "  <thead>\n",
              "    <tr style=\"text-align: right;\">\n",
              "      <th></th>\n",
              "      <th>event</th>\n",
              "      <th>person</th>\n",
              "      <th>time</th>\n",
              "      <th>value</th>\n",
              "    </tr>\n",
              "  </thead>\n",
              "  <tbody>\n",
              "    <tr>\n",
              "      <th>0</th>\n",
              "      <td>offer received</td>\n",
              "      <td>78afa995795e4d85b5d9ceeca43f5fef</td>\n",
              "      <td>0</td>\n",
              "      <td>{'offer id': '9b98b8c7a33c4b65b9aebfe6a799e6d9'}</td>\n",
              "    </tr>\n",
              "    <tr>\n",
              "      <th>1</th>\n",
              "      <td>offer received</td>\n",
              "      <td>a03223e636434f42ac4c3df47e8bac43</td>\n",
              "      <td>0</td>\n",
              "      <td>{'offer id': '0b1e1539f2cc45b7b9fa7c272da2e1d7'}</td>\n",
              "    </tr>\n",
              "    <tr>\n",
              "      <th>2</th>\n",
              "      <td>offer received</td>\n",
              "      <td>e2127556f4f64592b11af22de27a7932</td>\n",
              "      <td>0</td>\n",
              "      <td>{'offer id': '2906b810c7d4411798c6938adc9daaa5'}</td>\n",
              "    </tr>\n",
              "    <tr>\n",
              "      <th>3</th>\n",
              "      <td>offer received</td>\n",
              "      <td>8ec6ce2a7e7949b1bf142def7d0e0586</td>\n",
              "      <td>0</td>\n",
              "      <td>{'offer id': 'fafdcd668e3743c1bb461111dcafc2a4'}</td>\n",
              "    </tr>\n",
              "    <tr>\n",
              "      <th>4</th>\n",
              "      <td>offer received</td>\n",
              "      <td>68617ca6246f4fbc85e91a2a49552598</td>\n",
              "      <td>0</td>\n",
              "      <td>{'offer id': '4d5c57ea9a6940dd891ad53e9dbe8da0'}</td>\n",
              "    </tr>\n",
              "    <tr>\n",
              "      <th>5</th>\n",
              "      <td>offer received</td>\n",
              "      <td>389bc3fa690240e798340f5a15918d5c</td>\n",
              "      <td>0</td>\n",
              "      <td>{'offer id': 'f19421c1d4aa40978ebb69ca19b0e20d'}</td>\n",
              "    </tr>\n",
              "    <tr>\n",
              "      <th>6</th>\n",
              "      <td>offer received</td>\n",
              "      <td>c4863c7985cf408faee930f111475da3</td>\n",
              "      <td>0</td>\n",
              "      <td>{'offer id': '2298d6c36e964ae4a3e7e9706d1fb8c2'}</td>\n",
              "    </tr>\n",
              "    <tr>\n",
              "      <th>7</th>\n",
              "      <td>offer received</td>\n",
              "      <td>2eeac8d8feae4a8cad5a6af0499a211d</td>\n",
              "      <td>0</td>\n",
              "      <td>{'offer id': '3f207df678b143eea3cee63160fa8bed'}</td>\n",
              "    </tr>\n",
              "    <tr>\n",
              "      <th>8</th>\n",
              "      <td>offer received</td>\n",
              "      <td>aa4862eba776480b8bb9c68455b8c2e1</td>\n",
              "      <td>0</td>\n",
              "      <td>{'offer id': '0b1e1539f2cc45b7b9fa7c272da2e1d7'}</td>\n",
              "    </tr>\n",
              "    <tr>\n",
              "      <th>9</th>\n",
              "      <td>offer received</td>\n",
              "      <td>31dda685af34476cad5bc968bdb01c53</td>\n",
              "      <td>0</td>\n",
              "      <td>{'offer id': '0b1e1539f2cc45b7b9fa7c272da2e1d7'}</td>\n",
              "    </tr>\n",
              "    <tr>\n",
              "      <th>10</th>\n",
              "      <td>offer received</td>\n",
              "      <td>744d603ef08c4f33af5a61c8c7628d1c</td>\n",
              "      <td>0</td>\n",
              "      <td>{'offer id': '0b1e1539f2cc45b7b9fa7c272da2e1d7'}</td>\n",
              "    </tr>\n",
              "    <tr>\n",
              "      <th>11</th>\n",
              "      <td>offer received</td>\n",
              "      <td>3d02345581554e81b7b289ab5e288078</td>\n",
              "      <td>0</td>\n",
              "      <td>{'offer id': '0b1e1539f2cc45b7b9fa7c272da2e1d7'}</td>\n",
              "    </tr>\n",
              "    <tr>\n",
              "      <th>12</th>\n",
              "      <td>offer received</td>\n",
              "      <td>4b0da7e80e5945209a1fdddfe813dbe0</td>\n",
              "      <td>0</td>\n",
              "      <td>{'offer id': 'ae264e3637204a6fb9bb56bc8210ddfd'}</td>\n",
              "    </tr>\n",
              "    <tr>\n",
              "      <th>13</th>\n",
              "      <td>offer received</td>\n",
              "      <td>c27e0d6ab72c455a8bb66d980963de60</td>\n",
              "      <td>0</td>\n",
              "      <td>{'offer id': '3f207df678b143eea3cee63160fa8bed'}</td>\n",
              "    </tr>\n",
              "    <tr>\n",
              "      <th>14</th>\n",
              "      <td>offer received</td>\n",
              "      <td>d53717f5400c4e84affdaeda9dd926b3</td>\n",
              "      <td>0</td>\n",
              "      <td>{'offer id': '0b1e1539f2cc45b7b9fa7c272da2e1d7'}</td>\n",
              "    </tr>\n",
              "    <tr>\n",
              "      <th>15</th>\n",
              "      <td>offer received</td>\n",
              "      <td>f806632c011441378d4646567f357a21</td>\n",
              "      <td>0</td>\n",
              "      <td>{'offer id': 'fafdcd668e3743c1bb461111dcafc2a4'}</td>\n",
              "    </tr>\n",
              "    <tr>\n",
              "      <th>16</th>\n",
              "      <td>offer received</td>\n",
              "      <td>d058f73bf8674a26a95227db098147b1</td>\n",
              "      <td>0</td>\n",
              "      <td>{'offer id': '0b1e1539f2cc45b7b9fa7c272da2e1d7'}</td>\n",
              "    </tr>\n",
              "    <tr>\n",
              "      <th>17</th>\n",
              "      <td>offer received</td>\n",
              "      <td>65aba5c617294649aeb624da249e1ee5</td>\n",
              "      <td>0</td>\n",
              "      <td>{'offer id': '2906b810c7d4411798c6938adc9daaa5'}</td>\n",
              "    </tr>\n",
              "    <tr>\n",
              "      <th>18</th>\n",
              "      <td>offer received</td>\n",
              "      <td>ebe7ef46ea6f4963a7dd49f501b26779</td>\n",
              "      <td>0</td>\n",
              "      <td>{'offer id': '9b98b8c7a33c4b65b9aebfe6a799e6d9'}</td>\n",
              "    </tr>\n",
              "    <tr>\n",
              "      <th>19</th>\n",
              "      <td>offer received</td>\n",
              "      <td>1e9420836d554513ab90eba98552d0a9</td>\n",
              "      <td>0</td>\n",
              "      <td>{'offer id': 'ae264e3637204a6fb9bb56bc8210ddfd'}</td>\n",
              "    </tr>\n",
              "    <tr>\n",
              "      <th>20</th>\n",
              "      <td>offer received</td>\n",
              "      <td>868317b9be554cb18e50bc68484749a2</td>\n",
              "      <td>0</td>\n",
              "      <td>{'offer id': '2906b810c7d4411798c6938adc9daaa5'}</td>\n",
              "    </tr>\n",
              "    <tr>\n",
              "      <th>21</th>\n",
              "      <td>offer received</td>\n",
              "      <td>f082d80f0aac47a99173ba8ef8fc1909</td>\n",
              "      <td>0</td>\n",
              "      <td>{'offer id': '9b98b8c7a33c4b65b9aebfe6a799e6d9'}</td>\n",
              "    </tr>\n",
              "    <tr>\n",
              "      <th>22</th>\n",
              "      <td>offer received</td>\n",
              "      <td>102e9454054946fda62242d2e176fdce</td>\n",
              "      <td>0</td>\n",
              "      <td>{'offer id': '4d5c57ea9a6940dd891ad53e9dbe8da0'}</td>\n",
              "    </tr>\n",
              "    <tr>\n",
              "      <th>23</th>\n",
              "      <td>offer received</td>\n",
              "      <td>4beeb3ed64dd4898b0edf2f6b67426d3</td>\n",
              "      <td>0</td>\n",
              "      <td>{'offer id': '2906b810c7d4411798c6938adc9daaa5'}</td>\n",
              "    </tr>\n",
              "    <tr>\n",
              "      <th>24</th>\n",
              "      <td>offer received</td>\n",
              "      <td>9f30b375d7bd4c62a884ffe7034e09ee</td>\n",
              "      <td>0</td>\n",
              "      <td>{'offer id': '2298d6c36e964ae4a3e7e9706d1fb8c2'}</td>\n",
              "    </tr>\n",
              "    <tr>\n",
              "      <th>25</th>\n",
              "      <td>offer received</td>\n",
              "      <td>25c906289d154b66bf579693f89481c9</td>\n",
              "      <td>0</td>\n",
              "      <td>{'offer id': '2906b810c7d4411798c6938adc9daaa5'}</td>\n",
              "    </tr>\n",
              "    <tr>\n",
              "      <th>26</th>\n",
              "      <td>offer received</td>\n",
              "      <td>6e014185620b49bd98749f728747572f</td>\n",
              "      <td>0</td>\n",
              "      <td>{'offer id': 'f19421c1d4aa40978ebb69ca19b0e20d'}</td>\n",
              "    </tr>\n",
              "    <tr>\n",
              "      <th>27</th>\n",
              "      <td>offer received</td>\n",
              "      <td>02c083884c7d45b39cc68e1314fec56c</td>\n",
              "      <td>0</td>\n",
              "      <td>{'offer id': 'ae264e3637204a6fb9bb56bc8210ddfd'}</td>\n",
              "    </tr>\n",
              "    <tr>\n",
              "      <th>28</th>\n",
              "      <td>offer received</td>\n",
              "      <td>c0d210398dee4a0895b24444a5fcd1d2</td>\n",
              "      <td>0</td>\n",
              "      <td>{'offer id': '9b98b8c7a33c4b65b9aebfe6a799e6d9'}</td>\n",
              "    </tr>\n",
              "    <tr>\n",
              "      <th>29</th>\n",
              "      <td>offer received</td>\n",
              "      <td>8be4463721e14d7fa600686bf8c8b2ed</td>\n",
              "      <td>0</td>\n",
              "      <td>{'offer id': 'fafdcd668e3743c1bb461111dcafc2a4'}</td>\n",
              "    </tr>\n",
              "    <tr>\n",
              "      <th>...</th>\n",
              "      <td>...</td>\n",
              "      <td>...</td>\n",
              "      <td>...</td>\n",
              "      <td>...</td>\n",
              "    </tr>\n",
              "    <tr>\n",
              "      <th>306504</th>\n",
              "      <td>transaction</td>\n",
              "      <td>8524d450673b4c24869b6c94380006de</td>\n",
              "      <td>714</td>\n",
              "      <td>{'amount': 4.89}</td>\n",
              "    </tr>\n",
              "    <tr>\n",
              "      <th>306505</th>\n",
              "      <td>transaction</td>\n",
              "      <td>b895c57e8cd047a8872ce02aa54759d6</td>\n",
              "      <td>714</td>\n",
              "      <td>{'amount': 4.48}</td>\n",
              "    </tr>\n",
              "    <tr>\n",
              "      <th>306506</th>\n",
              "      <td>offer completed</td>\n",
              "      <td>b895c57e8cd047a8872ce02aa54759d6</td>\n",
              "      <td>714</td>\n",
              "      <td>{'offer_id': 'fafdcd668e3743c1bb461111dcafc2a4...</td>\n",
              "    </tr>\n",
              "    <tr>\n",
              "      <th>306507</th>\n",
              "      <td>offer viewed</td>\n",
              "      <td>8dda575c2a1d44b9ac8e8b07b93d1f8e</td>\n",
              "      <td>714</td>\n",
              "      <td>{'offer id': '0b1e1539f2cc45b7b9fa7c272da2e1d7'}</td>\n",
              "    </tr>\n",
              "    <tr>\n",
              "      <th>306508</th>\n",
              "      <td>transaction</td>\n",
              "      <td>8431c16f8e1d440880db371a68f82dd0</td>\n",
              "      <td>714</td>\n",
              "      <td>{'amount': 1.19}</td>\n",
              "    </tr>\n",
              "    <tr>\n",
              "      <th>306509</th>\n",
              "      <td>offer completed</td>\n",
              "      <td>8431c16f8e1d440880db371a68f82dd0</td>\n",
              "      <td>714</td>\n",
              "      <td>{'offer_id': 'fafdcd668e3743c1bb461111dcafc2a4...</td>\n",
              "    </tr>\n",
              "    <tr>\n",
              "      <th>306510</th>\n",
              "      <td>transaction</td>\n",
              "      <td>ba620885e51c4b0ea64a4f61daad494f</td>\n",
              "      <td>714</td>\n",
              "      <td>{'amount': 14.31}</td>\n",
              "    </tr>\n",
              "    <tr>\n",
              "      <th>306511</th>\n",
              "      <td>transaction</td>\n",
              "      <td>a1a8f40407c444cc848468275308958a</td>\n",
              "      <td>714</td>\n",
              "      <td>{'amount': 2.37}</td>\n",
              "    </tr>\n",
              "    <tr>\n",
              "      <th>306512</th>\n",
              "      <td>transaction</td>\n",
              "      <td>8d80970192fa496f99d6b45c470a4b60</td>\n",
              "      <td>714</td>\n",
              "      <td>{'amount': 6.92}</td>\n",
              "    </tr>\n",
              "    <tr>\n",
              "      <th>306513</th>\n",
              "      <td>transaction</td>\n",
              "      <td>bde275066f3c4fa0bff3093e3b866a2c</td>\n",
              "      <td>714</td>\n",
              "      <td>{'amount': 12.73}</td>\n",
              "    </tr>\n",
              "    <tr>\n",
              "      <th>306514</th>\n",
              "      <td>transaction</td>\n",
              "      <td>f1e4fd36e5a0446f83861308bddf6945</td>\n",
              "      <td>714</td>\n",
              "      <td>{'amount': 8.2}</td>\n",
              "    </tr>\n",
              "    <tr>\n",
              "      <th>306515</th>\n",
              "      <td>transaction</td>\n",
              "      <td>0b64be3b241c4407a5c9a71781173829</td>\n",
              "      <td>714</td>\n",
              "      <td>{'amount': 2.6}</td>\n",
              "    </tr>\n",
              "    <tr>\n",
              "      <th>306516</th>\n",
              "      <td>transaction</td>\n",
              "      <td>86d03d35d7e0434b935e7743e83be3a0</td>\n",
              "      <td>714</td>\n",
              "      <td>{'amount': 9.2}</td>\n",
              "    </tr>\n",
              "    <tr>\n",
              "      <th>306517</th>\n",
              "      <td>transaction</td>\n",
              "      <td>3408fd05c781401f8442fb6dbaaea9c7</td>\n",
              "      <td>714</td>\n",
              "      <td>{'amount': 11.7}</td>\n",
              "    </tr>\n",
              "    <tr>\n",
              "      <th>306518</th>\n",
              "      <td>transaction</td>\n",
              "      <td>1593d617fac246ef8e50dbb0ffd77f5f</td>\n",
              "      <td>714</td>\n",
              "      <td>{'amount': 40.67}</td>\n",
              "    </tr>\n",
              "    <tr>\n",
              "      <th>306519</th>\n",
              "      <td>transaction</td>\n",
              "      <td>f1b31d07b5d84f69a2d5f1d07843989e</td>\n",
              "      <td>714</td>\n",
              "      <td>{'amount': 31.13}</td>\n",
              "    </tr>\n",
              "    <tr>\n",
              "      <th>306520</th>\n",
              "      <td>transaction</td>\n",
              "      <td>2ce987015ec0404a97ba333e8e814090</td>\n",
              "      <td>714</td>\n",
              "      <td>{'amount': 1.6400000000000001}</td>\n",
              "    </tr>\n",
              "    <tr>\n",
              "      <th>306521</th>\n",
              "      <td>transaction</td>\n",
              "      <td>2e33545f0a764d27b2ccff95fc8d72c4</td>\n",
              "      <td>714</td>\n",
              "      <td>{'amount': 17.35}</td>\n",
              "    </tr>\n",
              "    <tr>\n",
              "      <th>306522</th>\n",
              "      <td>transaction</td>\n",
              "      <td>d1c4500ace2e45e9a45d3cd2fccac8d8</td>\n",
              "      <td>714</td>\n",
              "      <td>{'amount': 4.42}</td>\n",
              "    </tr>\n",
              "    <tr>\n",
              "      <th>306523</th>\n",
              "      <td>transaction</td>\n",
              "      <td>b65affd9e07346a1906364a396950e3d</td>\n",
              "      <td>714</td>\n",
              "      <td>{'amount': 18.35}</td>\n",
              "    </tr>\n",
              "    <tr>\n",
              "      <th>306524</th>\n",
              "      <td>transaction</td>\n",
              "      <td>d613ca9c59dd42f497bdbf6178da54a7</td>\n",
              "      <td>714</td>\n",
              "      <td>{'amount': 25.14}</td>\n",
              "    </tr>\n",
              "    <tr>\n",
              "      <th>306525</th>\n",
              "      <td>transaction</td>\n",
              "      <td>eec70ab28af74a22a4aeb889c0317944</td>\n",
              "      <td>714</td>\n",
              "      <td>{'amount': 43.58}</td>\n",
              "    </tr>\n",
              "    <tr>\n",
              "      <th>306526</th>\n",
              "      <td>transaction</td>\n",
              "      <td>24f56b5e1849462093931b164eb803b5</td>\n",
              "      <td>714</td>\n",
              "      <td>{'amount': 22.64}</td>\n",
              "    </tr>\n",
              "    <tr>\n",
              "      <th>306527</th>\n",
              "      <td>offer completed</td>\n",
              "      <td>24f56b5e1849462093931b164eb803b5</td>\n",
              "      <td>714</td>\n",
              "      <td>{'offer_id': 'fafdcd668e3743c1bb461111dcafc2a4...</td>\n",
              "    </tr>\n",
              "    <tr>\n",
              "      <th>306528</th>\n",
              "      <td>transaction</td>\n",
              "      <td>5ca2620962114246ab218fc648eb3934</td>\n",
              "      <td>714</td>\n",
              "      <td>{'amount': 2.2}</td>\n",
              "    </tr>\n",
              "    <tr>\n",
              "      <th>306529</th>\n",
              "      <td>transaction</td>\n",
              "      <td>b3a1272bc9904337b331bf348c3e8c17</td>\n",
              "      <td>714</td>\n",
              "      <td>{'amount': 1.5899999999999999}</td>\n",
              "    </tr>\n",
              "    <tr>\n",
              "      <th>306530</th>\n",
              "      <td>transaction</td>\n",
              "      <td>68213b08d99a4ae1b0dcb72aebd9aa35</td>\n",
              "      <td>714</td>\n",
              "      <td>{'amount': 9.53}</td>\n",
              "    </tr>\n",
              "    <tr>\n",
              "      <th>306531</th>\n",
              "      <td>transaction</td>\n",
              "      <td>a00058cf10334a308c68e7631c529907</td>\n",
              "      <td>714</td>\n",
              "      <td>{'amount': 3.61}</td>\n",
              "    </tr>\n",
              "    <tr>\n",
              "      <th>306532</th>\n",
              "      <td>transaction</td>\n",
              "      <td>76ddbd6576844afe811f1a3c0fbb5bec</td>\n",
              "      <td>714</td>\n",
              "      <td>{'amount': 3.5300000000000002}</td>\n",
              "    </tr>\n",
              "    <tr>\n",
              "      <th>306533</th>\n",
              "      <td>transaction</td>\n",
              "      <td>c02b10e8752c4d8e9b73f918558531f7</td>\n",
              "      <td>714</td>\n",
              "      <td>{'amount': 4.05}</td>\n",
              "    </tr>\n",
              "  </tbody>\n",
              "</table>\n",
              "<p>306534 rows × 4 columns</p>\n",
              "</div>"
            ],
            "text/plain": [
              "                  event                            person  time  \\\n",
              "0        offer received  78afa995795e4d85b5d9ceeca43f5fef     0   \n",
              "1        offer received  a03223e636434f42ac4c3df47e8bac43     0   \n",
              "2        offer received  e2127556f4f64592b11af22de27a7932     0   \n",
              "3        offer received  8ec6ce2a7e7949b1bf142def7d0e0586     0   \n",
              "4        offer received  68617ca6246f4fbc85e91a2a49552598     0   \n",
              "5        offer received  389bc3fa690240e798340f5a15918d5c     0   \n",
              "6        offer received  c4863c7985cf408faee930f111475da3     0   \n",
              "7        offer received  2eeac8d8feae4a8cad5a6af0499a211d     0   \n",
              "8        offer received  aa4862eba776480b8bb9c68455b8c2e1     0   \n",
              "9        offer received  31dda685af34476cad5bc968bdb01c53     0   \n",
              "10       offer received  744d603ef08c4f33af5a61c8c7628d1c     0   \n",
              "11       offer received  3d02345581554e81b7b289ab5e288078     0   \n",
              "12       offer received  4b0da7e80e5945209a1fdddfe813dbe0     0   \n",
              "13       offer received  c27e0d6ab72c455a8bb66d980963de60     0   \n",
              "14       offer received  d53717f5400c4e84affdaeda9dd926b3     0   \n",
              "15       offer received  f806632c011441378d4646567f357a21     0   \n",
              "16       offer received  d058f73bf8674a26a95227db098147b1     0   \n",
              "17       offer received  65aba5c617294649aeb624da249e1ee5     0   \n",
              "18       offer received  ebe7ef46ea6f4963a7dd49f501b26779     0   \n",
              "19       offer received  1e9420836d554513ab90eba98552d0a9     0   \n",
              "20       offer received  868317b9be554cb18e50bc68484749a2     0   \n",
              "21       offer received  f082d80f0aac47a99173ba8ef8fc1909     0   \n",
              "22       offer received  102e9454054946fda62242d2e176fdce     0   \n",
              "23       offer received  4beeb3ed64dd4898b0edf2f6b67426d3     0   \n",
              "24       offer received  9f30b375d7bd4c62a884ffe7034e09ee     0   \n",
              "25       offer received  25c906289d154b66bf579693f89481c9     0   \n",
              "26       offer received  6e014185620b49bd98749f728747572f     0   \n",
              "27       offer received  02c083884c7d45b39cc68e1314fec56c     0   \n",
              "28       offer received  c0d210398dee4a0895b24444a5fcd1d2     0   \n",
              "29       offer received  8be4463721e14d7fa600686bf8c8b2ed     0   \n",
              "...                 ...                               ...   ...   \n",
              "306504      transaction  8524d450673b4c24869b6c94380006de   714   \n",
              "306505      transaction  b895c57e8cd047a8872ce02aa54759d6   714   \n",
              "306506  offer completed  b895c57e8cd047a8872ce02aa54759d6   714   \n",
              "306507     offer viewed  8dda575c2a1d44b9ac8e8b07b93d1f8e   714   \n",
              "306508      transaction  8431c16f8e1d440880db371a68f82dd0   714   \n",
              "306509  offer completed  8431c16f8e1d440880db371a68f82dd0   714   \n",
              "306510      transaction  ba620885e51c4b0ea64a4f61daad494f   714   \n",
              "306511      transaction  a1a8f40407c444cc848468275308958a   714   \n",
              "306512      transaction  8d80970192fa496f99d6b45c470a4b60   714   \n",
              "306513      transaction  bde275066f3c4fa0bff3093e3b866a2c   714   \n",
              "306514      transaction  f1e4fd36e5a0446f83861308bddf6945   714   \n",
              "306515      transaction  0b64be3b241c4407a5c9a71781173829   714   \n",
              "306516      transaction  86d03d35d7e0434b935e7743e83be3a0   714   \n",
              "306517      transaction  3408fd05c781401f8442fb6dbaaea9c7   714   \n",
              "306518      transaction  1593d617fac246ef8e50dbb0ffd77f5f   714   \n",
              "306519      transaction  f1b31d07b5d84f69a2d5f1d07843989e   714   \n",
              "306520      transaction  2ce987015ec0404a97ba333e8e814090   714   \n",
              "306521      transaction  2e33545f0a764d27b2ccff95fc8d72c4   714   \n",
              "306522      transaction  d1c4500ace2e45e9a45d3cd2fccac8d8   714   \n",
              "306523      transaction  b65affd9e07346a1906364a396950e3d   714   \n",
              "306524      transaction  d613ca9c59dd42f497bdbf6178da54a7   714   \n",
              "306525      transaction  eec70ab28af74a22a4aeb889c0317944   714   \n",
              "306526      transaction  24f56b5e1849462093931b164eb803b5   714   \n",
              "306527  offer completed  24f56b5e1849462093931b164eb803b5   714   \n",
              "306528      transaction  5ca2620962114246ab218fc648eb3934   714   \n",
              "306529      transaction  b3a1272bc9904337b331bf348c3e8c17   714   \n",
              "306530      transaction  68213b08d99a4ae1b0dcb72aebd9aa35   714   \n",
              "306531      transaction  a00058cf10334a308c68e7631c529907   714   \n",
              "306532      transaction  76ddbd6576844afe811f1a3c0fbb5bec   714   \n",
              "306533      transaction  c02b10e8752c4d8e9b73f918558531f7   714   \n",
              "\n",
              "                                                    value  \n",
              "0        {'offer id': '9b98b8c7a33c4b65b9aebfe6a799e6d9'}  \n",
              "1        {'offer id': '0b1e1539f2cc45b7b9fa7c272da2e1d7'}  \n",
              "2        {'offer id': '2906b810c7d4411798c6938adc9daaa5'}  \n",
              "3        {'offer id': 'fafdcd668e3743c1bb461111dcafc2a4'}  \n",
              "4        {'offer id': '4d5c57ea9a6940dd891ad53e9dbe8da0'}  \n",
              "5        {'offer id': 'f19421c1d4aa40978ebb69ca19b0e20d'}  \n",
              "6        {'offer id': '2298d6c36e964ae4a3e7e9706d1fb8c2'}  \n",
              "7        {'offer id': '3f207df678b143eea3cee63160fa8bed'}  \n",
              "8        {'offer id': '0b1e1539f2cc45b7b9fa7c272da2e1d7'}  \n",
              "9        {'offer id': '0b1e1539f2cc45b7b9fa7c272da2e1d7'}  \n",
              "10       {'offer id': '0b1e1539f2cc45b7b9fa7c272da2e1d7'}  \n",
              "11       {'offer id': '0b1e1539f2cc45b7b9fa7c272da2e1d7'}  \n",
              "12       {'offer id': 'ae264e3637204a6fb9bb56bc8210ddfd'}  \n",
              "13       {'offer id': '3f207df678b143eea3cee63160fa8bed'}  \n",
              "14       {'offer id': '0b1e1539f2cc45b7b9fa7c272da2e1d7'}  \n",
              "15       {'offer id': 'fafdcd668e3743c1bb461111dcafc2a4'}  \n",
              "16       {'offer id': '0b1e1539f2cc45b7b9fa7c272da2e1d7'}  \n",
              "17       {'offer id': '2906b810c7d4411798c6938adc9daaa5'}  \n",
              "18       {'offer id': '9b98b8c7a33c4b65b9aebfe6a799e6d9'}  \n",
              "19       {'offer id': 'ae264e3637204a6fb9bb56bc8210ddfd'}  \n",
              "20       {'offer id': '2906b810c7d4411798c6938adc9daaa5'}  \n",
              "21       {'offer id': '9b98b8c7a33c4b65b9aebfe6a799e6d9'}  \n",
              "22       {'offer id': '4d5c57ea9a6940dd891ad53e9dbe8da0'}  \n",
              "23       {'offer id': '2906b810c7d4411798c6938adc9daaa5'}  \n",
              "24       {'offer id': '2298d6c36e964ae4a3e7e9706d1fb8c2'}  \n",
              "25       {'offer id': '2906b810c7d4411798c6938adc9daaa5'}  \n",
              "26       {'offer id': 'f19421c1d4aa40978ebb69ca19b0e20d'}  \n",
              "27       {'offer id': 'ae264e3637204a6fb9bb56bc8210ddfd'}  \n",
              "28       {'offer id': '9b98b8c7a33c4b65b9aebfe6a799e6d9'}  \n",
              "29       {'offer id': 'fafdcd668e3743c1bb461111dcafc2a4'}  \n",
              "...                                                   ...  \n",
              "306504                                   {'amount': 4.89}  \n",
              "306505                                   {'amount': 4.48}  \n",
              "306506  {'offer_id': 'fafdcd668e3743c1bb461111dcafc2a4...  \n",
              "306507   {'offer id': '0b1e1539f2cc45b7b9fa7c272da2e1d7'}  \n",
              "306508                                   {'amount': 1.19}  \n",
              "306509  {'offer_id': 'fafdcd668e3743c1bb461111dcafc2a4...  \n",
              "306510                                  {'amount': 14.31}  \n",
              "306511                                   {'amount': 2.37}  \n",
              "306512                                   {'amount': 6.92}  \n",
              "306513                                  {'amount': 12.73}  \n",
              "306514                                    {'amount': 8.2}  \n",
              "306515                                    {'amount': 2.6}  \n",
              "306516                                    {'amount': 9.2}  \n",
              "306517                                   {'amount': 11.7}  \n",
              "306518                                  {'amount': 40.67}  \n",
              "306519                                  {'amount': 31.13}  \n",
              "306520                     {'amount': 1.6400000000000001}  \n",
              "306521                                  {'amount': 17.35}  \n",
              "306522                                   {'amount': 4.42}  \n",
              "306523                                  {'amount': 18.35}  \n",
              "306524                                  {'amount': 25.14}  \n",
              "306525                                  {'amount': 43.58}  \n",
              "306526                                  {'amount': 22.64}  \n",
              "306527  {'offer_id': 'fafdcd668e3743c1bb461111dcafc2a4...  \n",
              "306528                                    {'amount': 2.2}  \n",
              "306529                     {'amount': 1.5899999999999999}  \n",
              "306530                                   {'amount': 9.53}  \n",
              "306531                                   {'amount': 3.61}  \n",
              "306532                     {'amount': 3.5300000000000002}  \n",
              "306533                                   {'amount': 4.05}  \n",
              "\n",
              "[306534 rows x 4 columns]"
            ]
          },
          "execution_count": 19,
          "metadata": {},
          "output_type": "execute_result"
        }
      ],
      "source": [
        "transcript"
      ]
    },
    {
      "cell_type": "code",
      "execution_count": null,
      "metadata": {
        "id": "DhvLzt3JOSel",
        "outputId": "d99e56b9-1b06-4ddc-f3bf-82e7a7dcef53"
      },
      "outputs": [
        {
          "data": {
            "text/plain": [
              "(306534, 4)"
            ]
          },
          "execution_count": 20,
          "metadata": {},
          "output_type": "execute_result"
        }
      ],
      "source": [
        "transcript.shape"
      ]
    },
    {
      "cell_type": "code",
      "execution_count": null,
      "metadata": {
        "scrolled": true,
        "id": "FvGqoX_cOSel",
        "outputId": "dc490012-90a2-4642-cbd6-2c475569f42f"
      },
      "outputs": [
        {
          "name": "stdout",
          "output_type": "stream",
          "text": [
            "<class 'pandas.core.frame.DataFrame'>\n",
            "RangeIndex: 306534 entries, 0 to 306533\n",
            "Data columns (total 4 columns):\n",
            "event     306534 non-null object\n",
            "person    306534 non-null object\n",
            "time      306534 non-null int64\n",
            "value     306534 non-null object\n",
            "dtypes: int64(1), object(3)\n",
            "memory usage: 9.4+ MB\n"
          ]
        }
      ],
      "source": [
        "transcript.info()"
      ]
    },
    {
      "cell_type": "code",
      "execution_count": null,
      "metadata": {
        "id": "N-pHMRz6OSem",
        "outputId": "b69ecb54-c31b-49af-ca94-141b7250dcb7"
      },
      "outputs": [
        {
          "data": {
            "text/plain": [
              "event     0\n",
              "person    0\n",
              "time      0\n",
              "value     0\n",
              "dtype: int64"
            ]
          },
          "execution_count": 22,
          "metadata": {},
          "output_type": "execute_result"
        }
      ],
      "source": [
        "transcript.isnull().sum()"
      ]
    },
    {
      "cell_type": "markdown",
      "metadata": {
        "id": "MsmuJdavOSem"
      },
      "source": [
        "There is no missing values"
      ]
    },
    {
      "cell_type": "code",
      "execution_count": null,
      "metadata": {
        "id": "eZDJMyjvOSem",
        "outputId": "1a7abb08-cd93-4a17-ac9c-78f69430a4b0"
      },
      "outputs": [
        {
          "data": {
            "text/plain": [
              "4"
            ]
          },
          "execution_count": 23,
          "metadata": {},
          "output_type": "execute_result"
        }
      ],
      "source": [
        "transcript.event.nunique()"
      ]
    },
    {
      "cell_type": "markdown",
      "metadata": {
        "id": "ovh328_7OSem"
      },
      "source": [
        "we can see here that there are 4 types of events. let's check them"
      ]
    },
    {
      "cell_type": "code",
      "execution_count": null,
      "metadata": {
        "id": "G_t05AxEOSem",
        "outputId": "0fbcd0c9-a73b-471d-f12a-66d92ca9b2f6"
      },
      "outputs": [
        {
          "data": {
            "text/plain": [
              "event\n",
              "offer completed     33579\n",
              "offer received      76277\n",
              "offer viewed        57725\n",
              "transaction        138953\n",
              "Name: person, dtype: int64"
            ]
          },
          "execution_count": 24,
          "metadata": {},
          "output_type": "execute_result"
        }
      ],
      "source": [
        "transcript.groupby('event').person.count()"
      ]
    },
    {
      "cell_type": "markdown",
      "metadata": {
        "id": "yjC7SnRnOSen"
      },
      "source": [
        "## **Data Cleaning**"
      ]
    },
    {
      "cell_type": "markdown",
      "metadata": {
        "id": "GsAdkIeWOSen"
      },
      "source": [
        "We first need to make a copy of each dataset"
      ]
    },
    {
      "cell_type": "code",
      "execution_count": null,
      "metadata": {
        "id": "X9OSX8iwOSen"
      },
      "outputs": [],
      "source": [
        "df_profile=profile.copy()\n",
        "df_transcript=transcript.copy()\n",
        "df_portfolio=portfolio.copy()"
      ]
    },
    {
      "cell_type": "markdown",
      "metadata": {
        "id": "81GOl4KyOSen"
      },
      "source": [
        "### Portfolio dataset"
      ]
    },
    {
      "cell_type": "markdown",
      "metadata": {
        "id": "woD1MVhSOSen"
      },
      "source": [
        "#### 1.convert the column 'Channels' into 4 different channel on the basis of different types of channel ."
      ]
    },
    {
      "cell_type": "code",
      "execution_count": null,
      "metadata": {
        "id": "hoyoz1l_OSen"
      },
      "outputs": [],
      "source": [
        "#create dummy variable\n",
        "dummy = pd.get_dummies(df_portfolio.channels.apply(pd.Series).stack()).sum(level=0)\n",
        "df_portfolio = pd.concat([df_portfolio, dummy], axis=1)\n",
        "df_portfolio = df_portfolio.drop(columns='channels')"
      ]
    },
    {
      "cell_type": "code",
      "execution_count": null,
      "metadata": {
        "id": "Y24S8h_eOSeo",
        "outputId": "83311c37-272d-47f1-b147-71665074d060"
      },
      "outputs": [
        {
          "data": {
            "text/html": [
              "<div>\n",
              "<style scoped>\n",
              "    .dataframe tbody tr th:only-of-type {\n",
              "        vertical-align: middle;\n",
              "    }\n",
              "\n",
              "    .dataframe tbody tr th {\n",
              "        vertical-align: top;\n",
              "    }\n",
              "\n",
              "    .dataframe thead th {\n",
              "        text-align: right;\n",
              "    }\n",
              "</style>\n",
              "<table border=\"1\" class=\"dataframe\">\n",
              "  <thead>\n",
              "    <tr style=\"text-align: right;\">\n",
              "      <th></th>\n",
              "      <th>difficulty</th>\n",
              "      <th>duration</th>\n",
              "      <th>id</th>\n",
              "      <th>offer_type</th>\n",
              "      <th>reward</th>\n",
              "      <th>email</th>\n",
              "      <th>mobile</th>\n",
              "      <th>social</th>\n",
              "      <th>web</th>\n",
              "    </tr>\n",
              "  </thead>\n",
              "  <tbody>\n",
              "    <tr>\n",
              "      <th>0</th>\n",
              "      <td>10</td>\n",
              "      <td>7</td>\n",
              "      <td>ae264e3637204a6fb9bb56bc8210ddfd</td>\n",
              "      <td>bogo</td>\n",
              "      <td>10</td>\n",
              "      <td>1</td>\n",
              "      <td>1</td>\n",
              "      <td>1</td>\n",
              "      <td>0</td>\n",
              "    </tr>\n",
              "    <tr>\n",
              "      <th>1</th>\n",
              "      <td>10</td>\n",
              "      <td>5</td>\n",
              "      <td>4d5c57ea9a6940dd891ad53e9dbe8da0</td>\n",
              "      <td>bogo</td>\n",
              "      <td>10</td>\n",
              "      <td>1</td>\n",
              "      <td>1</td>\n",
              "      <td>1</td>\n",
              "      <td>1</td>\n",
              "    </tr>\n",
              "  </tbody>\n",
              "</table>\n",
              "</div>"
            ],
            "text/plain": [
              "   difficulty  duration                                id offer_type  reward  \\\n",
              "0          10         7  ae264e3637204a6fb9bb56bc8210ddfd       bogo      10   \n",
              "1          10         5  4d5c57ea9a6940dd891ad53e9dbe8da0       bogo      10   \n",
              "\n",
              "   email  mobile  social  web  \n",
              "0      1       1       1    0  \n",
              "1      1       1       1    1  "
            ]
          },
          "execution_count": 27,
          "metadata": {},
          "output_type": "execute_result"
        }
      ],
      "source": [
        "df_portfolio.head(2)"
      ]
    },
    {
      "cell_type": "markdown",
      "metadata": {
        "id": "-nE4b__kOSeo"
      },
      "source": [
        "#### 2. change the column name id to more significant name: offer_id"
      ]
    },
    {
      "cell_type": "code",
      "execution_count": null,
      "metadata": {
        "id": "d5nk5vxNOSeo"
      },
      "outputs": [],
      "source": [
        "df_portfolio.rename(columns= {'id':'offer_id'}, inplace=True)"
      ]
    },
    {
      "cell_type": "markdown",
      "metadata": {
        "id": "GHtS_0dxOSeo"
      },
      "source": [
        "### Profile dataset"
      ]
    },
    {
      "cell_type": "code",
      "execution_count": null,
      "metadata": {
        "id": "SDvZSOZmOSeo"
      },
      "outputs": [],
      "source": [
        "df_wrongAge = df_profile[df_profile['age']==118]"
      ]
    },
    {
      "cell_type": "markdown",
      "metadata": {
        "id": "CuAlqhGEOSep"
      },
      "source": [
        "#### 1. Data not Valid: Dropping rows where where age >118"
      ]
    },
    {
      "cell_type": "code",
      "execution_count": null,
      "metadata": {
        "id": "3QDILFhFOSep"
      },
      "outputs": [],
      "source": [
        "df_profile.drop(df_wrongAge.index, axis=0, inplace=True)"
      ]
    },
    {
      "cell_type": "code",
      "execution_count": null,
      "metadata": {
        "id": "tNO0vBseOSep",
        "outputId": "68096617-c5b8-4bda-83e5-63017cf589b9"
      },
      "outputs": [
        {
          "data": {
            "text/plain": [
              "age                 0\n",
              "became_member_on    0\n",
              "gender              0\n",
              "id                  0\n",
              "income              0\n",
              "dtype: int64"
            ]
          },
          "execution_count": 31,
          "metadata": {},
          "output_type": "execute_result"
        }
      ],
      "source": [
        "#test the clean dataset\n",
        "df_profile[df_profile['age']==118].count()"
      ]
    },
    {
      "cell_type": "code",
      "execution_count": null,
      "metadata": {
        "scrolled": true,
        "id": "VhHK12RaOSep",
        "outputId": "0ae0ef68-5e41-42b2-9a0d-68072bbdda13"
      },
      "outputs": [
        {
          "data": {
            "text/html": [
              "<div>\n",
              "<style scoped>\n",
              "    .dataframe tbody tr th:only-of-type {\n",
              "        vertical-align: middle;\n",
              "    }\n",
              "\n",
              "    .dataframe tbody tr th {\n",
              "        vertical-align: top;\n",
              "    }\n",
              "\n",
              "    .dataframe thead th {\n",
              "        text-align: right;\n",
              "    }\n",
              "</style>\n",
              "<table border=\"1\" class=\"dataframe\">\n",
              "  <thead>\n",
              "    <tr style=\"text-align: right;\">\n",
              "      <th></th>\n",
              "      <th>age</th>\n",
              "      <th>became_member_on</th>\n",
              "      <th>income</th>\n",
              "    </tr>\n",
              "  </thead>\n",
              "  <tbody>\n",
              "    <tr>\n",
              "      <th>count</th>\n",
              "      <td>14825.000000</td>\n",
              "      <td>1.482500e+04</td>\n",
              "      <td>14825.000000</td>\n",
              "    </tr>\n",
              "    <tr>\n",
              "      <th>mean</th>\n",
              "      <td>54.393524</td>\n",
              "      <td>2.016689e+07</td>\n",
              "      <td>65404.991568</td>\n",
              "    </tr>\n",
              "    <tr>\n",
              "      <th>std</th>\n",
              "      <td>17.383705</td>\n",
              "      <td>1.188565e+04</td>\n",
              "      <td>21598.299410</td>\n",
              "    </tr>\n",
              "    <tr>\n",
              "      <th>min</th>\n",
              "      <td>18.000000</td>\n",
              "      <td>2.013073e+07</td>\n",
              "      <td>30000.000000</td>\n",
              "    </tr>\n",
              "    <tr>\n",
              "      <th>25%</th>\n",
              "      <td>42.000000</td>\n",
              "      <td>2.016052e+07</td>\n",
              "      <td>49000.000000</td>\n",
              "    </tr>\n",
              "    <tr>\n",
              "      <th>50%</th>\n",
              "      <td>55.000000</td>\n",
              "      <td>2.017080e+07</td>\n",
              "      <td>64000.000000</td>\n",
              "    </tr>\n",
              "    <tr>\n",
              "      <th>75%</th>\n",
              "      <td>66.000000</td>\n",
              "      <td>2.017123e+07</td>\n",
              "      <td>80000.000000</td>\n",
              "    </tr>\n",
              "    <tr>\n",
              "      <th>max</th>\n",
              "      <td>101.000000</td>\n",
              "      <td>2.018073e+07</td>\n",
              "      <td>120000.000000</td>\n",
              "    </tr>\n",
              "  </tbody>\n",
              "</table>\n",
              "</div>"
            ],
            "text/plain": [
              "                age  became_member_on         income\n",
              "count  14825.000000      1.482500e+04   14825.000000\n",
              "mean      54.393524      2.016689e+07   65404.991568\n",
              "std       17.383705      1.188565e+04   21598.299410\n",
              "min       18.000000      2.013073e+07   30000.000000\n",
              "25%       42.000000      2.016052e+07   49000.000000\n",
              "50%       55.000000      2.017080e+07   64000.000000\n",
              "75%       66.000000      2.017123e+07   80000.000000\n",
              "max      101.000000      2.018073e+07  120000.000000"
            ]
          },
          "execution_count": 32,
          "metadata": {},
          "output_type": "execute_result"
        }
      ],
      "source": [
        "df_profile.describe()"
      ]
    },
    {
      "cell_type": "markdown",
      "metadata": {
        "id": "LLAr2I9yOSep"
      },
      "source": [
        "#### 2. Invalid data type for became_member_on : Convert this column to date type"
      ]
    },
    {
      "cell_type": "markdown",
      "metadata": {
        "id": "WF3BY-CCOSep"
      },
      "source": [
        "#### code"
      ]
    },
    {
      "cell_type": "code",
      "execution_count": null,
      "metadata": {
        "id": "HC_MttlnOSeq"
      },
      "outputs": [],
      "source": [
        "df_profile['became_member_on'] = pd.to_datetime(df_profile['became_member_on'], format='%Y%m%d')"
      ]
    },
    {
      "cell_type": "markdown",
      "metadata": {
        "id": "ZwbFugyDOSeq"
      },
      "source": [
        "#### test"
      ]
    },
    {
      "cell_type": "code",
      "execution_count": null,
      "metadata": {
        "id": "36weTgJ_OSeq",
        "outputId": "47c4ac5e-857f-4dbc-ba37-22465be946fd"
      },
      "outputs": [
        {
          "data": {
            "text/plain": [
              "age                          int64\n",
              "became_member_on    datetime64[ns]\n",
              "gender                      object\n",
              "id                          object\n",
              "income                     float64\n",
              "dtype: object"
            ]
          },
          "execution_count": 34,
          "metadata": {},
          "output_type": "execute_result"
        }
      ],
      "source": [
        "df_profile.dtypes"
      ]
    },
    {
      "cell_type": "markdown",
      "metadata": {
        "id": "m_mha6h-OSeq"
      },
      "source": [
        "#### 3. change the column name id to more significant name: customer_id"
      ]
    },
    {
      "cell_type": "markdown",
      "metadata": {
        "id": "HeThnhO5OSeq"
      },
      "source": [
        "#### code"
      ]
    },
    {
      "cell_type": "code",
      "execution_count": null,
      "metadata": {
        "id": "OMRhvLrmOSeq"
      },
      "outputs": [],
      "source": [
        "df_profile.rename(columns= {'id':'customer_id'}, inplace=True)"
      ]
    },
    {
      "cell_type": "markdown",
      "metadata": {
        "id": "d1sQ-EcZOSer"
      },
      "source": [
        "#### test"
      ]
    },
    {
      "cell_type": "code",
      "execution_count": null,
      "metadata": {
        "id": "olCeq7CTOSer",
        "outputId": "18e919f8-da3a-4109-a537-da9e02678fea"
      },
      "outputs": [
        {
          "data": {
            "text/html": [
              "<div>\n",
              "<style scoped>\n",
              "    .dataframe tbody tr th:only-of-type {\n",
              "        vertical-align: middle;\n",
              "    }\n",
              "\n",
              "    .dataframe tbody tr th {\n",
              "        vertical-align: top;\n",
              "    }\n",
              "\n",
              "    .dataframe thead th {\n",
              "        text-align: right;\n",
              "    }\n",
              "</style>\n",
              "<table border=\"1\" class=\"dataframe\">\n",
              "  <thead>\n",
              "    <tr style=\"text-align: right;\">\n",
              "      <th></th>\n",
              "      <th>age</th>\n",
              "      <th>became_member_on</th>\n",
              "      <th>gender</th>\n",
              "      <th>customer_id</th>\n",
              "      <th>income</th>\n",
              "    </tr>\n",
              "  </thead>\n",
              "  <tbody>\n",
              "    <tr>\n",
              "      <th>1</th>\n",
              "      <td>55</td>\n",
              "      <td>2017-07-15</td>\n",
              "      <td>F</td>\n",
              "      <td>0610b486422d4921ae7d2bf64640c50b</td>\n",
              "      <td>112000.0</td>\n",
              "    </tr>\n",
              "  </tbody>\n",
              "</table>\n",
              "</div>"
            ],
            "text/plain": [
              "   age became_member_on gender                       customer_id    income\n",
              "1   55       2017-07-15      F  0610b486422d4921ae7d2bf64640c50b  112000.0"
            ]
          },
          "execution_count": 36,
          "metadata": {},
          "output_type": "execute_result"
        }
      ],
      "source": [
        "df_profile.head(1)"
      ]
    },
    {
      "cell_type": "markdown",
      "metadata": {
        "id": "Zf50Axp-OSer"
      },
      "source": [
        "### Transcript dataset"
      ]
    },
    {
      "cell_type": "code",
      "execution_count": null,
      "metadata": {
        "id": "5MFX2_TDOSes",
        "outputId": "71554d09-9809-4c49-ceb4-6a2394292105"
      },
      "outputs": [
        {
          "data": {
            "text/html": [
              "<div>\n",
              "<style scoped>\n",
              "    .dataframe tbody tr th:only-of-type {\n",
              "        vertical-align: middle;\n",
              "    }\n",
              "\n",
              "    .dataframe tbody tr th {\n",
              "        vertical-align: top;\n",
              "    }\n",
              "\n",
              "    .dataframe thead th {\n",
              "        text-align: right;\n",
              "    }\n",
              "</style>\n",
              "<table border=\"1\" class=\"dataframe\">\n",
              "  <thead>\n",
              "    <tr style=\"text-align: right;\">\n",
              "      <th></th>\n",
              "      <th>event</th>\n",
              "      <th>person</th>\n",
              "      <th>time</th>\n",
              "      <th>value</th>\n",
              "    </tr>\n",
              "  </thead>\n",
              "  <tbody>\n",
              "    <tr>\n",
              "      <th>0</th>\n",
              "      <td>offer received</td>\n",
              "      <td>78afa995795e4d85b5d9ceeca43f5fef</td>\n",
              "      <td>0</td>\n",
              "      <td>{'offer id': '9b98b8c7a33c4b65b9aebfe6a799e6d9'}</td>\n",
              "    </tr>\n",
              "    <tr>\n",
              "      <th>1</th>\n",
              "      <td>offer received</td>\n",
              "      <td>a03223e636434f42ac4c3df47e8bac43</td>\n",
              "      <td>0</td>\n",
              "      <td>{'offer id': '0b1e1539f2cc45b7b9fa7c272da2e1d7'}</td>\n",
              "    </tr>\n",
              "    <tr>\n",
              "      <th>2</th>\n",
              "      <td>offer received</td>\n",
              "      <td>e2127556f4f64592b11af22de27a7932</td>\n",
              "      <td>0</td>\n",
              "      <td>{'offer id': '2906b810c7d4411798c6938adc9daaa5'}</td>\n",
              "    </tr>\n",
              "    <tr>\n",
              "      <th>3</th>\n",
              "      <td>offer received</td>\n",
              "      <td>8ec6ce2a7e7949b1bf142def7d0e0586</td>\n",
              "      <td>0</td>\n",
              "      <td>{'offer id': 'fafdcd668e3743c1bb461111dcafc2a4'}</td>\n",
              "    </tr>\n",
              "    <tr>\n",
              "      <th>4</th>\n",
              "      <td>offer received</td>\n",
              "      <td>68617ca6246f4fbc85e91a2a49552598</td>\n",
              "      <td>0</td>\n",
              "      <td>{'offer id': '4d5c57ea9a6940dd891ad53e9dbe8da0'}</td>\n",
              "    </tr>\n",
              "    <tr>\n",
              "      <th>5</th>\n",
              "      <td>offer received</td>\n",
              "      <td>389bc3fa690240e798340f5a15918d5c</td>\n",
              "      <td>0</td>\n",
              "      <td>{'offer id': 'f19421c1d4aa40978ebb69ca19b0e20d'}</td>\n",
              "    </tr>\n",
              "    <tr>\n",
              "      <th>6</th>\n",
              "      <td>offer received</td>\n",
              "      <td>c4863c7985cf408faee930f111475da3</td>\n",
              "      <td>0</td>\n",
              "      <td>{'offer id': '2298d6c36e964ae4a3e7e9706d1fb8c2'}</td>\n",
              "    </tr>\n",
              "    <tr>\n",
              "      <th>7</th>\n",
              "      <td>offer received</td>\n",
              "      <td>2eeac8d8feae4a8cad5a6af0499a211d</td>\n",
              "      <td>0</td>\n",
              "      <td>{'offer id': '3f207df678b143eea3cee63160fa8bed'}</td>\n",
              "    </tr>\n",
              "    <tr>\n",
              "      <th>8</th>\n",
              "      <td>offer received</td>\n",
              "      <td>aa4862eba776480b8bb9c68455b8c2e1</td>\n",
              "      <td>0</td>\n",
              "      <td>{'offer id': '0b1e1539f2cc45b7b9fa7c272da2e1d7'}</td>\n",
              "    </tr>\n",
              "    <tr>\n",
              "      <th>9</th>\n",
              "      <td>offer received</td>\n",
              "      <td>31dda685af34476cad5bc968bdb01c53</td>\n",
              "      <td>0</td>\n",
              "      <td>{'offer id': '0b1e1539f2cc45b7b9fa7c272da2e1d7'}</td>\n",
              "    </tr>\n",
              "    <tr>\n",
              "      <th>10</th>\n",
              "      <td>offer received</td>\n",
              "      <td>744d603ef08c4f33af5a61c8c7628d1c</td>\n",
              "      <td>0</td>\n",
              "      <td>{'offer id': '0b1e1539f2cc45b7b9fa7c272da2e1d7'}</td>\n",
              "    </tr>\n",
              "    <tr>\n",
              "      <th>11</th>\n",
              "      <td>offer received</td>\n",
              "      <td>3d02345581554e81b7b289ab5e288078</td>\n",
              "      <td>0</td>\n",
              "      <td>{'offer id': '0b1e1539f2cc45b7b9fa7c272da2e1d7'}</td>\n",
              "    </tr>\n",
              "    <tr>\n",
              "      <th>12</th>\n",
              "      <td>offer received</td>\n",
              "      <td>4b0da7e80e5945209a1fdddfe813dbe0</td>\n",
              "      <td>0</td>\n",
              "      <td>{'offer id': 'ae264e3637204a6fb9bb56bc8210ddfd'}</td>\n",
              "    </tr>\n",
              "    <tr>\n",
              "      <th>13</th>\n",
              "      <td>offer received</td>\n",
              "      <td>c27e0d6ab72c455a8bb66d980963de60</td>\n",
              "      <td>0</td>\n",
              "      <td>{'offer id': '3f207df678b143eea3cee63160fa8bed'}</td>\n",
              "    </tr>\n",
              "    <tr>\n",
              "      <th>14</th>\n",
              "      <td>offer received</td>\n",
              "      <td>d53717f5400c4e84affdaeda9dd926b3</td>\n",
              "      <td>0</td>\n",
              "      <td>{'offer id': '0b1e1539f2cc45b7b9fa7c272da2e1d7'}</td>\n",
              "    </tr>\n",
              "    <tr>\n",
              "      <th>15</th>\n",
              "      <td>offer received</td>\n",
              "      <td>f806632c011441378d4646567f357a21</td>\n",
              "      <td>0</td>\n",
              "      <td>{'offer id': 'fafdcd668e3743c1bb461111dcafc2a4'}</td>\n",
              "    </tr>\n",
              "    <tr>\n",
              "      <th>16</th>\n",
              "      <td>offer received</td>\n",
              "      <td>d058f73bf8674a26a95227db098147b1</td>\n",
              "      <td>0</td>\n",
              "      <td>{'offer id': '0b1e1539f2cc45b7b9fa7c272da2e1d7'}</td>\n",
              "    </tr>\n",
              "    <tr>\n",
              "      <th>17</th>\n",
              "      <td>offer received</td>\n",
              "      <td>65aba5c617294649aeb624da249e1ee5</td>\n",
              "      <td>0</td>\n",
              "      <td>{'offer id': '2906b810c7d4411798c6938adc9daaa5'}</td>\n",
              "    </tr>\n",
              "    <tr>\n",
              "      <th>18</th>\n",
              "      <td>offer received</td>\n",
              "      <td>ebe7ef46ea6f4963a7dd49f501b26779</td>\n",
              "      <td>0</td>\n",
              "      <td>{'offer id': '9b98b8c7a33c4b65b9aebfe6a799e6d9'}</td>\n",
              "    </tr>\n",
              "    <tr>\n",
              "      <th>19</th>\n",
              "      <td>offer received</td>\n",
              "      <td>1e9420836d554513ab90eba98552d0a9</td>\n",
              "      <td>0</td>\n",
              "      <td>{'offer id': 'ae264e3637204a6fb9bb56bc8210ddfd'}</td>\n",
              "    </tr>\n",
              "    <tr>\n",
              "      <th>20</th>\n",
              "      <td>offer received</td>\n",
              "      <td>868317b9be554cb18e50bc68484749a2</td>\n",
              "      <td>0</td>\n",
              "      <td>{'offer id': '2906b810c7d4411798c6938adc9daaa5'}</td>\n",
              "    </tr>\n",
              "    <tr>\n",
              "      <th>21</th>\n",
              "      <td>offer received</td>\n",
              "      <td>f082d80f0aac47a99173ba8ef8fc1909</td>\n",
              "      <td>0</td>\n",
              "      <td>{'offer id': '9b98b8c7a33c4b65b9aebfe6a799e6d9'}</td>\n",
              "    </tr>\n",
              "    <tr>\n",
              "      <th>22</th>\n",
              "      <td>offer received</td>\n",
              "      <td>102e9454054946fda62242d2e176fdce</td>\n",
              "      <td>0</td>\n",
              "      <td>{'offer id': '4d5c57ea9a6940dd891ad53e9dbe8da0'}</td>\n",
              "    </tr>\n",
              "    <tr>\n",
              "      <th>23</th>\n",
              "      <td>offer received</td>\n",
              "      <td>4beeb3ed64dd4898b0edf2f6b67426d3</td>\n",
              "      <td>0</td>\n",
              "      <td>{'offer id': '2906b810c7d4411798c6938adc9daaa5'}</td>\n",
              "    </tr>\n",
              "    <tr>\n",
              "      <th>24</th>\n",
              "      <td>offer received</td>\n",
              "      <td>9f30b375d7bd4c62a884ffe7034e09ee</td>\n",
              "      <td>0</td>\n",
              "      <td>{'offer id': '2298d6c36e964ae4a3e7e9706d1fb8c2'}</td>\n",
              "    </tr>\n",
              "    <tr>\n",
              "      <th>25</th>\n",
              "      <td>offer received</td>\n",
              "      <td>25c906289d154b66bf579693f89481c9</td>\n",
              "      <td>0</td>\n",
              "      <td>{'offer id': '2906b810c7d4411798c6938adc9daaa5'}</td>\n",
              "    </tr>\n",
              "    <tr>\n",
              "      <th>26</th>\n",
              "      <td>offer received</td>\n",
              "      <td>6e014185620b49bd98749f728747572f</td>\n",
              "      <td>0</td>\n",
              "      <td>{'offer id': 'f19421c1d4aa40978ebb69ca19b0e20d'}</td>\n",
              "    </tr>\n",
              "    <tr>\n",
              "      <th>27</th>\n",
              "      <td>offer received</td>\n",
              "      <td>02c083884c7d45b39cc68e1314fec56c</td>\n",
              "      <td>0</td>\n",
              "      <td>{'offer id': 'ae264e3637204a6fb9bb56bc8210ddfd'}</td>\n",
              "    </tr>\n",
              "    <tr>\n",
              "      <th>28</th>\n",
              "      <td>offer received</td>\n",
              "      <td>c0d210398dee4a0895b24444a5fcd1d2</td>\n",
              "      <td>0</td>\n",
              "      <td>{'offer id': '9b98b8c7a33c4b65b9aebfe6a799e6d9'}</td>\n",
              "    </tr>\n",
              "    <tr>\n",
              "      <th>29</th>\n",
              "      <td>offer received</td>\n",
              "      <td>8be4463721e14d7fa600686bf8c8b2ed</td>\n",
              "      <td>0</td>\n",
              "      <td>{'offer id': 'fafdcd668e3743c1bb461111dcafc2a4'}</td>\n",
              "    </tr>\n",
              "    <tr>\n",
              "      <th>...</th>\n",
              "      <td>...</td>\n",
              "      <td>...</td>\n",
              "      <td>...</td>\n",
              "      <td>...</td>\n",
              "    </tr>\n",
              "    <tr>\n",
              "      <th>306504</th>\n",
              "      <td>transaction</td>\n",
              "      <td>8524d450673b4c24869b6c94380006de</td>\n",
              "      <td>714</td>\n",
              "      <td>{'amount': 4.89}</td>\n",
              "    </tr>\n",
              "    <tr>\n",
              "      <th>306505</th>\n",
              "      <td>transaction</td>\n",
              "      <td>b895c57e8cd047a8872ce02aa54759d6</td>\n",
              "      <td>714</td>\n",
              "      <td>{'amount': 4.48}</td>\n",
              "    </tr>\n",
              "    <tr>\n",
              "      <th>306506</th>\n",
              "      <td>offer completed</td>\n",
              "      <td>b895c57e8cd047a8872ce02aa54759d6</td>\n",
              "      <td>714</td>\n",
              "      <td>{'offer_id': 'fafdcd668e3743c1bb461111dcafc2a4...</td>\n",
              "    </tr>\n",
              "    <tr>\n",
              "      <th>306507</th>\n",
              "      <td>offer viewed</td>\n",
              "      <td>8dda575c2a1d44b9ac8e8b07b93d1f8e</td>\n",
              "      <td>714</td>\n",
              "      <td>{'offer id': '0b1e1539f2cc45b7b9fa7c272da2e1d7'}</td>\n",
              "    </tr>\n",
              "    <tr>\n",
              "      <th>306508</th>\n",
              "      <td>transaction</td>\n",
              "      <td>8431c16f8e1d440880db371a68f82dd0</td>\n",
              "      <td>714</td>\n",
              "      <td>{'amount': 1.19}</td>\n",
              "    </tr>\n",
              "    <tr>\n",
              "      <th>306509</th>\n",
              "      <td>offer completed</td>\n",
              "      <td>8431c16f8e1d440880db371a68f82dd0</td>\n",
              "      <td>714</td>\n",
              "      <td>{'offer_id': 'fafdcd668e3743c1bb461111dcafc2a4...</td>\n",
              "    </tr>\n",
              "    <tr>\n",
              "      <th>306510</th>\n",
              "      <td>transaction</td>\n",
              "      <td>ba620885e51c4b0ea64a4f61daad494f</td>\n",
              "      <td>714</td>\n",
              "      <td>{'amount': 14.31}</td>\n",
              "    </tr>\n",
              "    <tr>\n",
              "      <th>306511</th>\n",
              "      <td>transaction</td>\n",
              "      <td>a1a8f40407c444cc848468275308958a</td>\n",
              "      <td>714</td>\n",
              "      <td>{'amount': 2.37}</td>\n",
              "    </tr>\n",
              "    <tr>\n",
              "      <th>306512</th>\n",
              "      <td>transaction</td>\n",
              "      <td>8d80970192fa496f99d6b45c470a4b60</td>\n",
              "      <td>714</td>\n",
              "      <td>{'amount': 6.92}</td>\n",
              "    </tr>\n",
              "    <tr>\n",
              "      <th>306513</th>\n",
              "      <td>transaction</td>\n",
              "      <td>bde275066f3c4fa0bff3093e3b866a2c</td>\n",
              "      <td>714</td>\n",
              "      <td>{'amount': 12.73}</td>\n",
              "    </tr>\n",
              "    <tr>\n",
              "      <th>306514</th>\n",
              "      <td>transaction</td>\n",
              "      <td>f1e4fd36e5a0446f83861308bddf6945</td>\n",
              "      <td>714</td>\n",
              "      <td>{'amount': 8.2}</td>\n",
              "    </tr>\n",
              "    <tr>\n",
              "      <th>306515</th>\n",
              "      <td>transaction</td>\n",
              "      <td>0b64be3b241c4407a5c9a71781173829</td>\n",
              "      <td>714</td>\n",
              "      <td>{'amount': 2.6}</td>\n",
              "    </tr>\n",
              "    <tr>\n",
              "      <th>306516</th>\n",
              "      <td>transaction</td>\n",
              "      <td>86d03d35d7e0434b935e7743e83be3a0</td>\n",
              "      <td>714</td>\n",
              "      <td>{'amount': 9.2}</td>\n",
              "    </tr>\n",
              "    <tr>\n",
              "      <th>306517</th>\n",
              "      <td>transaction</td>\n",
              "      <td>3408fd05c781401f8442fb6dbaaea9c7</td>\n",
              "      <td>714</td>\n",
              "      <td>{'amount': 11.7}</td>\n",
              "    </tr>\n",
              "    <tr>\n",
              "      <th>306518</th>\n",
              "      <td>transaction</td>\n",
              "      <td>1593d617fac246ef8e50dbb0ffd77f5f</td>\n",
              "      <td>714</td>\n",
              "      <td>{'amount': 40.67}</td>\n",
              "    </tr>\n",
              "    <tr>\n",
              "      <th>306519</th>\n",
              "      <td>transaction</td>\n",
              "      <td>f1b31d07b5d84f69a2d5f1d07843989e</td>\n",
              "      <td>714</td>\n",
              "      <td>{'amount': 31.13}</td>\n",
              "    </tr>\n",
              "    <tr>\n",
              "      <th>306520</th>\n",
              "      <td>transaction</td>\n",
              "      <td>2ce987015ec0404a97ba333e8e814090</td>\n",
              "      <td>714</td>\n",
              "      <td>{'amount': 1.6400000000000001}</td>\n",
              "    </tr>\n",
              "    <tr>\n",
              "      <th>306521</th>\n",
              "      <td>transaction</td>\n",
              "      <td>2e33545f0a764d27b2ccff95fc8d72c4</td>\n",
              "      <td>714</td>\n",
              "      <td>{'amount': 17.35}</td>\n",
              "    </tr>\n",
              "    <tr>\n",
              "      <th>306522</th>\n",
              "      <td>transaction</td>\n",
              "      <td>d1c4500ace2e45e9a45d3cd2fccac8d8</td>\n",
              "      <td>714</td>\n",
              "      <td>{'amount': 4.42}</td>\n",
              "    </tr>\n",
              "    <tr>\n",
              "      <th>306523</th>\n",
              "      <td>transaction</td>\n",
              "      <td>b65affd9e07346a1906364a396950e3d</td>\n",
              "      <td>714</td>\n",
              "      <td>{'amount': 18.35}</td>\n",
              "    </tr>\n",
              "    <tr>\n",
              "      <th>306524</th>\n",
              "      <td>transaction</td>\n",
              "      <td>d613ca9c59dd42f497bdbf6178da54a7</td>\n",
              "      <td>714</td>\n",
              "      <td>{'amount': 25.14}</td>\n",
              "    </tr>\n",
              "    <tr>\n",
              "      <th>306525</th>\n",
              "      <td>transaction</td>\n",
              "      <td>eec70ab28af74a22a4aeb889c0317944</td>\n",
              "      <td>714</td>\n",
              "      <td>{'amount': 43.58}</td>\n",
              "    </tr>\n",
              "    <tr>\n",
              "      <th>306526</th>\n",
              "      <td>transaction</td>\n",
              "      <td>24f56b5e1849462093931b164eb803b5</td>\n",
              "      <td>714</td>\n",
              "      <td>{'amount': 22.64}</td>\n",
              "    </tr>\n",
              "    <tr>\n",
              "      <th>306527</th>\n",
              "      <td>offer completed</td>\n",
              "      <td>24f56b5e1849462093931b164eb803b5</td>\n",
              "      <td>714</td>\n",
              "      <td>{'offer_id': 'fafdcd668e3743c1bb461111dcafc2a4...</td>\n",
              "    </tr>\n",
              "    <tr>\n",
              "      <th>306528</th>\n",
              "      <td>transaction</td>\n",
              "      <td>5ca2620962114246ab218fc648eb3934</td>\n",
              "      <td>714</td>\n",
              "      <td>{'amount': 2.2}</td>\n",
              "    </tr>\n",
              "    <tr>\n",
              "      <th>306529</th>\n",
              "      <td>transaction</td>\n",
              "      <td>b3a1272bc9904337b331bf348c3e8c17</td>\n",
              "      <td>714</td>\n",
              "      <td>{'amount': 1.5899999999999999}</td>\n",
              "    </tr>\n",
              "    <tr>\n",
              "      <th>306530</th>\n",
              "      <td>transaction</td>\n",
              "      <td>68213b08d99a4ae1b0dcb72aebd9aa35</td>\n",
              "      <td>714</td>\n",
              "      <td>{'amount': 9.53}</td>\n",
              "    </tr>\n",
              "    <tr>\n",
              "      <th>306531</th>\n",
              "      <td>transaction</td>\n",
              "      <td>a00058cf10334a308c68e7631c529907</td>\n",
              "      <td>714</td>\n",
              "      <td>{'amount': 3.61}</td>\n",
              "    </tr>\n",
              "    <tr>\n",
              "      <th>306532</th>\n",
              "      <td>transaction</td>\n",
              "      <td>76ddbd6576844afe811f1a3c0fbb5bec</td>\n",
              "      <td>714</td>\n",
              "      <td>{'amount': 3.5300000000000002}</td>\n",
              "    </tr>\n",
              "    <tr>\n",
              "      <th>306533</th>\n",
              "      <td>transaction</td>\n",
              "      <td>c02b10e8752c4d8e9b73f918558531f7</td>\n",
              "      <td>714</td>\n",
              "      <td>{'amount': 4.05}</td>\n",
              "    </tr>\n",
              "  </tbody>\n",
              "</table>\n",
              "<p>306534 rows × 4 columns</p>\n",
              "</div>"
            ],
            "text/plain": [
              "                  event                            person  time  \\\n",
              "0        offer received  78afa995795e4d85b5d9ceeca43f5fef     0   \n",
              "1        offer received  a03223e636434f42ac4c3df47e8bac43     0   \n",
              "2        offer received  e2127556f4f64592b11af22de27a7932     0   \n",
              "3        offer received  8ec6ce2a7e7949b1bf142def7d0e0586     0   \n",
              "4        offer received  68617ca6246f4fbc85e91a2a49552598     0   \n",
              "5        offer received  389bc3fa690240e798340f5a15918d5c     0   \n",
              "6        offer received  c4863c7985cf408faee930f111475da3     0   \n",
              "7        offer received  2eeac8d8feae4a8cad5a6af0499a211d     0   \n",
              "8        offer received  aa4862eba776480b8bb9c68455b8c2e1     0   \n",
              "9        offer received  31dda685af34476cad5bc968bdb01c53     0   \n",
              "10       offer received  744d603ef08c4f33af5a61c8c7628d1c     0   \n",
              "11       offer received  3d02345581554e81b7b289ab5e288078     0   \n",
              "12       offer received  4b0da7e80e5945209a1fdddfe813dbe0     0   \n",
              "13       offer received  c27e0d6ab72c455a8bb66d980963de60     0   \n",
              "14       offer received  d53717f5400c4e84affdaeda9dd926b3     0   \n",
              "15       offer received  f806632c011441378d4646567f357a21     0   \n",
              "16       offer received  d058f73bf8674a26a95227db098147b1     0   \n",
              "17       offer received  65aba5c617294649aeb624da249e1ee5     0   \n",
              "18       offer received  ebe7ef46ea6f4963a7dd49f501b26779     0   \n",
              "19       offer received  1e9420836d554513ab90eba98552d0a9     0   \n",
              "20       offer received  868317b9be554cb18e50bc68484749a2     0   \n",
              "21       offer received  f082d80f0aac47a99173ba8ef8fc1909     0   \n",
              "22       offer received  102e9454054946fda62242d2e176fdce     0   \n",
              "23       offer received  4beeb3ed64dd4898b0edf2f6b67426d3     0   \n",
              "24       offer received  9f30b375d7bd4c62a884ffe7034e09ee     0   \n",
              "25       offer received  25c906289d154b66bf579693f89481c9     0   \n",
              "26       offer received  6e014185620b49bd98749f728747572f     0   \n",
              "27       offer received  02c083884c7d45b39cc68e1314fec56c     0   \n",
              "28       offer received  c0d210398dee4a0895b24444a5fcd1d2     0   \n",
              "29       offer received  8be4463721e14d7fa600686bf8c8b2ed     0   \n",
              "...                 ...                               ...   ...   \n",
              "306504      transaction  8524d450673b4c24869b6c94380006de   714   \n",
              "306505      transaction  b895c57e8cd047a8872ce02aa54759d6   714   \n",
              "306506  offer completed  b895c57e8cd047a8872ce02aa54759d6   714   \n",
              "306507     offer viewed  8dda575c2a1d44b9ac8e8b07b93d1f8e   714   \n",
              "306508      transaction  8431c16f8e1d440880db371a68f82dd0   714   \n",
              "306509  offer completed  8431c16f8e1d440880db371a68f82dd0   714   \n",
              "306510      transaction  ba620885e51c4b0ea64a4f61daad494f   714   \n",
              "306511      transaction  a1a8f40407c444cc848468275308958a   714   \n",
              "306512      transaction  8d80970192fa496f99d6b45c470a4b60   714   \n",
              "306513      transaction  bde275066f3c4fa0bff3093e3b866a2c   714   \n",
              "306514      transaction  f1e4fd36e5a0446f83861308bddf6945   714   \n",
              "306515      transaction  0b64be3b241c4407a5c9a71781173829   714   \n",
              "306516      transaction  86d03d35d7e0434b935e7743e83be3a0   714   \n",
              "306517      transaction  3408fd05c781401f8442fb6dbaaea9c7   714   \n",
              "306518      transaction  1593d617fac246ef8e50dbb0ffd77f5f   714   \n",
              "306519      transaction  f1b31d07b5d84f69a2d5f1d07843989e   714   \n",
              "306520      transaction  2ce987015ec0404a97ba333e8e814090   714   \n",
              "306521      transaction  2e33545f0a764d27b2ccff95fc8d72c4   714   \n",
              "306522      transaction  d1c4500ace2e45e9a45d3cd2fccac8d8   714   \n",
              "306523      transaction  b65affd9e07346a1906364a396950e3d   714   \n",
              "306524      transaction  d613ca9c59dd42f497bdbf6178da54a7   714   \n",
              "306525      transaction  eec70ab28af74a22a4aeb889c0317944   714   \n",
              "306526      transaction  24f56b5e1849462093931b164eb803b5   714   \n",
              "306527  offer completed  24f56b5e1849462093931b164eb803b5   714   \n",
              "306528      transaction  5ca2620962114246ab218fc648eb3934   714   \n",
              "306529      transaction  b3a1272bc9904337b331bf348c3e8c17   714   \n",
              "306530      transaction  68213b08d99a4ae1b0dcb72aebd9aa35   714   \n",
              "306531      transaction  a00058cf10334a308c68e7631c529907   714   \n",
              "306532      transaction  76ddbd6576844afe811f1a3c0fbb5bec   714   \n",
              "306533      transaction  c02b10e8752c4d8e9b73f918558531f7   714   \n",
              "\n",
              "                                                    value  \n",
              "0        {'offer id': '9b98b8c7a33c4b65b9aebfe6a799e6d9'}  \n",
              "1        {'offer id': '0b1e1539f2cc45b7b9fa7c272da2e1d7'}  \n",
              "2        {'offer id': '2906b810c7d4411798c6938adc9daaa5'}  \n",
              "3        {'offer id': 'fafdcd668e3743c1bb461111dcafc2a4'}  \n",
              "4        {'offer id': '4d5c57ea9a6940dd891ad53e9dbe8da0'}  \n",
              "5        {'offer id': 'f19421c1d4aa40978ebb69ca19b0e20d'}  \n",
              "6        {'offer id': '2298d6c36e964ae4a3e7e9706d1fb8c2'}  \n",
              "7        {'offer id': '3f207df678b143eea3cee63160fa8bed'}  \n",
              "8        {'offer id': '0b1e1539f2cc45b7b9fa7c272da2e1d7'}  \n",
              "9        {'offer id': '0b1e1539f2cc45b7b9fa7c272da2e1d7'}  \n",
              "10       {'offer id': '0b1e1539f2cc45b7b9fa7c272da2e1d7'}  \n",
              "11       {'offer id': '0b1e1539f2cc45b7b9fa7c272da2e1d7'}  \n",
              "12       {'offer id': 'ae264e3637204a6fb9bb56bc8210ddfd'}  \n",
              "13       {'offer id': '3f207df678b143eea3cee63160fa8bed'}  \n",
              "14       {'offer id': '0b1e1539f2cc45b7b9fa7c272da2e1d7'}  \n",
              "15       {'offer id': 'fafdcd668e3743c1bb461111dcafc2a4'}  \n",
              "16       {'offer id': '0b1e1539f2cc45b7b9fa7c272da2e1d7'}  \n",
              "17       {'offer id': '2906b810c7d4411798c6938adc9daaa5'}  \n",
              "18       {'offer id': '9b98b8c7a33c4b65b9aebfe6a799e6d9'}  \n",
              "19       {'offer id': 'ae264e3637204a6fb9bb56bc8210ddfd'}  \n",
              "20       {'offer id': '2906b810c7d4411798c6938adc9daaa5'}  \n",
              "21       {'offer id': '9b98b8c7a33c4b65b9aebfe6a799e6d9'}  \n",
              "22       {'offer id': '4d5c57ea9a6940dd891ad53e9dbe8da0'}  \n",
              "23       {'offer id': '2906b810c7d4411798c6938adc9daaa5'}  \n",
              "24       {'offer id': '2298d6c36e964ae4a3e7e9706d1fb8c2'}  \n",
              "25       {'offer id': '2906b810c7d4411798c6938adc9daaa5'}  \n",
              "26       {'offer id': 'f19421c1d4aa40978ebb69ca19b0e20d'}  \n",
              "27       {'offer id': 'ae264e3637204a6fb9bb56bc8210ddfd'}  \n",
              "28       {'offer id': '9b98b8c7a33c4b65b9aebfe6a799e6d9'}  \n",
              "29       {'offer id': 'fafdcd668e3743c1bb461111dcafc2a4'}  \n",
              "...                                                   ...  \n",
              "306504                                   {'amount': 4.89}  \n",
              "306505                                   {'amount': 4.48}  \n",
              "306506  {'offer_id': 'fafdcd668e3743c1bb461111dcafc2a4...  \n",
              "306507   {'offer id': '0b1e1539f2cc45b7b9fa7c272da2e1d7'}  \n",
              "306508                                   {'amount': 1.19}  \n",
              "306509  {'offer_id': 'fafdcd668e3743c1bb461111dcafc2a4...  \n",
              "306510                                  {'amount': 14.31}  \n",
              "306511                                   {'amount': 2.37}  \n",
              "306512                                   {'amount': 6.92}  \n",
              "306513                                  {'amount': 12.73}  \n",
              "306514                                    {'amount': 8.2}  \n",
              "306515                                    {'amount': 2.6}  \n",
              "306516                                    {'amount': 9.2}  \n",
              "306517                                   {'amount': 11.7}  \n",
              "306518                                  {'amount': 40.67}  \n",
              "306519                                  {'amount': 31.13}  \n",
              "306520                     {'amount': 1.6400000000000001}  \n",
              "306521                                  {'amount': 17.35}  \n",
              "306522                                   {'amount': 4.42}  \n",
              "306523                                  {'amount': 18.35}  \n",
              "306524                                  {'amount': 25.14}  \n",
              "306525                                  {'amount': 43.58}  \n",
              "306526                                  {'amount': 22.64}  \n",
              "306527  {'offer_id': 'fafdcd668e3743c1bb461111dcafc2a4...  \n",
              "306528                                    {'amount': 2.2}  \n",
              "306529                     {'amount': 1.5899999999999999}  \n",
              "306530                                   {'amount': 9.53}  \n",
              "306531                                   {'amount': 3.61}  \n",
              "306532                     {'amount': 3.5300000000000002}  \n",
              "306533                                   {'amount': 4.05}  \n",
              "\n",
              "[306534 rows x 4 columns]"
            ]
          },
          "execution_count": 37,
          "metadata": {},
          "output_type": "execute_result"
        }
      ],
      "source": [
        "df_transcript"
      ]
    },
    {
      "cell_type": "code",
      "execution_count": null,
      "metadata": {
        "scrolled": true,
        "id": "nIOLZpINOSes",
        "outputId": "f8e8e661-1153-4694-ea5a-ed184a73bab8"
      },
      "outputs": [
        {
          "data": {
            "text/plain": [
              "0          {'offer id': '9b98b8c7a33c4b65b9aebfe6a799e6d9'}\n",
              "1          {'offer id': '0b1e1539f2cc45b7b9fa7c272da2e1d7'}\n",
              "2          {'offer id': '2906b810c7d4411798c6938adc9daaa5'}\n",
              "3          {'offer id': 'fafdcd668e3743c1bb461111dcafc2a4'}\n",
              "4          {'offer id': '4d5c57ea9a6940dd891ad53e9dbe8da0'}\n",
              "5          {'offer id': 'f19421c1d4aa40978ebb69ca19b0e20d'}\n",
              "6          {'offer id': '2298d6c36e964ae4a3e7e9706d1fb8c2'}\n",
              "7          {'offer id': '3f207df678b143eea3cee63160fa8bed'}\n",
              "8          {'offer id': '0b1e1539f2cc45b7b9fa7c272da2e1d7'}\n",
              "9          {'offer id': '0b1e1539f2cc45b7b9fa7c272da2e1d7'}\n",
              "10         {'offer id': '0b1e1539f2cc45b7b9fa7c272da2e1d7'}\n",
              "11         {'offer id': '0b1e1539f2cc45b7b9fa7c272da2e1d7'}\n",
              "12         {'offer id': 'ae264e3637204a6fb9bb56bc8210ddfd'}\n",
              "13         {'offer id': '3f207df678b143eea3cee63160fa8bed'}\n",
              "14         {'offer id': '0b1e1539f2cc45b7b9fa7c272da2e1d7'}\n",
              "15         {'offer id': 'fafdcd668e3743c1bb461111dcafc2a4'}\n",
              "16         {'offer id': '0b1e1539f2cc45b7b9fa7c272da2e1d7'}\n",
              "17         {'offer id': '2906b810c7d4411798c6938adc9daaa5'}\n",
              "18         {'offer id': '9b98b8c7a33c4b65b9aebfe6a799e6d9'}\n",
              "19         {'offer id': 'ae264e3637204a6fb9bb56bc8210ddfd'}\n",
              "20         {'offer id': '2906b810c7d4411798c6938adc9daaa5'}\n",
              "21         {'offer id': '9b98b8c7a33c4b65b9aebfe6a799e6d9'}\n",
              "22         {'offer id': '4d5c57ea9a6940dd891ad53e9dbe8da0'}\n",
              "23         {'offer id': '2906b810c7d4411798c6938adc9daaa5'}\n",
              "24         {'offer id': '2298d6c36e964ae4a3e7e9706d1fb8c2'}\n",
              "25         {'offer id': '2906b810c7d4411798c6938adc9daaa5'}\n",
              "26         {'offer id': 'f19421c1d4aa40978ebb69ca19b0e20d'}\n",
              "27         {'offer id': 'ae264e3637204a6fb9bb56bc8210ddfd'}\n",
              "28         {'offer id': '9b98b8c7a33c4b65b9aebfe6a799e6d9'}\n",
              "29         {'offer id': 'fafdcd668e3743c1bb461111dcafc2a4'}\n",
              "                                ...                        \n",
              "306504                                     {'amount': 4.89}\n",
              "306505                                     {'amount': 4.48}\n",
              "306506    {'offer_id': 'fafdcd668e3743c1bb461111dcafc2a4...\n",
              "306507     {'offer id': '0b1e1539f2cc45b7b9fa7c272da2e1d7'}\n",
              "306508                                     {'amount': 1.19}\n",
              "306509    {'offer_id': 'fafdcd668e3743c1bb461111dcafc2a4...\n",
              "306510                                    {'amount': 14.31}\n",
              "306511                                     {'amount': 2.37}\n",
              "306512                                     {'amount': 6.92}\n",
              "306513                                    {'amount': 12.73}\n",
              "306514                                      {'amount': 8.2}\n",
              "306515                                      {'amount': 2.6}\n",
              "306516                                      {'amount': 9.2}\n",
              "306517                                     {'amount': 11.7}\n",
              "306518                                    {'amount': 40.67}\n",
              "306519                                    {'amount': 31.13}\n",
              "306520                       {'amount': 1.6400000000000001}\n",
              "306521                                    {'amount': 17.35}\n",
              "306522                                     {'amount': 4.42}\n",
              "306523                                    {'amount': 18.35}\n",
              "306524                                    {'amount': 25.14}\n",
              "306525                                    {'amount': 43.58}\n",
              "306526                                    {'amount': 22.64}\n",
              "306527    {'offer_id': 'fafdcd668e3743c1bb461111dcafc2a4...\n",
              "306528                                      {'amount': 2.2}\n",
              "306529                       {'amount': 1.5899999999999999}\n",
              "306530                                     {'amount': 9.53}\n",
              "306531                                     {'amount': 3.61}\n",
              "306532                       {'amount': 3.5300000000000002}\n",
              "306533                                     {'amount': 4.05}\n",
              "Name: value, Length: 306534, dtype: object"
            ]
          },
          "execution_count": 38,
          "metadata": {},
          "output_type": "execute_result"
        }
      ],
      "source": [
        "df_transcript['value']"
      ]
    },
    {
      "cell_type": "markdown",
      "metadata": {
        "id": "pQfEzia8OSes"
      },
      "source": [
        "#### 1. Change the column's name person to a more significant name: customer_id"
      ]
    },
    {
      "cell_type": "markdown",
      "metadata": {
        "id": "EFGtFvFtOSet"
      },
      "source": [
        "#### code"
      ]
    },
    {
      "cell_type": "code",
      "execution_count": null,
      "metadata": {
        "id": "JkukSjdzOSet"
      },
      "outputs": [],
      "source": [
        "df_transcript = df_transcript.rename(columns={'person':'customer_id'})"
      ]
    },
    {
      "cell_type": "markdown",
      "metadata": {
        "id": "aUjA-DmVOSet"
      },
      "source": [
        "#### test"
      ]
    },
    {
      "cell_type": "code",
      "execution_count": null,
      "metadata": {
        "id": "d7m3YestOSet",
        "outputId": "bbbee599-3fd1-48e6-fc40-840094b49381"
      },
      "outputs": [
        {
          "name": "stdout",
          "output_type": "stream",
          "text": [
            "<class 'pandas.core.frame.DataFrame'>\n",
            "RangeIndex: 306534 entries, 0 to 306533\n",
            "Data columns (total 4 columns):\n",
            "event          306534 non-null object\n",
            "customer_id    306534 non-null object\n",
            "time           306534 non-null int64\n",
            "value          306534 non-null object\n",
            "dtypes: int64(1), object(3)\n",
            "memory usage: 9.4+ MB\n"
          ]
        }
      ],
      "source": [
        "df_transcript.info()"
      ]
    },
    {
      "cell_type": "markdown",
      "metadata": {
        "id": "cNJq-QyWOSet"
      },
      "source": [
        "#### 2. convert the column 'Values' into 2 different columns and drop value column"
      ]
    },
    {
      "cell_type": "markdown",
      "metadata": {
        "id": "8-IVs8OGOSeu"
      },
      "source": [
        "#### code"
      ]
    },
    {
      "cell_type": "code",
      "execution_count": null,
      "metadata": {
        "id": "kozAUBZQOSeu"
      },
      "outputs": [],
      "source": [
        "# Functions to create offer id and amount columns\n",
        "def create_offer_id_column(value):\n",
        "    if list(value.keys())[0] in ['offer id', 'offer_id']:\n",
        "        return list(value.values())[0]\n",
        "    \n",
        "def create_amount_column(value):\n",
        "    if list(value.keys())[0] in [\"amount\"]:\n",
        "        return list(value.values())[0]"
      ]
    },
    {
      "cell_type": "code",
      "execution_count": null,
      "metadata": {
        "id": "uo0SsVCKOSeu"
      },
      "outputs": [],
      "source": [
        "df_transcript['offer_id'] = df_transcript.value.apply(create_offer_id_column)\n",
        "df_transcript['amount'] = df_transcript.value.apply(create_amount_column)"
      ]
    },
    {
      "cell_type": "code",
      "execution_count": null,
      "metadata": {
        "id": "xF6TznK8OSeu"
      },
      "outputs": [],
      "source": [
        "# drop value column\n",
        "df_transcript.drop(columns='value',inplace=True)"
      ]
    },
    {
      "cell_type": "markdown",
      "metadata": {
        "id": "E7Qa5xeLOSeu"
      },
      "source": [
        "#### test"
      ]
    },
    {
      "cell_type": "code",
      "execution_count": null,
      "metadata": {
        "id": "4eKPOhPgOSev",
        "outputId": "d0ab104b-c492-4ab3-ad91-f44e42baca6c"
      },
      "outputs": [
        {
          "data": {
            "text/html": [
              "<div>\n",
              "<style scoped>\n",
              "    .dataframe tbody tr th:only-of-type {\n",
              "        vertical-align: middle;\n",
              "    }\n",
              "\n",
              "    .dataframe tbody tr th {\n",
              "        vertical-align: top;\n",
              "    }\n",
              "\n",
              "    .dataframe thead th {\n",
              "        text-align: right;\n",
              "    }\n",
              "</style>\n",
              "<table border=\"1\" class=\"dataframe\">\n",
              "  <thead>\n",
              "    <tr style=\"text-align: right;\">\n",
              "      <th></th>\n",
              "      <th>event</th>\n",
              "      <th>customer_id</th>\n",
              "      <th>time</th>\n",
              "      <th>offer_id</th>\n",
              "      <th>amount</th>\n",
              "    </tr>\n",
              "  </thead>\n",
              "  <tbody>\n",
              "    <tr>\n",
              "      <th>0</th>\n",
              "      <td>offer received</td>\n",
              "      <td>78afa995795e4d85b5d9ceeca43f5fef</td>\n",
              "      <td>0</td>\n",
              "      <td>9b98b8c7a33c4b65b9aebfe6a799e6d9</td>\n",
              "      <td>NaN</td>\n",
              "    </tr>\n",
              "  </tbody>\n",
              "</table>\n",
              "</div>"
            ],
            "text/plain": [
              "            event                       customer_id  time  \\\n",
              "0  offer received  78afa995795e4d85b5d9ceeca43f5fef     0   \n",
              "\n",
              "                           offer_id  amount  \n",
              "0  9b98b8c7a33c4b65b9aebfe6a799e6d9     NaN  "
            ]
          },
          "execution_count": 44,
          "metadata": {},
          "output_type": "execute_result"
        }
      ],
      "source": [
        "df_transcript.head(1)"
      ]
    },
    {
      "cell_type": "markdown",
      "metadata": {
        "id": "JLObaMe7OSev"
      },
      "source": [
        "#### 3. convert the column 'Event' into 4 different columns on the basis of different types of event ."
      ]
    },
    {
      "cell_type": "markdown",
      "metadata": {
        "id": "giSsKrGmOSev"
      },
      "source": [
        "#### code"
      ]
    },
    {
      "cell_type": "code",
      "execution_count": null,
      "metadata": {
        "id": "JI9bXcC9OSev"
      },
      "outputs": [],
      "source": [
        "dummy = pd.get_dummies(df_transcript['event'])\n",
        "df_transcript = pd.concat([df_transcript, dummy], axis=1)\n",
        "df_transcript.drop(columns='event',inplace=True)"
      ]
    },
    {
      "cell_type": "markdown",
      "metadata": {
        "id": "arkg9F5fOSev"
      },
      "source": [
        "#### test"
      ]
    },
    {
      "cell_type": "code",
      "execution_count": null,
      "metadata": {
        "id": "EFA0kdbtOSev",
        "outputId": "a15285e7-c2e8-4475-985e-18d7d674b3e6"
      },
      "outputs": [
        {
          "data": {
            "text/html": [
              "<div>\n",
              "<style scoped>\n",
              "    .dataframe tbody tr th:only-of-type {\n",
              "        vertical-align: middle;\n",
              "    }\n",
              "\n",
              "    .dataframe tbody tr th {\n",
              "        vertical-align: top;\n",
              "    }\n",
              "\n",
              "    .dataframe thead th {\n",
              "        text-align: right;\n",
              "    }\n",
              "</style>\n",
              "<table border=\"1\" class=\"dataframe\">\n",
              "  <thead>\n",
              "    <tr style=\"text-align: right;\">\n",
              "      <th></th>\n",
              "      <th>customer_id</th>\n",
              "      <th>time</th>\n",
              "      <th>offer_id</th>\n",
              "      <th>amount</th>\n",
              "      <th>offer completed</th>\n",
              "      <th>offer received</th>\n",
              "      <th>offer viewed</th>\n",
              "      <th>transaction</th>\n",
              "    </tr>\n",
              "  </thead>\n",
              "  <tbody>\n",
              "    <tr>\n",
              "      <th>0</th>\n",
              "      <td>78afa995795e4d85b5d9ceeca43f5fef</td>\n",
              "      <td>0</td>\n",
              "      <td>9b98b8c7a33c4b65b9aebfe6a799e6d9</td>\n",
              "      <td>NaN</td>\n",
              "      <td>0</td>\n",
              "      <td>1</td>\n",
              "      <td>0</td>\n",
              "      <td>0</td>\n",
              "    </tr>\n",
              "  </tbody>\n",
              "</table>\n",
              "</div>"
            ],
            "text/plain": [
              "                        customer_id  time                          offer_id  \\\n",
              "0  78afa995795e4d85b5d9ceeca43f5fef     0  9b98b8c7a33c4b65b9aebfe6a799e6d9   \n",
              "\n",
              "   amount  offer completed  offer received  offer viewed  transaction  \n",
              "0     NaN                0               1             0            0  "
            ]
          },
          "execution_count": 46,
          "metadata": {},
          "output_type": "execute_result"
        }
      ],
      "source": [
        "df_transcript.head(1)"
      ]
    },
    {
      "cell_type": "markdown",
      "metadata": {
        "id": "eN0sSUhIOSew"
      },
      "source": [
        "#### Define: Merge the cleaned datasets  in one data\n"
      ]
    },
    {
      "cell_type": "code",
      "execution_count": null,
      "metadata": {
        "id": "DSnxTvBtOSew"
      },
      "outputs": [],
      "source": [
        "all_df =pd.merge(df_transcript, df_portfolio, how='left', on=['offer_id'])"
      ]
    },
    {
      "cell_type": "code",
      "execution_count": null,
      "metadata": {
        "id": "dmdotZVxOSew",
        "outputId": "65eb3c24-c513-4cc1-e83f-d7517ff0602e"
      },
      "outputs": [
        {
          "data": {
            "text/html": [
              "<div>\n",
              "<style scoped>\n",
              "    .dataframe tbody tr th:only-of-type {\n",
              "        vertical-align: middle;\n",
              "    }\n",
              "\n",
              "    .dataframe tbody tr th {\n",
              "        vertical-align: top;\n",
              "    }\n",
              "\n",
              "    .dataframe thead th {\n",
              "        text-align: right;\n",
              "    }\n",
              "</style>\n",
              "<table border=\"1\" class=\"dataframe\">\n",
              "  <thead>\n",
              "    <tr style=\"text-align: right;\">\n",
              "      <th></th>\n",
              "      <th>customer_id</th>\n",
              "      <th>time</th>\n",
              "      <th>offer_id</th>\n",
              "      <th>amount</th>\n",
              "      <th>offer completed</th>\n",
              "      <th>offer received</th>\n",
              "      <th>offer viewed</th>\n",
              "      <th>transaction</th>\n",
              "      <th>difficulty</th>\n",
              "      <th>duration</th>\n",
              "      <th>offer_type</th>\n",
              "      <th>reward</th>\n",
              "      <th>email</th>\n",
              "      <th>mobile</th>\n",
              "      <th>social</th>\n",
              "      <th>web</th>\n",
              "    </tr>\n",
              "  </thead>\n",
              "  <tbody>\n",
              "    <tr>\n",
              "      <th>0</th>\n",
              "      <td>78afa995795e4d85b5d9ceeca43f5fef</td>\n",
              "      <td>0</td>\n",
              "      <td>9b98b8c7a33c4b65b9aebfe6a799e6d9</td>\n",
              "      <td>NaN</td>\n",
              "      <td>0</td>\n",
              "      <td>1</td>\n",
              "      <td>0</td>\n",
              "      <td>0</td>\n",
              "      <td>5.0</td>\n",
              "      <td>7.0</td>\n",
              "      <td>bogo</td>\n",
              "      <td>5.0</td>\n",
              "      <td>1.0</td>\n",
              "      <td>1.0</td>\n",
              "      <td>0.0</td>\n",
              "      <td>1.0</td>\n",
              "    </tr>\n",
              "  </tbody>\n",
              "</table>\n",
              "</div>"
            ],
            "text/plain": [
              "                        customer_id  time                          offer_id  \\\n",
              "0  78afa995795e4d85b5d9ceeca43f5fef     0  9b98b8c7a33c4b65b9aebfe6a799e6d9   \n",
              "\n",
              "   amount  offer completed  offer received  offer viewed  transaction  \\\n",
              "0     NaN                0               1             0            0   \n",
              "\n",
              "   difficulty  duration offer_type  reward  email  mobile  social  web  \n",
              "0         5.0       7.0       bogo     5.0    1.0     1.0     0.0  1.0  "
            ]
          },
          "execution_count": 48,
          "metadata": {},
          "output_type": "execute_result"
        }
      ],
      "source": [
        "all_df.head(1)"
      ]
    },
    {
      "cell_type": "code",
      "execution_count": null,
      "metadata": {
        "id": "z0XbtHPfOSew"
      },
      "outputs": [],
      "source": [
        "all_df =pd.merge(all_df, df_profile, how='left', on=['customer_id'])"
      ]
    },
    {
      "cell_type": "code",
      "execution_count": null,
      "metadata": {
        "scrolled": true,
        "id": "YiO_HVh0OSew",
        "outputId": "29932c35-7802-4f2b-bd3a-719c3c6cffdc"
      },
      "outputs": [
        {
          "data": {
            "text/html": [
              "<div>\n",
              "<style scoped>\n",
              "    .dataframe tbody tr th:only-of-type {\n",
              "        vertical-align: middle;\n",
              "    }\n",
              "\n",
              "    .dataframe tbody tr th {\n",
              "        vertical-align: top;\n",
              "    }\n",
              "\n",
              "    .dataframe thead th {\n",
              "        text-align: right;\n",
              "    }\n",
              "</style>\n",
              "<table border=\"1\" class=\"dataframe\">\n",
              "  <thead>\n",
              "    <tr style=\"text-align: right;\">\n",
              "      <th></th>\n",
              "      <th>customer_id</th>\n",
              "      <th>time</th>\n",
              "      <th>offer_id</th>\n",
              "      <th>amount</th>\n",
              "      <th>offer completed</th>\n",
              "      <th>offer received</th>\n",
              "      <th>offer viewed</th>\n",
              "      <th>transaction</th>\n",
              "      <th>difficulty</th>\n",
              "      <th>duration</th>\n",
              "      <th>offer_type</th>\n",
              "      <th>reward</th>\n",
              "      <th>email</th>\n",
              "      <th>mobile</th>\n",
              "      <th>social</th>\n",
              "      <th>web</th>\n",
              "      <th>age</th>\n",
              "      <th>became_member_on</th>\n",
              "      <th>gender</th>\n",
              "      <th>income</th>\n",
              "    </tr>\n",
              "  </thead>\n",
              "  <tbody>\n",
              "    <tr>\n",
              "      <th>0</th>\n",
              "      <td>78afa995795e4d85b5d9ceeca43f5fef</td>\n",
              "      <td>0</td>\n",
              "      <td>9b98b8c7a33c4b65b9aebfe6a799e6d9</td>\n",
              "      <td>NaN</td>\n",
              "      <td>0</td>\n",
              "      <td>1</td>\n",
              "      <td>0</td>\n",
              "      <td>0</td>\n",
              "      <td>5.0</td>\n",
              "      <td>7.0</td>\n",
              "      <td>bogo</td>\n",
              "      <td>5.0</td>\n",
              "      <td>1.0</td>\n",
              "      <td>1.0</td>\n",
              "      <td>0.0</td>\n",
              "      <td>1.0</td>\n",
              "      <td>75.0</td>\n",
              "      <td>2017-05-09</td>\n",
              "      <td>F</td>\n",
              "      <td>100000.0</td>\n",
              "    </tr>\n",
              "  </tbody>\n",
              "</table>\n",
              "</div>"
            ],
            "text/plain": [
              "                        customer_id  time                          offer_id  \\\n",
              "0  78afa995795e4d85b5d9ceeca43f5fef     0  9b98b8c7a33c4b65b9aebfe6a799e6d9   \n",
              "\n",
              "   amount  offer completed  offer received  offer viewed  transaction  \\\n",
              "0     NaN                0               1             0            0   \n",
              "\n",
              "   difficulty  duration offer_type  reward  email  mobile  social  web   age  \\\n",
              "0         5.0       7.0       bogo     5.0    1.0     1.0     0.0  1.0  75.0   \n",
              "\n",
              "  became_member_on gender    income  \n",
              "0       2017-05-09      F  100000.0  "
            ]
          },
          "execution_count": 50,
          "metadata": {},
          "output_type": "execute_result"
        }
      ],
      "source": [
        "all_df.head(1)"
      ]
    },
    {
      "cell_type": "markdown",
      "metadata": {
        "id": "XQ_L4sqyOSex"
      },
      "source": [
        "### Storing Data"
      ]
    },
    {
      "cell_type": "markdown",
      "metadata": {
        "id": "00-RsJqROSex"
      },
      "source": [
        "Save gathered, assessed, and cleaned master dataset to a CSV file named \"starbucks_data.csv\"."
      ]
    },
    {
      "cell_type": "code",
      "execution_count": null,
      "metadata": {
        "id": "NF4E7pUSOSex"
      },
      "outputs": [],
      "source": [
        "all_df.to_csv('starbucks_data.csv', encoding='utf-8', index=False)"
      ]
    },
    {
      "cell_type": "markdown",
      "metadata": {
        "id": "uVuTCxC9OSex"
      },
      "source": [
        "### Analyzing and Visualizing Data"
      ]
    },
    {
      "cell_type": "code",
      "execution_count": 42,
      "metadata": {
        "id": "2IGWZyUwOSex"
      },
      "outputs": [],
      "source": [
        "df = pd.read_csv('/content/starbucks_data.csv')"
      ]
    },
    {
      "cell_type": "code",
      "execution_count": 43,
      "metadata": {
        "colab": {
          "base_uri": "https://localhost:8080/",
          "height": 288
        },
        "id": "Sd7h5aXoOSey",
        "outputId": "a177574a-23d5-497f-c86b-9311ed1b4b8d"
      },
      "outputs": [
        {
          "output_type": "execute_result",
          "data": {
            "text/plain": [
              "                        customer_id  time                          offer_id  \\\n",
              "0  78afa995795e4d85b5d9ceeca43f5fef     0  9b98b8c7a33c4b65b9aebfe6a799e6d9   \n",
              "1  a03223e636434f42ac4c3df47e8bac43     0  0b1e1539f2cc45b7b9fa7c272da2e1d7   \n",
              "2  e2127556f4f64592b11af22de27a7932     0  2906b810c7d4411798c6938adc9daaa5   \n",
              "3  8ec6ce2a7e7949b1bf142def7d0e0586     0  fafdcd668e3743c1bb461111dcafc2a4   \n",
              "4  68617ca6246f4fbc85e91a2a49552598     0  4d5c57ea9a6940dd891ad53e9dbe8da0   \n",
              "\n",
              "   amount  offer completed  offer received  offer viewed  transaction  \\\n",
              "0     NaN                0               1             0            0   \n",
              "1     NaN                0               1             0            0   \n",
              "2     NaN                0               1             0            0   \n",
              "3     NaN                0               1             0            0   \n",
              "4     NaN                0               1             0            0   \n",
              "\n",
              "   difficulty  duration offer_type  reward  email  mobile  social  web   age  \\\n",
              "0         5.0       7.0       bogo     5.0    1.0     1.0     0.0  1.0  75.0   \n",
              "1        20.0      10.0   discount     5.0    1.0     0.0     0.0  1.0   NaN   \n",
              "2        10.0       7.0   discount     2.0    1.0     1.0     0.0  1.0  68.0   \n",
              "3        10.0      10.0   discount     2.0    1.0     1.0     1.0  1.0   NaN   \n",
              "4        10.0       5.0       bogo    10.0    1.0     1.0     1.0  1.0   NaN   \n",
              "\n",
              "  became_member_on gender    income  \n",
              "0       2017-05-09      F  100000.0  \n",
              "1              NaN    NaN       NaN  \n",
              "2       2018-04-26      M   70000.0  \n",
              "3              NaN    NaN       NaN  \n",
              "4              NaN    NaN       NaN  "
            ],
            "text/html": [
              "\n",
              "  <div id=\"df-918768cd-024a-4701-b1a3-f0b18cf9cfd9\">\n",
              "    <div class=\"colab-df-container\">\n",
              "      <div>\n",
              "<style scoped>\n",
              "    .dataframe tbody tr th:only-of-type {\n",
              "        vertical-align: middle;\n",
              "    }\n",
              "\n",
              "    .dataframe tbody tr th {\n",
              "        vertical-align: top;\n",
              "    }\n",
              "\n",
              "    .dataframe thead th {\n",
              "        text-align: right;\n",
              "    }\n",
              "</style>\n",
              "<table border=\"1\" class=\"dataframe\">\n",
              "  <thead>\n",
              "    <tr style=\"text-align: right;\">\n",
              "      <th></th>\n",
              "      <th>customer_id</th>\n",
              "      <th>time</th>\n",
              "      <th>offer_id</th>\n",
              "      <th>amount</th>\n",
              "      <th>offer completed</th>\n",
              "      <th>offer received</th>\n",
              "      <th>offer viewed</th>\n",
              "      <th>transaction</th>\n",
              "      <th>difficulty</th>\n",
              "      <th>duration</th>\n",
              "      <th>offer_type</th>\n",
              "      <th>reward</th>\n",
              "      <th>email</th>\n",
              "      <th>mobile</th>\n",
              "      <th>social</th>\n",
              "      <th>web</th>\n",
              "      <th>age</th>\n",
              "      <th>became_member_on</th>\n",
              "      <th>gender</th>\n",
              "      <th>income</th>\n",
              "    </tr>\n",
              "  </thead>\n",
              "  <tbody>\n",
              "    <tr>\n",
              "      <th>0</th>\n",
              "      <td>78afa995795e4d85b5d9ceeca43f5fef</td>\n",
              "      <td>0</td>\n",
              "      <td>9b98b8c7a33c4b65b9aebfe6a799e6d9</td>\n",
              "      <td>NaN</td>\n",
              "      <td>0</td>\n",
              "      <td>1</td>\n",
              "      <td>0</td>\n",
              "      <td>0</td>\n",
              "      <td>5.0</td>\n",
              "      <td>7.0</td>\n",
              "      <td>bogo</td>\n",
              "      <td>5.0</td>\n",
              "      <td>1.0</td>\n",
              "      <td>1.0</td>\n",
              "      <td>0.0</td>\n",
              "      <td>1.0</td>\n",
              "      <td>75.0</td>\n",
              "      <td>2017-05-09</td>\n",
              "      <td>F</td>\n",
              "      <td>100000.0</td>\n",
              "    </tr>\n",
              "    <tr>\n",
              "      <th>1</th>\n",
              "      <td>a03223e636434f42ac4c3df47e8bac43</td>\n",
              "      <td>0</td>\n",
              "      <td>0b1e1539f2cc45b7b9fa7c272da2e1d7</td>\n",
              "      <td>NaN</td>\n",
              "      <td>0</td>\n",
              "      <td>1</td>\n",
              "      <td>0</td>\n",
              "      <td>0</td>\n",
              "      <td>20.0</td>\n",
              "      <td>10.0</td>\n",
              "      <td>discount</td>\n",
              "      <td>5.0</td>\n",
              "      <td>1.0</td>\n",
              "      <td>0.0</td>\n",
              "      <td>0.0</td>\n",
              "      <td>1.0</td>\n",
              "      <td>NaN</td>\n",
              "      <td>NaN</td>\n",
              "      <td>NaN</td>\n",
              "      <td>NaN</td>\n",
              "    </tr>\n",
              "    <tr>\n",
              "      <th>2</th>\n",
              "      <td>e2127556f4f64592b11af22de27a7932</td>\n",
              "      <td>0</td>\n",
              "      <td>2906b810c7d4411798c6938adc9daaa5</td>\n",
              "      <td>NaN</td>\n",
              "      <td>0</td>\n",
              "      <td>1</td>\n",
              "      <td>0</td>\n",
              "      <td>0</td>\n",
              "      <td>10.0</td>\n",
              "      <td>7.0</td>\n",
              "      <td>discount</td>\n",
              "      <td>2.0</td>\n",
              "      <td>1.0</td>\n",
              "      <td>1.0</td>\n",
              "      <td>0.0</td>\n",
              "      <td>1.0</td>\n",
              "      <td>68.0</td>\n",
              "      <td>2018-04-26</td>\n",
              "      <td>M</td>\n",
              "      <td>70000.0</td>\n",
              "    </tr>\n",
              "    <tr>\n",
              "      <th>3</th>\n",
              "      <td>8ec6ce2a7e7949b1bf142def7d0e0586</td>\n",
              "      <td>0</td>\n",
              "      <td>fafdcd668e3743c1bb461111dcafc2a4</td>\n",
              "      <td>NaN</td>\n",
              "      <td>0</td>\n",
              "      <td>1</td>\n",
              "      <td>0</td>\n",
              "      <td>0</td>\n",
              "      <td>10.0</td>\n",
              "      <td>10.0</td>\n",
              "      <td>discount</td>\n",
              "      <td>2.0</td>\n",
              "      <td>1.0</td>\n",
              "      <td>1.0</td>\n",
              "      <td>1.0</td>\n",
              "      <td>1.0</td>\n",
              "      <td>NaN</td>\n",
              "      <td>NaN</td>\n",
              "      <td>NaN</td>\n",
              "      <td>NaN</td>\n",
              "    </tr>\n",
              "    <tr>\n",
              "      <th>4</th>\n",
              "      <td>68617ca6246f4fbc85e91a2a49552598</td>\n",
              "      <td>0</td>\n",
              "      <td>4d5c57ea9a6940dd891ad53e9dbe8da0</td>\n",
              "      <td>NaN</td>\n",
              "      <td>0</td>\n",
              "      <td>1</td>\n",
              "      <td>0</td>\n",
              "      <td>0</td>\n",
              "      <td>10.0</td>\n",
              "      <td>5.0</td>\n",
              "      <td>bogo</td>\n",
              "      <td>10.0</td>\n",
              "      <td>1.0</td>\n",
              "      <td>1.0</td>\n",
              "      <td>1.0</td>\n",
              "      <td>1.0</td>\n",
              "      <td>NaN</td>\n",
              "      <td>NaN</td>\n",
              "      <td>NaN</td>\n",
              "      <td>NaN</td>\n",
              "    </tr>\n",
              "  </tbody>\n",
              "</table>\n",
              "</div>\n",
              "      <button class=\"colab-df-convert\" onclick=\"convertToInteractive('df-918768cd-024a-4701-b1a3-f0b18cf9cfd9')\"\n",
              "              title=\"Convert this dataframe to an interactive table.\"\n",
              "              style=\"display:none;\">\n",
              "        \n",
              "  <svg xmlns=\"http://www.w3.org/2000/svg\" height=\"24px\"viewBox=\"0 0 24 24\"\n",
              "       width=\"24px\">\n",
              "    <path d=\"M0 0h24v24H0V0z\" fill=\"none\"/>\n",
              "    <path d=\"M18.56 5.44l.94 2.06.94-2.06 2.06-.94-2.06-.94-.94-2.06-.94 2.06-2.06.94zm-11 1L8.5 8.5l.94-2.06 2.06-.94-2.06-.94L8.5 2.5l-.94 2.06-2.06.94zm10 10l.94 2.06.94-2.06 2.06-.94-2.06-.94-.94-2.06-.94 2.06-2.06.94z\"/><path d=\"M17.41 7.96l-1.37-1.37c-.4-.4-.92-.59-1.43-.59-.52 0-1.04.2-1.43.59L10.3 9.45l-7.72 7.72c-.78.78-.78 2.05 0 2.83L4 21.41c.39.39.9.59 1.41.59.51 0 1.02-.2 1.41-.59l7.78-7.78 2.81-2.81c.8-.78.8-2.07 0-2.86zM5.41 20L4 18.59l7.72-7.72 1.47 1.35L5.41 20z\"/>\n",
              "  </svg>\n",
              "      </button>\n",
              "      \n",
              "  <style>\n",
              "    .colab-df-container {\n",
              "      display:flex;\n",
              "      flex-wrap:wrap;\n",
              "      gap: 12px;\n",
              "    }\n",
              "\n",
              "    .colab-df-convert {\n",
              "      background-color: #E8F0FE;\n",
              "      border: none;\n",
              "      border-radius: 50%;\n",
              "      cursor: pointer;\n",
              "      display: none;\n",
              "      fill: #1967D2;\n",
              "      height: 32px;\n",
              "      padding: 0 0 0 0;\n",
              "      width: 32px;\n",
              "    }\n",
              "\n",
              "    .colab-df-convert:hover {\n",
              "      background-color: #E2EBFA;\n",
              "      box-shadow: 0px 1px 2px rgba(60, 64, 67, 0.3), 0px 1px 3px 1px rgba(60, 64, 67, 0.15);\n",
              "      fill: #174EA6;\n",
              "    }\n",
              "\n",
              "    [theme=dark] .colab-df-convert {\n",
              "      background-color: #3B4455;\n",
              "      fill: #D2E3FC;\n",
              "    }\n",
              "\n",
              "    [theme=dark] .colab-df-convert:hover {\n",
              "      background-color: #434B5C;\n",
              "      box-shadow: 0px 1px 3px 1px rgba(0, 0, 0, 0.15);\n",
              "      filter: drop-shadow(0px 1px 2px rgba(0, 0, 0, 0.3));\n",
              "      fill: #FFFFFF;\n",
              "    }\n",
              "  </style>\n",
              "\n",
              "      <script>\n",
              "        const buttonEl =\n",
              "          document.querySelector('#df-918768cd-024a-4701-b1a3-f0b18cf9cfd9 button.colab-df-convert');\n",
              "        buttonEl.style.display =\n",
              "          google.colab.kernel.accessAllowed ? 'block' : 'none';\n",
              "\n",
              "        async function convertToInteractive(key) {\n",
              "          const element = document.querySelector('#df-918768cd-024a-4701-b1a3-f0b18cf9cfd9');\n",
              "          const dataTable =\n",
              "            await google.colab.kernel.invokeFunction('convertToInteractive',\n",
              "                                                     [key], {});\n",
              "          if (!dataTable) return;\n",
              "\n",
              "          const docLinkHtml = 'Like what you see? Visit the ' +\n",
              "            '<a target=\"_blank\" href=https://colab.research.google.com/notebooks/data_table.ipynb>data table notebook</a>'\n",
              "            + ' to learn more about interactive tables.';\n",
              "          element.innerHTML = '';\n",
              "          dataTable['output_type'] = 'display_data';\n",
              "          await google.colab.output.renderOutput(dataTable, element);\n",
              "          const docLink = document.createElement('div');\n",
              "          docLink.innerHTML = docLinkHtml;\n",
              "          element.appendChild(docLink);\n",
              "        }\n",
              "      </script>\n",
              "    </div>\n",
              "  </div>\n",
              "  "
            ]
          },
          "metadata": {},
          "execution_count": 43
        }
      ],
      "source": [
        "df.head(5)"
      ]
    },
    {
      "cell_type": "markdown",
      "metadata": {
        "id": "nG2VLuhqOSey"
      },
      "source": [
        "\n",
        "**We aim to answer the following questions in next section.**\n",
        "\n",
        "1.   What is the proportion of client who have completed the offers based on Gender?\n",
        "2.   What is the proportion of client who have completed the offers based on their Age?\n",
        "3.   What is the proportion of client who have completed the offers based on their Income Level?\n",
        "4.   What is the proportion of client who have completed the offers based on offer type?\n"
      ]
    },
    {
      "cell_type": "markdown",
      "metadata": {
        "id": "1Q7FryewOSey"
      },
      "source": [
        "##### 1. What is the proportion of client who have completed the offers based on Gender?"
      ]
    },
    {
      "cell_type": "code",
      "execution_count": 44,
      "metadata": {
        "colab": {
          "base_uri": "https://localhost:8080/"
        },
        "id": "TvPKVoCZOSey",
        "outputId": "9fc3fd05-ca83-46f7-d948-7251dccc51db"
      },
      "outputs": [
        {
          "output_type": "execute_result",
          "data": {
            "text/plain": [
              "M    16466\n",
              "F    15477\n",
              "O      501\n",
              "Name: gender, dtype: int64"
            ]
          },
          "metadata": {},
          "execution_count": 44
        }
      ],
      "source": [
        "df[df['offer completed']==1].gender.value_counts()"
      ]
    },
    {
      "cell_type": "markdown",
      "metadata": {
        "id": "gLaKk98jOSez"
      },
      "source": [
        "The proportion of Male and Female who completes the offer are a bit similar; Whereas others rarely compelete their own."
      ]
    },
    {
      "cell_type": "code",
      "source": [
        "male_data= df[(df['gender']=='M')& (df['offer completed']==1)]\n",
        "female_data= df[(df['gender']=='F')& (df['offer completed']==1)]\n",
        "\n",
        "#proportion\n",
        "male_data.shape[0]/df[df['offer completed']==1].shape[0], female_data.shape[0]/df[df['offer completed']==1].shape[0]"
      ],
      "metadata": {
        "colab": {
          "base_uri": "https://localhost:8080/"
        },
        "id": "PM5Tee3ybEuO",
        "outputId": "2bf27636-731c-4260-fbe9-fff7d471dc97"
      },
      "execution_count": 45,
      "outputs": [
        {
          "output_type": "execute_result",
          "data": {
            "text/plain": [
              "(0.4903660025611245, 0.46091307066916826)"
            ]
          },
          "metadata": {},
          "execution_count": 45
        }
      ]
    },
    {
      "cell_type": "markdown",
      "source": [
        "49% of those who completed the offers are Male, whereas female represent 46%"
      ],
      "metadata": {
        "id": "XyGeOzBQbRib"
      }
    },
    {
      "cell_type": "code",
      "execution_count": 10,
      "metadata": {
        "colab": {
          "base_uri": "https://localhost:8080/",
          "height": 470
        },
        "id": "P08RYW0UOSez",
        "outputId": "2ec3a5f5-e206-47bd-bd70-fdefe364d27f"
      },
      "outputs": [
        {
          "output_type": "display_data",
          "data": {
            "text/plain": [
              "<Figure size 640x480 with 1 Axes>"
            ],
            "image/png": "[encoded data removed]"
          },
          "metadata": {}
        }
      ],
      "source": [
        "ax = df[df['offer completed']==1].gender.value_counts()\n",
        "ax.plot(kind='bar')\n",
        "plt.ylabel('Number of Profiles')\n",
        "plt.xlabel('Gender')\n",
        "plt.title('Gender Distribution');"
      ]
    },
    {
      "cell_type": "code",
      "execution_count": 11,
      "metadata": {
        "id": "PSwhaW98OSez"
      },
      "outputs": [],
      "source": [
        "def visualize(x, y, dataset, Xsize, Ysize):\n",
        "    plt.figure(figsize=(Xsize,Ysize))\n",
        "    ax = sns.countplot(x=x, hue=y, data=dataset)\n",
        "    return(ax)"
      ]
    },
    {
      "cell_type": "code",
      "execution_count": 12,
      "metadata": {
        "colab": {
          "base_uri": "https://localhost:8080/",
          "height": 542
        },
        "id": "-IpKBXBGOSez",
        "outputId": "8f63a6ae-7188-49b0-bf28-66d9832d228c"
      },
      "outputs": [
        {
          "output_type": "display_data",
          "data": {
            "text/plain": [
              "<Figure size 1000x600 with 1 Axes>"
            ],
            "image/png": "[encoded data removed]"
          },
          "metadata": {}
        }
      ],
      "source": [
        "visualize(df['gender'], df['offer completed'], df, 10, 6);"
      ]
    },
    {
      "cell_type": "markdown",
      "metadata": {
        "id": "7q1djWzKOSez"
      },
      "source": [
        "##### 2. What is the proportion of client who have completed the offers based on Age?"
      ]
    },
    {
      "cell_type": "code",
      "execution_count": 13,
      "metadata": {
        "colab": {
          "base_uri": "https://localhost:8080/"
        },
        "id": "H6vzooREOSez",
        "outputId": "0034f103-e9b4-4a24-cd72-9b382d4a7f4a"
      },
      "outputs": [
        {
          "output_type": "execute_result",
          "data": {
            "text/plain": [
              "count    100371.000000\n",
              "mean         53.645894\n",
              "std          17.558180\n",
              "min          18.000000\n",
              "25%          41.000000\n",
              "50%          55.000000\n",
              "75%          66.000000\n",
              "max         101.000000\n",
              "Name: age, dtype: float64"
            ]
          },
          "metadata": {},
          "execution_count": 13
        }
      ],
      "source": [
        "df.age.describe()"
      ]
    },
    {
      "cell_type": "markdown",
      "metadata": {
        "id": "U6Al-gjmOSe0"
      },
      "source": [
        "Before answering Q2 and Q3, we can see that it is more easy to analyse ages and incomes in term of intervals than in term of numbers. To do so, we will add new columns representing the interval that age and income belong to"
      ]
    },
    {
      "cell_type": "code",
      "execution_count": 47,
      "metadata": {
        "id": "hCMRQnLXOSe0"
      },
      "outputs": [],
      "source": [
        "# We will split the different values of ages into differents intervals so that the analysis will be more easy to analyse\n",
        "age_range = pd.cut(df['age'],[18,24,30,39,49,59,69,79,111], labels=['18-24','25-30','31-39','40-49','50-59','60-69','70-79','80-111'])\n",
        "# One-hot encode ages column\n",
        "ages_dummies = pd.get_dummies(age_range)\n",
        "\n",
        "df = pd.concat([df, ages_dummies], axis=1, sort=False)\n",
        "df.drop([\"age\"], axis=1, inplace=True)"
      ]
    },
    {
      "cell_type": "code",
      "execution_count": 48,
      "metadata": {
        "colab": {
          "base_uri": "https://localhost:8080/"
        },
        "id": "MGv2QGnoOSe0",
        "outputId": "5ce5deb9-906b-4aea-b8ce-e3a5e4375413"
      },
      "outputs": [
        {
          "output_type": "execute_result",
          "data": {
            "text/plain": [
              "18-24     1337\n",
              "25-30     1480\n",
              "31-39     2769\n",
              "40-49     4859\n",
              "50-59     8272\n",
              "60-69     6914\n",
              "70-79     4052\n",
              "80-111    2632\n",
              "dtype: int64"
            ]
          },
          "metadata": {},
          "execution_count": 48
        }
      ],
      "source": [
        "age_cols=['18-24','25-30','31-39','40-49','50-59','60-69','70-79','80-111']\n",
        "df[df['offer completed']==1][age_cols].sum()"
      ]
    },
    {
      "cell_type": "code",
      "execution_count": 16,
      "metadata": {
        "colab": {
          "base_uri": "https://localhost:8080/",
          "height": 507
        },
        "id": "vN5nCdRMOSe0",
        "outputId": "47ce555c-5dde-41bd-c30d-348757d67427"
      },
      "outputs": [
        {
          "output_type": "display_data",
          "data": {
            "text/plain": [
              "<Figure size 640x480 with 1 Axes>"
            ],
            "image/png": "[encoded data removed]"
          },
          "metadata": {}
        }
      ],
      "source": [
        "ax = df[df['offer completed']==1][age_cols].sum()\n",
        "ax.plot(kind='bar')\n",
        "plt.ylabel('Number of Profiles')\n",
        "plt.xlabel('Ages')\n",
        "plt.title('Age Distribution');"
      ]
    },
    {
      "cell_type": "markdown",
      "source": [
        "Clients' ages are between 18 and 111 but the majority of clients who completed the offer were between 50 and 69 years old"
      ],
      "metadata": {
        "id": "o68XouduZHZG"
      }
    },
    {
      "cell_type": "markdown",
      "source": [
        "####3. What is the proportion of client who have completed the offers based on their Income Level?\n"
      ],
      "metadata": {
        "id": "9ynz4jxqZMmf"
      }
    },
    {
      "cell_type": "code",
      "execution_count": 17,
      "metadata": {
        "colab": {
          "base_uri": "https://localhost:8080/"
        },
        "id": "HHbxB5CBOSe0",
        "outputId": "a3368e99-be23-4e7a-96a7-34988618912e"
      },
      "outputs": [
        {
          "output_type": "execute_result",
          "data": {
            "text/plain": [
              "count    100370.000000\n",
              "mean      64063.614626\n",
              "std       21233.118681\n",
              "min       30000.000000\n",
              "25%       48000.000000\n",
              "50%       62000.000000\n",
              "75%       77000.000000\n",
              "max      120000.000000\n",
              "Name: income, dtype: float64"
            ]
          },
          "metadata": {},
          "execution_count": 17
        }
      ],
      "source": [
        "df['income'].describe()"
      ]
    },
    {
      "cell_type": "code",
      "execution_count": 18,
      "metadata": {
        "id": "sreXFLXcOSe1"
      },
      "outputs": [],
      "source": [
        "# Specifying income range and one hot encoding\n",
        "income_range = pd.cut(df['income'],[30000, 50000, 70000, 90000, 110000,  130000], labels=['30K-50K','50K-70K','70K-90K','90K-110K','110K-130K'])\n",
        "income_dummies = pd.get_dummies(income_range)\n",
        "\n",
        "df = pd.concat([df, income_dummies], axis=1, sort=False)\n",
        "df.drop([\"income\"], axis=1, inplace=True)"
      ]
    },
    {
      "cell_type": "code",
      "execution_count": 19,
      "metadata": {
        "colab": {
          "base_uri": "https://localhost:8080/"
        },
        "id": "LI0f9QSuOSe1",
        "outputId": "8d14d0b1-619f-476a-a36d-33352785150b"
      },
      "outputs": [
        {
          "output_type": "execute_result",
          "data": {
            "text/plain": [
              "30K-50K      1945\n",
              "50K-70K      3239\n",
              "70K-90K      2811\n",
              "90K-110K     1431\n",
              "110K-130K     413\n",
              "dtype: int64"
            ]
          },
          "metadata": {},
          "execution_count": 19
        }
      ],
      "source": [
        "income_cols=['30K-50K','50K-70K','70K-90K','90K-110K','110K-130K']\n",
        "df[df['offer completed']==1][income_cols].sum()"
      ]
    },
    {
      "cell_type": "code",
      "execution_count": 20,
      "metadata": {
        "colab": {
          "base_uri": "https://localhost:8080/",
          "height": 532
        },
        "id": "6deodwTMOSe2",
        "outputId": "21ab9670-0a5c-49e5-bea0-0e5f012f468d"
      },
      "outputs": [
        {
          "output_type": "display_data",
          "data": {
            "text/plain": [
              "<Figure size 640x480 with 1 Axes>"
            ],
            "image/png": "[encoded data removed]"
          },
          "metadata": {}
        }
      ],
      "source": [
        "ax = df[df['offer completed']==1][income_cols].sum()\n",
        "ax.plot(kind='bar')\n",
        "plt.ylabel('Number of Profiles')\n",
        "plt.xlabel('Incomes ranges')\n",
        "plt.title('Income Distribution for those who compeleted the offer');"
      ]
    },
    {
      "cell_type": "markdown",
      "source": [
        "####4. What is the proportion of client who have completed the offers based on offer type?"
      ],
      "metadata": {
        "id": "5cFHEpXoZUg2"
      }
    },
    {
      "cell_type": "code",
      "execution_count": 21,
      "metadata": {
        "colab": {
          "base_uri": "https://localhost:8080/"
        },
        "id": "xn7m1gskOSe2",
        "outputId": "f4e6a164-5aba-4078-9e15-dd27c149c4ea"
      },
      "outputs": [
        {
          "output_type": "execute_result",
          "data": {
            "text/plain": [
              "bogo             24437\n",
              "discount         23671\n",
              "informational     9321\n",
              "Name: offer_type, dtype: int64"
            ]
          },
          "metadata": {},
          "execution_count": 21
        }
      ],
      "source": [
        "df.offer_type.value_counts()"
      ]
    },
    {
      "cell_type": "code",
      "execution_count": 22,
      "metadata": {
        "colab": {
          "base_uri": "https://localhost:8080/"
        },
        "id": "mfJAxtCVOSe2",
        "outputId": "82aa4c28-2bc9-4486-d1f4-219b9aea8ecd"
      },
      "outputs": [
        {
          "output_type": "execute_result",
          "data": {
            "text/plain": [
              "discount    5360\n",
              "bogo        4807\n",
              "Name: offer_type, dtype: int64"
            ]
          },
          "metadata": {},
          "execution_count": 22
        }
      ],
      "source": [
        "df[df['offer completed']==1].offer_type.value_counts()"
      ]
    },
    {
      "cell_type": "code",
      "execution_count": 23,
      "metadata": {
        "colab": {
          "base_uri": "https://localhost:8080/",
          "height": 517
        },
        "id": "zHZ1ttn_OSe2",
        "outputId": "607d1de5-3513-4b58-ae35-01736b6705a9"
      },
      "outputs": [
        {
          "output_type": "display_data",
          "data": {
            "text/plain": [
              "<Figure size 640x480 with 1 Axes>"
            ],
            "image/png": "[encoded data removed]"
          },
          "metadata": {}
        }
      ],
      "source": [
        "ax = df[df['offer completed']==1].offer_type.value_counts()\n",
        "ax.plot(kind='bar')\n",
        "plt.ylabel('Number of Profiles')\n",
        "plt.xlabel('Offer Type')\n",
        "plt.title('Offer Type');"
      ]
    },
    {
      "cell_type": "code",
      "execution_count": 24,
      "metadata": {
        "id": "G5Q090a-OSe3"
      },
      "outputs": [],
      "source": [
        "dummy_offer = pd.get_dummies(df['offer_type'])\n",
        "df = pd.concat([df, dummy_offer], axis=1)\n",
        "df.drop(columns='offer_type',inplace=True)"
      ]
    },
    {
      "cell_type": "code",
      "execution_count": 25,
      "metadata": {
        "id": "sqj_xPelOSe3"
      },
      "outputs": [],
      "source": [
        "dummy_gender = pd.get_dummies(df['gender'])\n",
        "df = pd.concat([df, dummy_gender], axis=1)\n",
        "df.drop(columns='gender',inplace=True)"
      ]
    },
    {
      "cell_type": "markdown",
      "metadata": {
        "id": "mJMKTpsTOSe3"
      },
      "source": [
        "# **Data preparation for the Model**"
      ]
    },
    {
      "cell_type": "code",
      "execution_count": 26,
      "metadata": {
        "colab": {
          "base_uri": "https://localhost:8080/"
        },
        "id": "lEptDr4ZOSe3",
        "outputId": "9bd170b0-1042-4d06-f36f-c20f48e09ba1"
      },
      "outputs": [
        {
          "output_type": "execute_result",
          "data": {
            "text/plain": [
              "Index(['customer_id', 'time', 'offer_id', 'amount', 'offer completed',\n",
              "       'offer received', 'offer viewed', 'transaction', 'difficulty',\n",
              "       'duration', 'reward', 'email', 'mobile', 'social', 'web',\n",
              "       'became_member_on', '18-24', '25-30', '31-39', '40-49', '50-59',\n",
              "       '60-69', '70-79', '80-111', '30K-50K', '50K-70K', '70K-90K', '90K-110K',\n",
              "       '110K-130K', 'bogo', 'discount', 'informational', 'F', 'M', 'O'],\n",
              "      dtype='object')"
            ]
          },
          "metadata": {},
          "execution_count": 26
        }
      ],
      "source": [
        "df.columns"
      ]
    },
    {
      "cell_type": "code",
      "execution_count": 27,
      "metadata": {
        "id": "HCBOepLdOSe3"
      },
      "outputs": [],
      "source": [
        "# Since we are interested in offer completion , lets remove other attributes before going on to create a model\n",
        "df = df.drop([\"offer received\", 'offer viewed', 'transaction', \"became_member_on\",\"customer_id\",\"offer_id\"], axis=1)"
      ]
    },
    {
      "cell_type": "code",
      "execution_count": 28,
      "metadata": {
        "colab": {
          "base_uri": "https://localhost:8080/"
        },
        "id": "HGel2WcvOSe3",
        "outputId": "d5910ba9-011b-4e96-936b-fe9eca72b175"
      },
      "outputs": [
        {
          "output_type": "execute_result",
          "data": {
            "text/plain": [
              "time                   0\n",
              "amount             57429\n",
              "offer completed        0\n",
              "difficulty         55295\n",
              "duration           55295\n",
              "reward             55295\n",
              "email              55295\n",
              "mobile             55295\n",
              "social             55295\n",
              "web                55295\n",
              "18-24                  0\n",
              "25-30                  0\n",
              "31-39                  0\n",
              "40-49                  0\n",
              "50-59                  0\n",
              "60-69                  0\n",
              "70-79                  0\n",
              "80-111                 0\n",
              "30K-50K                0\n",
              "50K-70K                0\n",
              "70K-90K                0\n",
              "90K-110K               0\n",
              "110K-130K              0\n",
              "bogo                   0\n",
              "discount               0\n",
              "informational          0\n",
              "F                      0\n",
              "M                      0\n",
              "O                      0\n",
              "dtype: int64"
            ]
          },
          "metadata": {},
          "execution_count": 28
        }
      ],
      "source": [
        "#We can see that amount_invalid column has missing data. Since it is so 'sparse' for BOGO offers, it might not have much information after all. We assess this feature again later during the model implementation phase. For now, we fill the missing amount_invalid column with 0.\n",
        "df.isnull().sum()"
      ]
    },
    {
      "cell_type": "code",
      "execution_count": 29,
      "metadata": {
        "id": "aLgsP9wSOSe4"
      },
      "outputs": [],
      "source": [
        "# fill missing values for amount_invalid with 0\n",
        "df[\"amount\"].fillna(value=0, inplace = True)\n",
        "df.dropna(inplace=True)"
      ]
    },
    {
      "cell_type": "code",
      "execution_count": 30,
      "metadata": {
        "id": "qmhhdPlqOSe4"
      },
      "outputs": [],
      "source": [
        "#define target and feature\n",
        "X = df.drop([\"offer completed\"], axis=1) #features\n",
        "Y = df[\"offer completed\"] #target"
      ]
    },
    {
      "cell_type": "markdown",
      "source": [
        "Before processing the learning model, first we need to split our data into training and testing datasets. model_pipeline is a function that receives features and target as input and split them into training and testing features and targets"
      ],
      "metadata": {
        "id": "8NmEFTIxPUeV"
      }
    },
    {
      "cell_type": "code",
      "execution_count": 31,
      "metadata": {
        "id": "lQyC4o4_OSe4"
      },
      "outputs": [],
      "source": [
        "def model_pipeline(features,target):\n",
        "    '''\n",
        "    inputs:\n",
        "    - features & target dataframe \n",
        "    \n",
        "    outputs:\n",
        "    - Splits features and target dataframe to train and test sets, performs feature scaling on both datasets.\n",
        "    - Outputs X_train, X_test, y_train and y_test dataframes\n",
        "    '''\n",
        "    \n",
        "    #split into training and test sets\n",
        "    X_train, X_test, y_train, y_test = train_test_split(features,target, test_size=0.20, random_state=42)\n",
        "\n",
        "    #fit and transform scaling on training data\n",
        "    scaler=StandardScaler()\n",
        "    X_train=scaler.fit_transform(X_train)\n",
        "\n",
        "    #scale test data\n",
        "    X_test=scaler.transform(X_test)\n",
        "    return X_train,X_test,y_train, y_test"
      ]
    },
    {
      "cell_type": "code",
      "execution_count": 32,
      "metadata": {
        "id": "exzBLAnFOSe4"
      },
      "outputs": [],
      "source": [
        "#Standardize and split dataset\n",
        "\n",
        "X_train,X_test,y_train, y_test = model_pipeline(X,Y)"
      ]
    },
    {
      "cell_type": "markdown",
      "source": [
        "After splitting our data, we feed them to a learning function."
      ],
      "metadata": {
        "id": "xm9wsjwhPn3d"
      }
    },
    {
      "cell_type": "code",
      "execution_count": 33,
      "metadata": {
        "id": "iqgqELyTOSe5"
      },
      "outputs": [],
      "source": [
        "def model_learning(model, X_train, y_train, X_test, y_test):\n",
        "    '''\n",
        "    inputs:\n",
        "       - model: the learning algorithm to be trained\n",
        "       - X_train: features training set\n",
        "       - y_train: target training set\n",
        "       - X_test: features testing set\n",
        "       - y_test: target testing set for\n",
        "    \n",
        "    outputs:\n",
        "    - the learning model\n",
        "    - ypred: the predicted values\n",
        "    '''\n",
        "    #Fit the learner to the training data\n",
        "    model = model.fit(X_train,y_train)\n",
        "    \n",
        "    predictions_train = model.predict(X_train)\n",
        "    \n",
        "    #predictions on the test set\n",
        "    ypred = model.predict(X_test)\n",
        "    \n",
        "    print(\"{} trained on {} samples.\".format(model.__class__.__name__, len(y_train)))\n",
        "    print(\"MSE_train: %.3f\" % mean_squared_error(y_train,predictions_train))\n",
        "    print(\"MSE_test: %.3f\" % mean_squared_error(y_test,ypred))\n",
        "    print(\"Training accuracy:%.3f\" % model.score(X_train,y_train))\n",
        "    print(\"Test accuracy:%.3f\" % model.score(X_test,y_test))\n",
        "    print(classification_report(y_test, ypred,digits=3))\n",
        "    return ypred"
      ]
    },
    {
      "cell_type": "code",
      "source": [
        "In our case, we choose 3 models: Radial SVM, Linear regression and Decision Tree Classifier as they are ideal for binary classification tasks.\n",
        "In the other hand, our data is imbalanced so both accuracy and f1 score are implemented as model evaluation metrics."
      ],
      "metadata": {
        "id": "-84PMv7OP1cP"
      },
      "execution_count": null,
      "outputs": []
    },
    {
      "cell_type": "markdown",
      "metadata": {
        "id": "zmFcvwrxOSe5"
      },
      "source": [
        "**Radial Support Vector Machines(rbf-SVM)**"
      ]
    },
    {
      "cell_type": "code",
      "execution_count": 34,
      "metadata": {
        "colab": {
          "base_uri": "https://localhost:8080/"
        },
        "id": "ziezb_9MOSe5",
        "outputId": "fba2c8f4-9e0e-4975-afee-fcc988b029c5"
      },
      "outputs": [
        {
          "output_type": "stream",
          "name": "stdout",
          "text": [
            "SVC trained on 45943 samples.\n",
            "MSE_train: 0.177\n",
            "MSE_test: 0.176\n",
            "Training accuracy:0.823\n",
            "Test accuracy:0.824\n",
            "              precision    recall  f1-score   support\n",
            "\n",
            "           0      0.825     0.999     0.904      9472\n",
            "           1      0.125     0.000     0.001      2014\n",
            "\n",
            "    accuracy                          0.824     11486\n",
            "   macro avg      0.475     0.500     0.452     11486\n",
            "weighted avg      0.702     0.824     0.745     11486\n",
            "\n"
          ]
        }
      ],
      "source": [
        "model = svm.SVC(kernel='rbf',C=1,gamma=0.1)\n",
        "y_svm = model_learning (model, X_train, y_train, X_test, y_test)"
      ]
    },
    {
      "cell_type": "markdown",
      "metadata": {
        "id": "E0YKLkD4OSe6"
      },
      "source": [
        "**Logistic Regression**"
      ]
    },
    {
      "cell_type": "code",
      "execution_count": 36,
      "metadata": {
        "colab": {
          "base_uri": "https://localhost:8080/"
        },
        "id": "Giz65xk8OSe6",
        "outputId": "04beb74d-07c5-4030-a3a8-e16058f562db"
      },
      "outputs": [
        {
          "output_type": "stream",
          "name": "stdout",
          "text": [
            "LogisticRegression trained on 45943 samples.\n",
            "MSE_train: 0.181\n",
            "MSE_test: 0.179\n",
            "Training accuracy:0.819\n",
            "Test accuracy:0.821\n",
            "              precision    recall  f1-score   support\n",
            "\n",
            "           0      0.825     0.995     0.902      9472\n",
            "           1      0.188     0.006     0.012      2014\n",
            "\n",
            "    accuracy                          0.821     11486\n",
            "   macro avg      0.506     0.500     0.457     11486\n",
            "weighted avg      0.713     0.821     0.746     11486\n",
            "\n"
          ]
        }
      ],
      "source": [
        "model = LogisticRegression()\n",
        "ypred_lr = model_learning (model, X_train, y_train, X_test, y_test)"
      ]
    },
    {
      "cell_type": "markdown",
      "metadata": {
        "id": "ygvFhHNzOSe6"
      },
      "source": [
        "**Decision Tree Classifier**"
      ]
    },
    {
      "cell_type": "code",
      "execution_count": 37,
      "metadata": {
        "colab": {
          "base_uri": "https://localhost:8080/"
        },
        "id": "HbVVUmQHOSe6",
        "outputId": "0d078d7d-dd22-462c-d5d6-234b3b45c870"
      },
      "outputs": [
        {
          "output_type": "stream",
          "name": "stdout",
          "text": [
            "DecisionTreeClassifier trained on 45943 samples.\n",
            "MSE_train: 0.066\n",
            "MSE_test: 0.165\n",
            "Training accuracy:0.934\n",
            "Test accuracy:0.835\n",
            "              precision    recall  f1-score   support\n",
            "\n",
            "           0      0.880     0.927     0.903      9472\n",
            "           1      0.539     0.404     0.462      2014\n",
            "\n",
            "    accuracy                          0.835     11486\n",
            "   macro avg      0.710     0.665     0.682     11486\n",
            "weighted avg      0.820     0.835     0.825     11486\n",
            "\n"
          ]
        }
      ],
      "source": [
        "model = DecisionTreeClassifier()\n",
        "ypred_dtc = model_learning (model, X_train, y_train, X_test, y_test)"
      ]
    },
    {
      "cell_type": "markdown",
      "source": [
        "When comparing the 3 trained models, we notice that all of them give good results but the decision tree model performs better than the two others (Training accuracy:0.934 vs 0.819 and 0.823 for Linear regression and rbf_svm respectively). This motivates us to apply Grid search algorithm to decision tree model to further improve the results "
      ],
      "metadata": {
        "id": "up3e-1yCR-2t"
      }
    },
    {
      "cell_type": "markdown",
      "metadata": {
        "id": "HNEnfn6kOSe6"
      },
      "source": [
        "#### Grid Search to discover optimal parameters"
      ]
    },
    {
      "cell_type": "code",
      "execution_count": 38,
      "metadata": {
        "id": "yiKJUDOrOSe7"
      },
      "outputs": [],
      "source": [
        "#define Grid Search function\n",
        "def Decision_Tree_param_selection(X_train ,y_train):\n",
        "    '''\n",
        "    input:\n",
        "    - X_train,y_train: training datasets features and target\n",
        "    output:\n",
        "    - dictionary with best parameters for Decision Tree model\n",
        "    '''\n",
        "    pipe = Pipeline(steps=[('std_slc',StandardScaler()),\n",
        "                           ('pca', decomposition.PCA()),\n",
        "                           ('dec_tree', DecisionTreeClassifier())])\n",
        "\n",
        "    parameters = dict(pca__n_components=list(range(1,X.shape[1]+1,1)),\n",
        "                      dec_tree__criterion=['gini', 'entropy'],\n",
        "                      dec_tree__max_depth=[2,4,6,8,10,12])\n",
        "\n",
        "    clf_GS = GridSearchCV(pipe, parameters)\n",
        "    clf_GS.fit(X_train, y_train)\n",
        "    print(clf_GS.best_params_)\n",
        "    \n",
        "    return clf_GS"
      ]
    },
    {
      "cell_type": "code",
      "execution_count": 39,
      "metadata": {
        "colab": {
          "base_uri": "https://localhost:8080/"
        },
        "id": "DkqcTe-0OSe7",
        "outputId": "c2d3a46b-4ef9-4530-e4e2-84dcb4bd5498"
      },
      "outputs": [
        {
          "output_type": "stream",
          "name": "stdout",
          "text": [
            "{'dec_tree__criterion': 'entropy', 'dec_tree__max_depth': 10, 'pca__n_components': 26}\n"
          ]
        }
      ],
      "source": [
        "#best_param_model = Decision_Tree_param_selection(X_train, y_train)\n",
        "cv = Decision_Tree_param_selection(X_train, y_train)"
      ]
    },
    {
      "cell_type": "markdown",
      "metadata": {
        "id": "wslJw03SOSe7"
      },
      "source": [
        "Now that we selected the best parameters leading to best result, we predict again our test set to get prediction values"
      ]
    },
    {
      "cell_type": "code",
      "execution_count": 40,
      "metadata": {
        "id": "afiaMGQIOSe7"
      },
      "outputs": [],
      "source": [
        "y_pred_best = cv.predict(X_test)"
      ]
    },
    {
      "cell_type": "code",
      "execution_count": 41,
      "metadata": {
        "colab": {
          "base_uri": "https://localhost:8080/"
        },
        "id": "7vsisgk7OSe7",
        "outputId": "2c2bdb56-ba42-44ba-ab9f-1f4ebb633949"
      },
      "outputs": [
        {
          "output_type": "stream",
          "name": "stdout",
          "text": [
            "MSE_test: 0.156\n",
            "Test accuracy:0.844\n",
            "              precision    recall  f1-score   support\n",
            "\n",
            "           0      0.896     0.917     0.906      9472\n",
            "           1      0.561     0.501     0.530      2014\n",
            "\n",
            "    accuracy                          0.844     11486\n",
            "   macro avg      0.729     0.709     0.718     11486\n",
            "weighted avg      0.838     0.844     0.840     11486\n",
            "\n"
          ]
        }
      ],
      "source": [
        "print(\"MSE_test: %.3f\" % mean_squared_error(y_test,y_pred_best))\n",
        "print(\"Test accuracy:%.3f\" % (y_pred_best == y_test).mean())\n",
        "print(classification_report(y_test, y_pred_best,digits=3))"
      ]
    },
    {
      "cell_type": "markdown",
      "source": [
        "After applying the grid search, we remark that the performance is slightly better (Grid Search Test accuracy:0.844 vs Random parameters Test accuracy:0.835)"
      ],
      "metadata": {
        "id": "Z4tpMN-NTfcl"
      }
    },
    {
      "cell_type": "markdown",
      "source": [
        "# **Conclusion**"
      ],
      "metadata": {
        "id": "gbCogSugUwt8"
      }
    },
    {
      "cell_type": "markdown",
      "source": [
        "\n",
        "\n",
        "*   During this Udacity Capstone project from Starbucks data, we worked with 3 data files in form of json that consists on portfolio data, profile data and transcript data.\n",
        "\n",
        "*   We explored the Starbuck’s Dataset which records how people make purchasing decisions and how those decisions are influenced by promotional offers.(Buy one get one, Discount and informational).\n",
        "\n",
        "\n",
        "**Our focus during this project was on answering the following questions:**\n",
        "\n",
        "\n",
        "1.   What is the proportion of client who have completed the offers based on Gender?\n",
        "2.   What is the proportion of client who have completed the offers based on their Age?\n",
        "3.   What is the proportion of client who have completed the offers based on their Income Level?\n",
        "4.   What is the proportion of client who have completed the offers based on offer type?\n",
        "\n",
        "\n",
        "We began this project by first exploring, cleaning the data, merging the three data before proceeding to find answers to our primarily driven queries.\n",
        "\n",
        "\n",
        "\n",
        "*   For questions(1-3): we found that \"The clients who have completed the offer are male and female. Most clients are in the age range from 29-69 but the big range is between 50-69 years old. Most of the clients who completed their offer have  incomme in the range between 50K- 90K\".\n",
        "\n",
        "*   For (Q4) we found out that most clients who had completed their offer received Discount offer. None of them get Informational offer.\n",
        "\n",
        "\n",
        "During the ML part, creating a supervised model able to predict effectively if the client will complete his offer was challenging. We choose to apply 3 models(Decision Tree Classifier, Linear regression model and RBF-SVM model).\n",
        "\n",
        "We compared the performances of these models and found out that Decision Tree Classifier performs better. So we decided to further investigate this model and applied grid search algorithm in order to optimize the obtained results.\n",
        "\n",
        "Overall, I found this project challenging, mainly due to the structure of the data in the transcript dataset."
      ],
      "metadata": {
        "id": "vvLt7HOoTJjo"
      }
    },
    {
      "cell_type": "markdown",
      "source": [
        "# **Further Improvements and Experimentation**"
      ],
      "metadata": {
        "id": "peZJDTI1Uq2M"
      }
    },
    {
      "cell_type": "markdown",
      "source": [
        "Due to time reasons, I couldn't get a chance to try some other enhancement in the step of model tuning. For example, I can test more ML algorithm so better results can be achieved, also, I can do some more experiment on feature engineering step to see if any other new features can improve the model, espcially in the term of reducing some features to see how it will affect the model performance.\n"
      ],
      "metadata": {
        "id": "jfv-QaMNUocV"
      }
    }
  ],
  "metadata": {
    "kernelspec": {
      "display_name": "Python 3",
      "language": "python",
      "name": "python3"
    },
    "language_info": {
      "codemirror_mode": {
        "name": "ipython",
        "version": 3
      },
      "file_extension": ".py",
      "mimetype": "text/x-python",
      "name": "python",
      "nbconvert_exporter": "python",
      "pygments_lexer": "ipython3",
      "version": "3.6.3"
    },
    "colab": {
      "provenance": []
    }
  },
  "nbformat": 4,
  "nbformat_minor": 0
}